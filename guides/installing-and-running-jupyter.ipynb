{
 "cells": [
  {
   "cell_type": "markdown",
   "metadata": {},
   "source": [
    "# Installing and Running Jupyter\n",
    "## Install\n",
    "To install and run [Jupyter](https://jupyter.org/index.html) Python 2.7 or Python 3.3 or greater is required. Jupyter can be installed using pip as follows:\n",
    "```shell\n",
    "pip install jupyter\n",
    "```\n",
    "This should take care of the entire installation. In case anything is unclear please refer to the [Jupyter Getting Started](https://jupyter.org/install) guide.\n",
    "\n",
    "## Run\n",
    "Once installed navigate to the desired directory in your preferred terminal and boot the Jupyter notebook using the following command:\n",
    "```shell\n",
    "jupyter notebook\n",
    "```\n",
    "This will boot the notebook service locally on the machine. When it is done loading it will automatically open a tab in the browser to the Jupyter dashboard. In this dashboard it is possible to create, view and edit notebooks in the directory (and subdirectories) Jupyter was booted. When the dashboard is not opened automatically check in the terminal if the boot was succesfull. If so, look in the logs which port was used and browse to the following URL: http://localhost:PORTHERE/tree.\n",
    "\n",
    "If you wish to run Jupyter differently or in case anything is unclear please refer to the [Running the Notebook](https://jupyter.readthedocs.io/en/latest/running.html#running) guide.\n",
    "\n",
    "### Running notebook with tokes, on (ubuntu) linux\n",
    "Start as usual:\n",
    "\n",
    "```shell\n",
    "jupyter notebook\n",
    "```\n",
    "\n",
    "In another window, type:\n",
    "\n",
    "```shell\n",
    "jupyter notebook list\n",
    "```\n",
    "\n",
    "This gives a local URL \n",
    "\n",
    "http://localhost:8888/?token=...\n",
    "\n",
    "Opening that URL gives access.\n",
    "\n",
    "## Addition: nbinteract\n",
    "To extract a Jupyter notebook to HTML with all of the interactivity it is required to install [nbinteract](https://www.nbinteract.com/index.html). This can be done using pip:\n",
    "```shell\n",
    "pip install nbinteract\n",
    "```\n",
    "In case it is your first time using nbinteract in your repository you will need to initialize nbinteract in the top directory of the repository. Open a terminal and navigate to this directory and execute the following command:\n",
    "```shell\n",
    "nbinteract init\n",
    "```\n",
    "**Important:** This init command only needs to be run *once* and the resulting files need to be committed and pushed. Once these files are in the remote repository others do *not* need to run the command.\n",
    "\n",
    "To set up a similar repository like this one which consists of HTML generated from notebooks please refer to the [Setting up GitHub Pages](https://www.nbinteract.com/tutorial/tutorial_github_setup.html) tutorial.\n",
    "\n",
    "**Note:** To use the [nbconv.sh](https://github.com/larsvanarragon/spr-companion/blob/master/tools/convnb.sh) script in this repository nbinteract is required.\n",
    "\n",
    "## Useful links\n",
    "- [Simple interactive webpage tutorial](https://www.nbinteract.com/tutorial/tutorial_interact.html)\n",
    "- [Publishing an interactive webpage](https://www.nbinteract.com/tutorial/tutorial_publishing.html)\n",
    "- [Jupyter widget list](https://ipywidgets.readthedocs.io/en/latest/examples/Widget%20List.html)\n",
    "- [Examples for interactive outputs](https://ipywidgets.readthedocs.io/en/latest/examples/Output%20Widget.html)\n"
   ]
  },
  {
   "cell_type": "code",
   "execution_count": null,
   "metadata": {},
   "outputs": [],
   "source": []
  }
 ],
 "metadata": {
  "kernelspec": {
   "display_name": "Python 3",
   "language": "python",
   "name": "python3"
  },
  "language_info": {
   "codemirror_mode": {
    "name": "ipython",
    "version": 3
   },
   "file_extension": ".py",
   "mimetype": "text/x-python",
   "name": "python",
   "nbconvert_exporter": "python",
   "pygments_lexer": "ipython3",
   "version": "3.6.6"
  }
 },
 "nbformat": 4,
 "nbformat_minor": 2
}
