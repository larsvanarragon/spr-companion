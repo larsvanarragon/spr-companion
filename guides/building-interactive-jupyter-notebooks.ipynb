{
 "cells": [
  {
   "cell_type": "markdown",
   "metadata": {},
   "source": [
    "# Jupyter Example Interactive Notebook\n",
    "This Notebook contains different examples for ways to create an interactive online companion.\n",
    "\n",
    "## Introduction\n",
    "The aim of this notebook is to show how to export any kind of Jupyter notebook using nbinteract to HTML, interactivity and all. Furthermore it will include several useful examples and tricks to make the most of an interactive notebook.\n",
    "\n",
    "## Contents\n",
    "1. [Interactive Latex](#Interactive-Latex)\n",
    "    1. [Forcing MathJax updates](#Forcing-MathJax-updates)\n",
    "    2. [Examples](#Examples)\n",
    "    3. [Drawing TikZ pictures](#Drawing-TikZ-pictures)\n",
    "2. [Disabling code input blocks](#Disabling-code-input-blocks)\n",
    "3. [The convnb script](#The-convnb-script)\n",
    "4. [Best practice for code cells](#Best-practice-for-code-cells)\n",
    "\n",
    "## Interactive Latex\n",
    "To deepen a reader's understanding of some equation or formula it is preferable that they are able to interact with it. This could easily be achieved by just simply having them fill in some input boxes and then show an output. However, it looks more professional if they can see the Latex change in front of their eyes. The following text and pieces of code will outline how to achieve this in Jupyter using nbinteract.\n",
    "\n",
    "### Forcing MathJax updates\n",
    "When exporting a notebook that contains some Latex that you update dynamically with nbinteract it will not actually render the Latex representation but rather show you the actual code. This is because MathJax, the Javascript library that Jupyter uses to render the math, is never notified of updates your interactive code produces. To make sure MathJax is updates whenever the output of your Python code changes we add the following Javascript to every notebook:"
   ]
  },
  {
   "cell_type": "code",
   "execution_count": 7,
   "metadata": {},
   "outputs": [
    {
     "data": {
      "text/html": [
       "<script type=\"text/javascript\">\n",
       "    $('body').on(\"DOMSubtreeModified\", function() {\n",
       "        MathJax.Hub.Queue([\"Typeset\", MathJax.Hub, this]);\n",
       "    });\n",
       "</script>"
      ],
      "text/plain": [
       "<IPython.core.display.HTML object>"
      ]
     },
     "execution_count": 7,
     "metadata": {},
     "output_type": "execute_result"
    }
   ],
   "source": [
    "from IPython.display import HTML\n",
    "\n",
    "HTML('''<script type=\"text/javascript\">\n",
    "    $('body').on(\"DOMSubtreeModified\", function() {\n",
    "        MathJax.Hub.Queue([\"Typeset\", MathJax.Hub, this]);\n",
    "    });\n",
    "</script>''')"
   ]
  },
  {
   "cell_type": "markdown",
   "metadata": {},
   "source": [
    "**Important**\n",
    "\n",
    "In case you are using the convnb script (explanation in a later section) this cell will not be necessary since the script adds this statically to the generated HTML. When you are not using convnb you need to add a valid jQuery source to the top of the head of the generated HTML. This is because nbinteracts conversion does not provide you with it automatically and the above script will not work if it's not added.\n",
    "\n",
    "### Examples\n",
    "Now, we can use the following code to generate a simple two to the power of $x$ function we can observe the Latex gets rerendered everytime we change $x$."
   ]
  },
  {
   "cell_type": "code",
   "execution_count": 1,
   "metadata": {},
   "outputs": [
    {
     "data": {
      "application/vnd.jupyter.widget-view+json": {
       "model_id": "ec754baced7f4ab0b97a53e36f1519bd",
       "version_major": 2,
       "version_minor": 0
      },
      "text/plain": [
       "IntSlider(value=3, max=30, min=1)"
      ]
     },
     "metadata": {},
     "output_type": "display_data"
    },
    {
     "data": {
      "application/vnd.jupyter.widget-view+json": {
       "model_id": "6b7b722a9766421191a23762cd5c281e",
       "version_major": 2,
       "version_minor": 0
      },
      "text/plain": [
       "Output()"
      ]
     },
     "metadata": {},
     "output_type": "display_data"
    }
   ],
   "source": [
    "import ipywidgets as w\n",
    "import IPython.display as d\n",
    "import numpy as np\n",
    "\n",
    "isl = w.IntSlider(\n",
    "    value=3,\n",
    "    min=1,\n",
    "    max=30\n",
    ")\n",
    "\n",
    "def disp(x):\n",
    "    d.display(d.Latex(\"$2^{\" + str(x) + \"} = \" + str(np.power(2, x)) + \"$\"))\n",
    "    \n",
    "    \n",
    "output = w.interactive_output(disp, {'x': isl})\n",
    "d.display(isl, output)"
   ]
  },
  {
   "cell_type": "markdown",
   "metadata": {},
   "source": [
    "This is a rather simple example but the concept is quite powerfull. As a bit bigger example consider example 1.5.1 from the book [Structured Probabilistic Reasoning](http://www.cs.ru.nl/B.Jacobs/PAPERS/ProbabilisticReasoning.pdf) by Bart Jacobs where the following function is introduced:\n",
    "\n",
    "$$flip(r) := r|1\\rangle + (1-r)|0\\rangle$$\n",
    "\n",
    "Here $1$ and $0$ can be viewed as 'Heads' and 'Tails' for a coin flip. Later the book introduces a corresponding bar graph. These can be combined and made interactive in the following way:"
   ]
  },
  {
   "cell_type": "code",
   "execution_count": 2,
   "metadata": {},
   "outputs": [
    {
     "data": {
      "application/vnd.jupyter.widget-view+json": {
       "model_id": "da9516fc913c42e28c9509d8d98df0ac",
       "version_major": 2,
       "version_minor": 0
      },
      "text/plain": [
       "VBox(children=(interactive(children=(FloatSlider(value=0.51, description='$$r:=$$', max=1.0, step=0.01), Outpu…"
      ]
     },
     "metadata": {},
     "output_type": "display_data"
    }
   ],
   "source": [
    "from ipywidgets import interactive_output, FloatSlider\n",
    "from decimal import *\n",
    "import IPython.display as d\n",
    "import nbinteract as nbi\n",
    "import numpy as np\n",
    "\n",
    "# Round down decimals to 2 positions\n",
    "getcontext().prec = 2\n",
    "\n",
    "rSlider = FloatSlider(\n",
    "    value=0.51,\n",
    "    min=0,\n",
    "    max=1,\n",
    "    step=0.01,\n",
    "    description='$$r:=$$'\n",
    ")\n",
    "\n",
    "options = {\n",
    "    'title': 'Heads or Tails',\n",
    "    'xlabel': '',\n",
    "    'ylabel': 'Chance between 0 and 1 with 1 being 100%',\n",
    "    'ylim': (0.00, 1.01)\n",
    "}\n",
    "\n",
    "def flip(_, r):\n",
    "    d.display(d.Latex(r'''$$flip(''' + str(r) + ''') := ''' +\n",
    "                      str(r) + r'''|H\\rangle + ''' + str(Decimal(1.0)-Decimal(r)) + r'''|T\\rangle$$'''))\n",
    "    return (float(Decimal(r)), (float(Decimal(1.0)-Decimal(r))))\n",
    "\n",
    "nbi.bar(['Heads', 'Tails'], flip, r=rSlider, options=options)"
   ]
  },
  {
   "cell_type": "markdown",
   "metadata": {},
   "source": [
    "As shown above, this is very powerful and can be used to show a great number of examples and equations.\n",
    "\n",
    "### Drawing TikZ pictures \n",
    "It is possible in both a notebook and its HTML extract to draw TikZ pictures using the [TikZJax](https://github.com/kisonecat/tikzjax) library. When only using the HTML extract of a notebook, the convnb script will add the necessary code to the page. If you want to use it inside of a notebook you will need to add the custom.js file located in tools/custom-jupyter-javascript to your ~/.jupyter/custom folder. This javascript contains the necessary machinery that rerenders the TikZ code to a picture.\n",
    "\n",
    "As with forcing MathJax to automatically update in the HTML when you are using the nbconv script the same machinery that is in this cutom.js file will be added to the HTML.\n",
    "\n",
    "**Warning:**\n",
    "TikZJax is limited in what it can and can't do. Be careful to **always** check that your TikZ picture code compiles on its own, without using additional TikZ packages. For additional information go to https://github.com/larsvanarragon/spr-companion/tree/master/tools/custom-jupyter-javascript.\n",
    "\n",
    "#### Drawing a simple circle\n",
    "To create a TikZ picture within the notebook simply add a code cell to your notebook that displays and HTML script tag containing the type text/tikz and correct TikZ code. To draw a simple circle your script tag should look as follows:\n",
    "\n",
    "```html\n",
    "<script type=\"text/tikz\">\n",
    "  \\begin{tikzpicture}\n",
    "    \\draw (0,0) circle (1in);\n",
    "  \\end{tikzpicture}\n",
    "</script>\n",
    "```\n",
    "\n",
    "You can update this HTML by using an interactive output from nbinteract. The machinery in custom.js will detect the new script tag and render it to a picture.\n",
    "\n",
    "#### Using TikZIt\n",
    "In case you are using TikZit and have several styles that you'd like your picture to have you will have to add these to the picture locally. This means instead of doing:\n",
    "\n",
    "```\n",
    "\\tikzstyle{style name}=[some property=x, other=y]\n",
    "\\tikzstyle{another}=[prop=x]\n",
    "```\n",
    "\n",
    "You should convert it to:\n",
    "\n",
    "```\n",
    "\\begin{tikzpicture}[\n",
    "        style name/.style={some property=x, other=y},\n",
    "        another/.style={prop=x}]\n",
    "        ...\n",
    "\\end{tikzpicutre}\n",
    "```\n",
    "\n",
    "**Note:** Do not use the property 'tikzit category', TikZJax can't handle this.\n",
    "\n",
    "**Note:** A conversion of the styles used in the book can be found both in the example below and in tools/tikz-supplements.\n",
    "\n",
    "#### Example from the book\n",
    "Using the techniques described above we can draw figure 1.4 from the book as follows:"
   ]
  },
  {
   "cell_type": "code",
   "execution_count": 5,
   "metadata": {},
   "outputs": [
    {
     "data": {
      "text/html": [
       "\n",
       "<link rel=\"stylesheet\" type=\"text/css\" href=\"http://tikzjax.com/v1/fonts.css\">\n",
       "<script type=\"text/tikz\">\n",
       "    \\begin{tikzpicture}[\n",
       "        none/.style={},\n",
       "        white dot/.style={inner sep=0mm, minimum size=1.5mm, draw=black, shape=circle, text depth=-0.2mm, draw=black, fill=white},\n",
       "        black dot/.style={inner sep=0mm, minimum size=1.5mm, draw=black, shape=circle, draw=black, fill=black},\n",
       "        observed/.style={inner sep=0mm, minimum size=5mm, draw=black, shape=circle, text depth=-0.2mm, draw=white, tikzit draw=gray, fill=white},\n",
       "        latent/.style={inner sep=0mm, minimum size=5mm, draw=black, shape=circle, text depth=-0.2mm, draw=black, fill=white},\n",
       "        small box/.style={shape=rectangle, text height=1.5ex, text depth=0.25ex, yshift=0.5mm, fill=white, draw=black, minimum height=6mm, yshift=-0.5mm, minimum width=6mm, font={\\Large}},\n",
       "        medium box/.style={shape=rectangle, draw=black, fill=white, small box, minimum width=8mm},\n",
       "        semilarge box/.style={shape=rectangle, draw=black, fill=white, small box, minimum width=12.5mm},\n",
       "        large box/.style={shape=rectangle, draw=black, fill=white, small box, minimum width=15mm},\n",
       "        upground/.style={circuit ee IEC, thick, ground, rotate=90, scale=1.5, inner sep=-2mm, tikzit shape=circle, tikzit fill=blue},\n",
       "        downground/.style={circuit ee IEC, thick, ground, rotate=-90, scale=1.5, inner sep=-2mm, tikzit shape=circle, tikzit fill=green},\n",
       "        point/.style={regular polygon, regular polygon sides=3, draw, scale=0.75, inner sep=-0.5pt, minimum width=9mm, fill=white, regular polygon rotate=180},\n",
       "        copoint/.style={regular polygon, regular polygon sides=3, draw, scale=0.75, inner sep=-0.5pt, minimum width=9mm, fill=white},\n",
       "        uniform/.style={point, fill=gray, tikzit shape=circle, scale=0.5},\n",
       "        label/.style={font={\\footnotesize}, text height=1.5ex, text depth=0.25ex, tikzit draw=blue, tikzit fill=white},\n",
       "        left label/.style={label, anchor=east, xshift=2mm, tikzit draw=green, tikzit fill=white},\n",
       "        right label/.style={label, anchor=west, xshift=-2mm, tikzit draw=purple, tikzit fill=white},\n",
       "        disintegration/.style={draw=black, fill={gray!50}, tikzit fill=gray, shape=rectangle, minimum width=1.6cm, minimum height=1.2cm, opacity=0.3},\n",
       "        empty diag/.style={shape=rectangle, draw=darkgray, dashed, minimum width=8mm, minimum height=8mm, yshift=0.5mm},\n",
       "        diredge/.style={->, >=latex},\n",
       "        dashed edge/.style={-, dashed}]\n",
       "\n",
       "        \\node [style=black dot] (2) at (0, -2) {};\n",
       "        \\node [style=semilarge box] (4) at (-1.75, 0.5) {sprinkler};\n",
       "        \\node [style=large box] (6) at (-1.5, 3.25) {wet grass};\n",
       "        \\node [style=black dot] (8) at (1.5, 1.5) {};\n",
       "        \\node [style=medium box] (9) at (1.5, 0) {rain};\n",
       "        \\node [style=medium box] (10) at (0, -3.5) {winter};\n",
       "        \\node [style=none] (11) at (1.5, 0.5) {};\n",
       "        \\node [style=none] (12) at (1.5, -0.5) {};\n",
       "        \\node [style=none] (13) at (-1.75, 0) {};\n",
       "        \\node [style=none] (14) at (2.25, 2.75) {};\n",
       "        \\node [style=none] (15) at (-1, 2.75) {};\n",
       "        \\node [style=none] (16) at (-1.75, 2.75) {};\n",
       "        \\node [style=none] (17) at (-1.75, 1) {};\n",
       "        \\node [style=none] (18) at (-1.5, 4.75) {};\n",
       "        \\node [style=none] (20) at (-0.5, -2.25) {$A$};\n",
       "        \\node [style=none] (21) at (-2.25, 1.75) {$B$};\n",
       "        \\node [style=none] (22) at (2, 1.25) {$C$};\n",
       "        \\node [style=none] (23) at (-2, 4.5) {$D$};\n",
       "        \\node [style=none] (24) at (2.75, 4.5) {$E$};\n",
       "        \\node [style=medium box] (25) at (2.25, 3.25) {slippery road};\n",
       "        \\node [style=none] (26) at (2.25, 4.75) {};\n",
       "        \\draw [style=diredge] (10) to (2);\n",
       "        \\draw [style=diredge, in=-90, out=45, looseness=0.75] (2) to (12.center);\n",
       "        \\draw [style=diredge, in=-90, out=135, looseness=0.75] (2) to (13.center);\n",
       "        \\draw [style=diredge] (11.center) to (8);\n",
       "        \\draw [style=diredge, in=-90, out=90, looseness=0.75] (17.center) to (16.center);\n",
       "        \\draw [style=diredge, in=-90, out=135, looseness=0.75] (8) to (15.center);\n",
       "        \\draw [style=diredge, in=-90, out=60, looseness=0.75] (8) to (14.center);\n",
       "        \\draw [style=diredge] (6) to (18.center);\n",
       "        \\draw [style=diredge] (25) to (26.center);\n",
       "    \\end{tikzpicture}\n",
       "</script>\n"
      ],
      "text/plain": [
       "<IPython.core.display.HTML object>"
      ]
     },
     "execution_count": 5,
     "metadata": {},
     "output_type": "execute_result"
    }
   ],
   "source": [
    "from IPython.display import HTML\n",
    "\n",
    "HTML(r'''\n",
    "<link rel=\"stylesheet\" type=\"text/css\" href=\"http://tikzjax.com/v1/fonts.css\">\n",
    "<script type=\"text/tikz\">\n",
    "    \\begin{tikzpicture}[\n",
    "        none/.style={},\n",
    "        white dot/.style={inner sep=0mm, minimum size=1.5mm, draw=black, shape=circle, text depth=-0.2mm, draw=black, fill=white},\n",
    "        black dot/.style={inner sep=0mm, minimum size=1.5mm, draw=black, shape=circle, draw=black, fill=black},\n",
    "        observed/.style={inner sep=0mm, minimum size=5mm, draw=black, shape=circle, text depth=-0.2mm, draw=white, tikzit draw=gray, fill=white},\n",
    "        latent/.style={inner sep=0mm, minimum size=5mm, draw=black, shape=circle, text depth=-0.2mm, draw=black, fill=white},\n",
    "        small box/.style={shape=rectangle, text height=1.5ex, text depth=0.25ex, yshift=0.5mm, fill=white, draw=black, minimum height=6mm, yshift=-0.5mm, minimum width=6mm, font={\\Large}},\n",
    "        medium box/.style={shape=rectangle, draw=black, fill=white, small box, minimum width=8mm},\n",
    "        semilarge box/.style={shape=rectangle, draw=black, fill=white, small box, minimum width=12.5mm},\n",
    "        large box/.style={shape=rectangle, draw=black, fill=white, small box, minimum width=15mm},\n",
    "        upground/.style={circuit ee IEC, thick, ground, rotate=90, scale=1.5, inner sep=-2mm, tikzit shape=circle, tikzit fill=blue},\n",
    "        downground/.style={circuit ee IEC, thick, ground, rotate=-90, scale=1.5, inner sep=-2mm, tikzit shape=circle, tikzit fill=green},\n",
    "        point/.style={regular polygon, regular polygon sides=3, draw, scale=0.75, inner sep=-0.5pt, minimum width=9mm, fill=white, regular polygon rotate=180},\n",
    "        copoint/.style={regular polygon, regular polygon sides=3, draw, scale=0.75, inner sep=-0.5pt, minimum width=9mm, fill=white},\n",
    "        uniform/.style={point, fill=gray, tikzit shape=circle, scale=0.5},\n",
    "        label/.style={font={\\footnotesize}, text height=1.5ex, text depth=0.25ex, tikzit draw=blue, tikzit fill=white},\n",
    "        left label/.style={label, anchor=east, xshift=2mm, tikzit draw=green, tikzit fill=white},\n",
    "        right label/.style={label, anchor=west, xshift=-2mm, tikzit draw=purple, tikzit fill=white},\n",
    "        disintegration/.style={draw=black, fill={gray!50}, tikzit fill=gray, shape=rectangle, minimum width=1.6cm, minimum height=1.2cm, opacity=0.3},\n",
    "        empty diag/.style={shape=rectangle, draw=darkgray, dashed, minimum width=8mm, minimum height=8mm, yshift=0.5mm},\n",
    "        diredge/.style={->, >=latex},\n",
    "        dashed edge/.style={-, dashed}]\n",
    "\n",
    "        \\node [style=black dot] (2) at (0, -2) {};\n",
    "        \\node [style=semilarge box] (4) at (-1.75, 0.5) {sprinkler};\n",
    "        \\node [style=large box] (6) at (-1.5, 3.25) {wet grass};\n",
    "        \\node [style=black dot] (8) at (1.5, 1.5) {};\n",
    "        \\node [style=medium box] (9) at (1.5, 0) {rain};\n",
    "        \\node [style=medium box] (10) at (0, -3.5) {winter};\n",
    "        \\node [style=none] (11) at (1.5, 0.5) {};\n",
    "        \\node [style=none] (12) at (1.5, -0.5) {};\n",
    "        \\node [style=none] (13) at (-1.75, 0) {};\n",
    "        \\node [style=none] (14) at (2.25, 2.75) {};\n",
    "        \\node [style=none] (15) at (-1, 2.75) {};\n",
    "        \\node [style=none] (16) at (-1.75, 2.75) {};\n",
    "        \\node [style=none] (17) at (-1.75, 1) {};\n",
    "        \\node [style=none] (18) at (-1.5, 4.75) {};\n",
    "        \\node [style=none] (20) at (-0.5, -2.25) {$A$};\n",
    "        \\node [style=none] (21) at (-2.25, 1.75) {$B$};\n",
    "        \\node [style=none] (22) at (2, 1.25) {$C$};\n",
    "        \\node [style=none] (23) at (-2, 4.5) {$D$};\n",
    "        \\node [style=none] (24) at (2.75, 4.5) {$E$};\n",
    "        \\node [style=medium box] (25) at (2.25, 3.25) {slippery road};\n",
    "        \\node [style=none] (26) at (2.25, 4.75) {};\n",
    "        \\draw [style=diredge] (10) to (2);\n",
    "        \\draw [style=diredge, in=-90, out=45, looseness=0.75] (2) to (12.center);\n",
    "        \\draw [style=diredge, in=-90, out=135, looseness=0.75] (2) to (13.center);\n",
    "        \\draw [style=diredge] (11.center) to (8);\n",
    "        \\draw [style=diredge, in=-90, out=90, looseness=0.75] (17.center) to (16.center);\n",
    "        \\draw [style=diredge, in=-90, out=135, looseness=0.75] (8) to (15.center);\n",
    "        \\draw [style=diredge, in=-90, out=60, looseness=0.75] (8) to (14.center);\n",
    "        \\draw [style=diredge] (6) to (18.center);\n",
    "        \\draw [style=diredge] (25) to (26.center);\n",
    "    \\end{tikzpicture}\n",
    "</script>\n",
    "''')"
   ]
  },
  {
   "cell_type": "markdown",
   "metadata": {},
   "source": [
    "## Disabling code input blocks\n",
    "It is not always desirable to show all of the code blocks when the aim is to explain some math problem. Luckily it is quite simple to write some code to hide these from the reader. This can be done as follows:"
   ]
  },
  {
   "cell_type": "code",
   "execution_count": 6,
   "metadata": {},
   "outputs": [
    {
     "data": {
      "text/html": [
       "<script>\n",
       "    code_show=false; \n",
       "    function code_toggle() {\n",
       "        if (code_show){\n",
       "            $('div.input').hide();\n",
       "        } else {\n",
       "            $('div.input').show();\n",
       "        }\n",
       "        code_show = !code_show\n",
       "    } \n",
       "    $( document ).ready(code_toggle);\n",
       "</script>\n",
       "<form action=\"javascript:code_toggle()\">\n",
       "    <input type=\"submit\" value=\"Toggle input code\">\n",
       "</form>"
      ],
      "text/plain": [
       "<IPython.core.display.HTML object>"
      ]
     },
     "execution_count": 6,
     "metadata": {},
     "output_type": "execute_result"
    }
   ],
   "source": [
    "from IPython.display import HTML\n",
    "\n",
    "HTML('''<script>\n",
    "    code_show=false; \n",
    "    function code_toggle() {\n",
    "        if (code_show){\n",
    "            $('div.input').hide();\n",
    "        } else {\n",
    "            $('div.input').show();\n",
    "        }\n",
    "        code_show = !code_show\n",
    "    } \n",
    "    $( document ).ready(code_toggle);\n",
    "</script>\n",
    "<form action=\"javascript:code_toggle()\">\n",
    "    <input type=\"submit\" value=\"Toggle input code\">\n",
    "</form>''')"
   ]
  },
  {
   "cell_type": "markdown",
   "metadata": {},
   "source": [
    "In theory this button could be placed anywhere where it is desirable, just apply some CSS.\n",
    "\n",
    "## The convnb script\n",
    "When following the examples that are described in this notebook it may be quite tedious to keep having to add jQuery and the Javascript to continuously update the MathJax equations. To automate this we introduce the [convnb](https://github.com/larsvanarragon/nbinteract-tutorial/blob/master/convnb.sh) script. This small script takes care of those little tasks. It can be called in the following way:\n",
    "```shell\n",
    "./convnb.sh path/to/jupyter/notebook.ipynb\n",
    "```\n",
    "The script generates an HTML file containing all necessary code which can be placed on Github pages.\n",
    "\n",
    "\n",
    "## Best practice for code cells\n",
    "Within the notebook, the cells that contain the Python code are executed within the same kernel and can affect each others state. For some uses of a notebook this comes in handy, however, for creating multiple self contained examples in a notebook this means that having duplicate names for functions and variables can affect the behavior of other examples. To make sure that each example is self contained, it is recommended to apply the following structure to your code cells:\n",
    "```python\n",
    "# Do all imports again for each self contained example, this gives clarity to what libraries you use\n",
    "import library\n",
    "\n",
    "# Prefix all global variables with a unique name\n",
    "# For this you can use the abbreviation of the name of the example\n",
    "# E.g. bpfcc for 'Best practice for code cells'\n",
    "bpfcc_var1 = someValue\n",
    "bpfcc_var2 = False\n",
    "\n",
    "# Again prefix all global function\n",
    "# Arguments and local variables do not need these prefixes\n",
    "def bpfcc_fun_1(arg1, arg2):\n",
    "    r = arg1 + arg2\n",
    "    return r\n",
    "```\n",
    "The display capabilities of the notebook usually require a display function for an interactive output. It is very common to only globally have to define the framework for displaying the example and have all the computations done locally within the display function.\n",
    "\n",
    "**Note:** In case you are unsure whether your code cell can be run independently press the \"restart kernel\" button within the notebook and run only this cell when it has restarted. If the cell is not self contained this will produce a Python error.\n",
    "\n",
    "To limit what a user of your examples can do it is recommended to use sliders for the values of the variables that you would like to have interactable. This way the user can quickly observe what the limitations are by just clicking and dragging instead of having to type the values to guess what the limits are. There are ofcourse cases where an input field is preferred, in this case it is recommended to state in the text surrounding the example what the limits are."
   ]
  }
 ],
 "metadata": {
  "kernelspec": {
   "display_name": "Python 3",
   "language": "python",
   "name": "python3"
  },
  "language_info": {
   "codemirror_mode": {
    "name": "ipython",
    "version": 3
   },
   "file_extension": ".py",
   "mimetype": "text/x-python",
   "name": "python",
   "nbconvert_exporter": "python",
   "pygments_lexer": "ipython3",
   "version": "3.6.6"
  }
 },
 "nbformat": 4,
 "nbformat_minor": 2
}
