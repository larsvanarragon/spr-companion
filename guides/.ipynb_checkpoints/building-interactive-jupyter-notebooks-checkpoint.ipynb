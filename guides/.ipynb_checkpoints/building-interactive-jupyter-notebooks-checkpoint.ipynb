{
 "cells": [
  {
   "cell_type": "markdown",
   "metadata": {},
   "source": [
    "# Jupyter Example Interactive Notebook\n",
    "This Notebook contains different examples for ways to create an interactive online companion.\n",
    "\n",
    "## Introduction\n",
    "The aim of this notebook is to show how to export any kind of Jupyter notebook using nbinteract to HTML, interactivity and all. Furthermore it will include several useful examples and tricks to make the most of an interactive notebook.\n",
    "\n",
    "## Interactive Latex\n",
    "To deepen a reader's understanding of some equation or formula it is preferable that they are able to interact with it. This could easily be achieved by just simply having them fill in some input boxes and then show an output. However, it looks more professional if they can see the Latex change in front of their eyes. The following text and pieces of code will outline how to achieve this in Jupyter using nbinteract.\n",
    "\n",
    "### Forcing MathJax updates\n",
    "When exporting a notebook that contains some Latex that you update dynamically with nbinteract it will not actually render the Latex representation but rather show you the actual code. This is because MathJax, the Javascript library that Jupyter uses to render the math, is never notified of updates your interactive code produces. To make sure MathJax is updates whenever the output of your Python code changes we add the following Javascript to every notebook:"
   ]
  },
  {
   "cell_type": "code",
   "execution_count": 2,
   "metadata": {},
   "outputs": [
    {
     "data": {
      "text/html": [
       "<script type=\"text/javascript\">\n",
       "    $('body').on(\"DOMSubtreeModified\", function() {\n",
       "        MathJax.Hub.Queue([\"Typeset\", MathJax.Hub, this]);\n",
       "    });\n",
       "</script>"
      ],
      "text/plain": [
       "<IPython.core.display.HTML object>"
      ]
     },
     "execution_count": 2,
     "metadata": {},
     "output_type": "execute_result"
    }
   ],
   "source": [
    "from IPython.display import HTML\n",
    "\n",
    "HTML('''<script type=\"text/javascript\">\n",
    "    $('body').on(\"DOMSubtreeModified\", function() {\n",
    "        MathJax.Hub.Queue([\"Typeset\", MathJax.Hub, this]);\n",
    "    });\n",
    "</script>''')"
   ]
  },
  {
   "cell_type": "markdown",
   "metadata": {},
   "source": [
    "**Important**\n",
    "\n",
    "In case you are using the convnb script (explanation in a later section) this cell will not be necessary since the script adds this statically to the generated HTML. When you are not using convnb you need to add a valid jQuery source to the top of the head of the generated HTML. This is because nbinteracts conversion does not provide you with it automatically and the above script will not work if it's not added.\n",
    "\n",
    "### Examples\n",
    "Now, we can use the following code to generate a simple two to the power of $x$ function we can observe the Latex gets rerendered everytime we change $x$."
   ]
  },
  {
   "cell_type": "code",
   "execution_count": 1,
   "metadata": {},
   "outputs": [
    {
     "data": {
      "application/vnd.jupyter.widget-view+json": {
       "model_id": "fe04f5b6024447b580a78e8bd40244d9",
       "version_major": 2,
       "version_minor": 0
      },
      "text/plain": [
       "IntSlider(value=3, max=30, min=1)"
      ]
     },
     "metadata": {},
     "output_type": "display_data"
    },
    {
     "data": {
      "application/vnd.jupyter.widget-view+json": {
       "model_id": "ec3b9276593f455299024325c0334b19",
       "version_major": 2,
       "version_minor": 0
      },
      "text/plain": [
       "Output()"
      ]
     },
     "metadata": {},
     "output_type": "display_data"
    }
   ],
   "source": [
    "import ipywidgets as w\n",
    "import IPython.display as d\n",
    "import numpy as np\n",
    "\n",
    "isl = w.IntSlider(\n",
    "    value=3,\n",
    "    min=1,\n",
    "    max=30\n",
    ")\n",
    "\n",
    "def disp(x):\n",
    "    d.display(d.Latex(\"$2^{\" + str(x) + \"} = \" + str(np.power(2, x)) + \"$\"))\n",
    "    \n",
    "    \n",
    "output = w.interactive_output(disp, {'x': isl})\n",
    "d.display(isl, output)"
   ]
  },
  {
   "cell_type": "markdown",
   "metadata": {},
   "source": [
    "This is a rather simple example but the concept is quite powerfull. As a bit bigger example consider example 1.5.1 from the book [Structured Probabilistic Reasoning](http://www.cs.ru.nl/B.Jacobs/PAPERS/ProbabilisticReasoning.pdf) by Bart Jacobs where the following function is introduced:\n",
    "\n",
    "$$flip(r) := r|1\\rangle + (1-r)|0\\rangle$$\n",
    "\n",
    "Here $1$ and $0$ can be viewed as 'Heads' and 'Tails' for a coin flip. Later the book introduces a corresponding bar graph. These can be combined and made interactive in the following way:"
   ]
  },
  {
   "cell_type": "code",
   "execution_count": 84,
   "metadata": {},
   "outputs": [
    {
     "data": {
      "application/vnd.jupyter.widget-view+json": {
       "model_id": "801db15fcd324716a9b5c593cf1f8de7",
       "version_major": 2,
       "version_minor": 0
      },
      "text/plain": [
       "VBox(children=(interactive(children=(FloatSlider(value=0.51, description='$$r:=$$', max=1.0, step=0.01), Outpu…"
      ]
     },
     "metadata": {},
     "output_type": "display_data"
    }
   ],
   "source": [
    "from ipywidgets import interactive_output, FloatSlider\n",
    "from decimal import *\n",
    "import IPython.display as d\n",
    "import nbinteract as nbi\n",
    "import numpy as np\n",
    "\n",
    "# Round down decimals to 2 positions\n",
    "getcontext().prec = 2\n",
    "\n",
    "rSlider = FloatSlider(\n",
    "    value=0.51,\n",
    "    min=0,\n",
    "    max=1,\n",
    "    step=0.01,\n",
    "    description='$$r:=$$'\n",
    ")\n",
    "\n",
    "options = {\n",
    "    'title': 'Heads or Tails',\n",
    "    'xlabel': '',\n",
    "    'ylabel': 'Chance between 0 and 1 with 1 being 100%',\n",
    "    'ylim': (0.00, 1.01)\n",
    "}\n",
    "\n",
    "def flip(_, r):\n",
    "    d.display(d.Latex(r'''$$flip(''' + str(r) + ''') := ''' +\n",
    "                      str(r) + r'''|H\\rangle + ''' + str(Decimal(1.0)-Decimal(r)) + r'''|T\\rangle$$'''))\n",
    "    return (float(Decimal(r)), (float(Decimal(1.0)-Decimal(r))))\n",
    "\n",
    "nbi.bar(['Heads', 'Tails'], flip, r=rSlider, options=options)"
   ]
  },
  {
   "cell_type": "markdown",
   "metadata": {},
   "source": [
    "As shown above, this is very powerful and can be used to show a great number of examples and equations.\n",
    "\n",
    "## Disabling code input blocks\n",
    "It is not always desirable to show all of the code blocks when the aim is to explain some math problem. Luckily it is quite simple to write some code to hide these from the reader. This can be done as follows:"
   ]
  },
  {
   "cell_type": "code",
   "execution_count": 52,
   "metadata": {},
   "outputs": [
    {
     "data": {
      "text/html": [
       "<script>\n",
       "    code_show=false; \n",
       "    function code_toggle() {\n",
       "        if (code_show){\n",
       "            $('div.input').hide();\n",
       "        } else {\n",
       "            $('div.input').show();\n",
       "        }\n",
       "        code_show = !code_show\n",
       "    } \n",
       "    $( document ).ready(code_toggle);\n",
       "</script>\n",
       "<form action=\"javascript:code_toggle()\">\n",
       "    <input type=\"submit\" value=\"Toggle input code\">\n",
       "</form>"
      ],
      "text/plain": [
       "<IPython.core.display.HTML object>"
      ]
     },
     "execution_count": 52,
     "metadata": {},
     "output_type": "execute_result"
    }
   ],
   "source": [
    "from IPython.display import HTML\n",
    "\n",
    "HTML('''<script>\n",
    "    code_show=false; \n",
    "    function code_toggle() {\n",
    "        if (code_show){\n",
    "            $('div.input').hide();\n",
    "        } else {\n",
    "            $('div.input').show();\n",
    "        }\n",
    "        code_show = !code_show\n",
    "    } \n",
    "    $( document ).ready(code_toggle);\n",
    "</script>\n",
    "<form action=\"javascript:code_toggle()\">\n",
    "    <input type=\"submit\" value=\"Toggle input code\">\n",
    "</form>''')"
   ]
  },
  {
   "cell_type": "markdown",
   "metadata": {},
   "source": [
    "In theory this button could be placed anywhere where it is desirable, just apply some CSS.\n",
    "\n",
    "## The convnb script\n",
    "When following the examples that are described in this notebook it may be quite tedious to keep having to add jQuery and the Javascript to continuously update the MathJax equations. To automate this we introduce the [convnb](https://github.com/larsvanarragon/nbinteract-tutorial/blob/master/convnb.sh) script. This small script takes care of those little tasks. It can be called in the following way:\n",
    "```shell\n",
    "./convnb.sh path/to/jupyter/notebook.ipynb\n",
    "```\n",
    "The script generates an HTML file containing all necessary code which can be placed on Github pages.\n",
    "\n"
   ]
  }
 ],
 "metadata": {
  "kernelspec": {
   "display_name": "Python 3",
   "language": "python",
   "name": "python3"
  },
  "language_info": {
   "codemirror_mode": {
    "name": "ipython",
    "version": 3
   },
   "file_extension": ".py",
   "mimetype": "text/x-python",
   "name": "python",
   "nbconvert_exporter": "python",
   "pygments_lexer": "ipython3",
   "version": "3.6.6"
  }
 },
 "nbformat": 4,
 "nbformat_minor": 2
}
