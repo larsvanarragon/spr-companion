{
 "cells": [
  {
   "cell_type": "code",
   "execution_count": 3,
   "metadata": {},
   "outputs": [
    {
     "data": {
      "application/vnd.jupyter.widget-view+json": {
       "model_id": "",
       "version_major": 2,
       "version_minor": 0
      },
      "text/plain": [
       "Button(description='Take a marble', style=ButtonStyle())"
      ]
     },
     "metadata": {},
     "output_type": "display_data"
    },
    {
     "data": {
      "application/vnd.jupyter.widget-view+json": {
       "model_id": "",
       "version_major": 2,
       "version_minor": 0
      },
      "text/plain": [
       "Output()"
      ]
     },
     "metadata": {},
     "output_type": "display_data"
    }
   ],
   "source": []
  },
  {
   "cell_type": "code",
   "execution_count": 1,
   "metadata": {},
   "outputs": [
    {
     "data": {
      "application/vnd.jupyter.widget-view+json": {
       "model_id": "9cb8247949254c23933bde60fe9af958",
       "version_major": 2,
       "version_minor": 0
      },
      "text/plain": [
       "Button(description='Take a marble', style=ButtonStyle())"
      ]
     },
     "metadata": {},
     "output_type": "display_data"
    },
    {
     "data": {
      "application/vnd.jupyter.widget-view+json": {
       "model_id": "3e75ca46044a4ce880cc3897993e7ebd",
       "version_major": 2,
       "version_minor": 0
      },
      "text/plain": [
       "Output()"
      ]
     },
     "metadata": {},
     "output_type": "display_data"
    }
   ],
   "source": [
    "from ipywidgets import Output, Button\n",
    "from IPython.display import *\n",
    "import nbinteract as nbi\n",
    "from decimal import *\n",
    "from random import randrange\n",
    "\n",
    "called = 0\n",
    "\n",
    "# grades = [(3,1),(0,2),(1,3),(1,4),(6,5),(7,6),(3,7),(3,8),(1,9),(0,10)]\n",
    "initial_bag = [(1,\"R\"),(3,\"G\"),(4,\"S\"),(4,\"B\")]\n",
    "marbles = initial_bag.copy()\n",
    "output = Output()\n",
    "\n",
    "def amounts_left(_):\n",
    "    ret = []\n",
    "    for m in marbles:\n",
    "        ret.append(m[0])\n",
    "    return ret\n",
    "\n",
    "def take_marble(bag):\n",
    "    if is_empty(bag):\n",
    "        return\n",
    "    r = randrange(4)\n",
    "    while bag[r][0] <= 0:\n",
    "        r = randrange(4)\n",
    "    bag[r] = (bag[r][0]-1,bag[r][1])\n",
    "    \n",
    "def reset():\n",
    "    global marbles\n",
    "    marbles = initial_bag\n",
    "    \n",
    "def is_empty(bag):\n",
    "    for m in bag:\n",
    "        if m[0] > 0:\n",
    "            return False\n",
    "    return True\n",
    "\n",
    "def total(bag):\n",
    "    r = 0\n",
    "    for m in bag:\n",
    "        r += m[0]\n",
    "    return r\n",
    "\n",
    "def conv_latex(bag):\n",
    "    r = r\"$\\tau = \"\n",
    "    for m in bag:\n",
    "        r += str(m[0]) + r\"|\" + m[1] + r\"\\rangle + \"\n",
    "    return r[:-3] + \"$\"\n",
    "\n",
    "def conv_normalised_latex(bag):\n",
    "    r = r\"$Flrn(\\tau) = \"\n",
    "    t = total(bag)\n",
    "    for m in bag:\n",
    "        r += str(Decimal(m[0])/Decimal(t)) + r\"|\" + m[1] + r\"\\rangle + \"\n",
    "    return r[:-3] + \"$\"\n",
    "        \n",
    "def disp_bag(b):\n",
    "    isEmpty = is_empty(marbles)\n",
    "    with output:\n",
    "        clear_output()\n",
    "        display(Latex(conv_latex(marbles)))\n",
    "        display(Latex(conv_normalised_latex(marbles)))\n",
    "\n",
    "\n",
    "button = Button(description='Take a marble', disabled=False)\n",
    "button.on_click(disp_bag)\n",
    "\n",
    "\n",
    "display(button)\n",
    "display(output)"
   ]
  },
  {
   "cell_type": "code",
   "execution_count": null,
   "metadata": {},
   "outputs": [],
   "source": []
  },
  {
   "cell_type": "code",
   "execution_count": null,
   "metadata": {},
   "outputs": [],
   "source": []
  }
 ],
 "metadata": {
  "kernelspec": {
   "display_name": "Python 3",
   "language": "python",
   "name": "python3"
  },
  "language_info": {
   "codemirror_mode": {
    "name": "ipython",
    "version": 3
   },
   "file_extension": ".py",
   "mimetype": "text/x-python",
   "name": "python",
   "nbconvert_exporter": "python",
   "pygments_lexer": "ipython3",
   "version": "3.6.6"
  }
 },
 "nbformat": 4,
 "nbformat_minor": 2
}
