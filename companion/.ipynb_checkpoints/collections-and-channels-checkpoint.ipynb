{
 "cells": [
  {
   "cell_type": "markdown",
   "metadata": {},
   "source": [
    "# Collections and Channels\n",
    "The following sections will elaborate on the basics that are covered in this chapter. It will give examples for several of the topics covered in the Collections and Channels chapter of the book. \n",
    "\n",
    "## Contents\n",
    "1. [Multisets](#Multisets)\n",
    "    1. [Simple functorality](#Simple-functorality)\n",
    "2. [Probability Distributions](#Probability-Distributions)\n",
    "    1. [Biased coin distribution](#Biased-coin-distribution)\n",
    "    2. [Biased dice functorality](#Biased-dice-functorality)\n",
    "3. [Frequentist learning](#Frequentist-learning)\n",
    "    1. [A bag of marbles](#A-bag-of-marbles)\n",
    "4. [Parallel products](#Parallel-products)\n",
    "    1. [Parallel dices](#Parallel-dices)\n",
    "2. [References](#References)\n",
    "\n",
    "\n",
    "## Multisets\n",
    "\n",
    "### Simple functorality\n",
    "Suppose we have a multiset containing several individuals of which we know their biological sex and age. The type of our multiset is then $\\mathcal{M}(G \\times A)$ where $G := \\{F,M\\}$ and $A := \\{1,...,200\\}$. Let's now take $\\tau \\in \\mathcal{M}(G \\times A)$ to be:\n",
    "\n",
    "$$\\begin{align*} \n",
    "\\tau =\\ &2|(F,14)\\rangle + 1|(F,15)\\rangle + 1|(F,17)\\rangle + 3|(F,18)\\rangle + 5|(F,20)\\rangle + 2|(F,21)\\rangle + 1|(F,23)\\rangle\\ +\\\\\n",
    "&1|(M,14)\\rangle + 1|(M,16)\\rangle + 2|(M,17)\\rangle + 1|(M,18)\\rangle + 1|(M,20)\\rangle + 1|(M,21)\\rangle\n",
    "\\end{align*}$$\n",
    "\n",
    "This $\\tau$ can represent for example the participants of a cooking course for adolescents. Now we can use the projections to show how many individuals of each gender and each age take this class:\n",
    "\n",
    "$$\\begin{align*} \n",
    "\\mathcal{M}(\\pi_1)(\\tau) &= 15|F\\rangle + 7|M\\rangle\\\\\n",
    "\\mathcal{M}(\\pi_2)(\\tau) &= 3|14\\rangle + 1|15\\rangle + 1|16\\rangle + 3|17\\rangle + 4|18\\rangle + 6|20\\rangle + 3|21\\rangle + 1|23\\rangle\n",
    "\\end{align*}$$\n",
    "\n",
    "Since a multiset is functorial we can apply a function to it using $\\mathcal{M}(f)(\\tau)$. For example we can apply a function $next$ that 'ages' the class an entire year so that each participant now is one year older.\n",
    "\n",
    "$$\\begin{align*} \n",
    "next &:: (G\\times A) \\rightarrow (G\\times A) \\\\\n",
    "next((g,a)) &= (g,a+1)\n",
    "\\end{align*}$$\n",
    "\n",
    "Let's apply the function as follows: $\\mathcal{M}(next)(\\tau)$. Pressing the button 'Next' below will apply $\\mathcal{M}(next)(\\tau)$ once. "
   ]
  },
  {
   "cell_type": "code",
   "execution_count": 1,
   "metadata": {},
   "outputs": [
    {
     "data": {
      "application/vnd.jupyter.widget-view+json": {
       "model_id": "05c937d88b794b80a2e84717276313f4",
       "version_major": 2,
       "version_minor": 0
      },
      "text/plain": [
       "Button(description='Next', style=ButtonStyle())"
      ]
     },
     "metadata": {},
     "output_type": "display_data"
    },
    {
     "data": {
      "application/vnd.jupyter.widget-view+json": {
       "model_id": "319e6e03a9e248f2b61eb41233fb55d1",
       "version_major": 2,
       "version_minor": 0
      },
      "text/plain": [
       "Output()"
      ]
     },
     "metadata": {},
     "output_type": "display_data"
    }
   ],
   "source": [
    "from ipywidgets import interactive_output, Button, Output\n",
    "import IPython.display as d\n",
    "import nbinteract as nbi\n",
    "\n",
    "M = True\n",
    "F = False\n",
    "ages = [14,15,16,17,18,19,20,21,22,23,24,25,26,27,28]\n",
    "    \n",
    "init_ms = [(2, (F, 14)), (1, (F, 15)), (1, (F, 17)), (3, (F, 18)), (5, (F, 20)), (2, (F, 21)), (1, (F, 23)),\n",
    "              (1, (M, 14)), (1, (M, 16)), (2, (M, 17)), (1, (M, 18)), (1, (M, 20)), (1, (M, 21))]\n",
    "ms = init_ms\n",
    "\n",
    "out = Output()\n",
    "b = Button(description='Next', disabled=False)\n",
    "reset = False\n",
    "\n",
    "def bool_to_gender(b):\n",
    "    if b == M:\n",
    "        return \"M\"\n",
    "    if b == F:\n",
    "        return \"F\"\n",
    "\n",
    "def heights():\n",
    "    h = []\n",
    "    for age in ages:\n",
    "        n = 0\n",
    "        for x in ms:\n",
    "            if x[1][1] == age:\n",
    "                n += x[0]\n",
    "        h.append(n)\n",
    "    return h\n",
    "\n",
    "def next_button(button):\n",
    "    global ms, reset\n",
    "    if reset:\n",
    "        button.description='Next'\n",
    "        ms = init_ms\n",
    "        reset=False\n",
    "    else:  \n",
    "        new_ms = []\n",
    "        for x in ms:\n",
    "            new_ms.append((x[0],(x[1][0], x[1][1]+1)))\n",
    "            if x[1][1]+1 == 28:\n",
    "                reset = True\n",
    "                button.description='Reset'\n",
    "        ms = new_ms\n",
    "    out.clear_output()\n",
    "    with out:\n",
    "        disp_latex()\n",
    "        d.display(nbi.bar(ages, heights()))\n",
    "    \n",
    "def disp_latex():\n",
    "    std = \"\"\n",
    "    for x in ms:\n",
    "        std += str(x[0]) + \"|(\" + bool_to_gender(x[1][0]) + \", \" + str(x[1][1]) + r\")\\rangle +\"\n",
    "    d.display(d.Latex(r\"$\\tau =\" + std[:-2] + \"$\"))\n",
    "\n",
    "b.on_click(next_button)\n",
    "d.display(b, out)\n",
    "with out:\n",
    "    disp_latex()\n",
    "    d.display(nbi.bar(ages, heights()))"
   ]
  },
  {
   "cell_type": "markdown",
   "metadata": {},
   "source": [
    "Applying $next$ to our multiset $\\tau$ only affects the age of the participants. When the button's text changes to 'Reset' pressing it will reset $\\tau$ back to the value we defined at the beginning of this example."
   ]
  },
  {
   "cell_type": "code",
   "execution_count": 28,
   "metadata": {},
   "outputs": [
    {
     "name": "stdout",
     "output_type": "stream",
     "text": [
      "0.3|R> + 0.2|G> + 0.5|B>\n"
     ]
    }
   ],
   "source": [
    "#Test cell to see how to import efprob as local library\n",
    "import os\n",
    "import sys\n",
    "module_path = os.path.abspath(os.path.join('../..'))\n",
    "if module_path not in sys.path:\n",
    "    sys.path.append(module_path)\n",
    "    \n",
    "from efprob.efprob import *\n",
    "\n",
    "rgb = State([0.3,0.2,0.5], Space(\"RGB\", ['R','G','B']))\n",
    "print( rgb )"
   ]
  },
  {
   "cell_type": "markdown",
   "metadata": {},
   "source": [
    "## Probability Distributions\n",
    "### Biased coin distribution\n",
    "A multiset can also be generated using a function. Recall example 1.5.1 from the book, it defines a function $flip$ to parameterize a bias probability. We will use the following adaptation for $flip:[0,1]\\rightarrow C$ with $C:=\\{H,T\\}$:\n",
    "\n",
    "$$flip(r) := r|H\\rangle + (1-r)|T\\rangle$$\n",
    "\n",
    "With this function a multiset can be generated that represents a biased coin toss. When $r$ changes, so do the chances of Heads or Tails. The following bar diagram shows the chances for either heads or tails, $r$ is changeable."
   ]
  },
  {
   "cell_type": "code",
   "execution_count": 2,
   "metadata": {},
   "outputs": [
    {
     "data": {
      "application/vnd.jupyter.widget-view+json": {
       "model_id": "549fcfc5594b4cd69baa75e92a5c55a3",
       "version_major": 2,
       "version_minor": 0
      },
      "text/plain": [
       "VBox(children=(interactive(children=(FloatSlider(value=0.51, description='$$r:=$$', max=1.0, step=0.01), Outpu…"
      ]
     },
     "metadata": {},
     "output_type": "display_data"
    }
   ],
   "source": [
    "from ipywidgets import interactive_output, FloatSlider\n",
    "from decimal import *\n",
    "from IPython.display import *\n",
    "import nbinteract as nbi\n",
    "\n",
    "# Round down decimals to 2 positions\n",
    "getcontext().prec = 2\n",
    "\n",
    "flip_rSlider = FloatSlider(\n",
    "    value=0.51,\n",
    "    min=0,\n",
    "    max=1,\n",
    "    step=0.01,\n",
    "    description='$$r:=$$'\n",
    ")\n",
    "\n",
    "flip_options = {\n",
    "    'title': 'Heads or Tails',\n",
    "    'xlabel': '',\n",
    "    'ylabel': 'Chance between 0 and 1 with 1 being 100%',\n",
    "    'ylim': (0.00, 1.01)\n",
    "}\n",
    "\n",
    "def flip(_, r):\n",
    "    display(Latex(r'''$$flip(''' + str(r) + ''') := ''' +\n",
    "                      str(r) + r'''|H\\rangle + ''' + str(Decimal(1.0)-Decimal(r)) + r'''|T\\rangle$$'''))\n",
    "    return (float(Decimal(r)), (float(Decimal(1.0)-Decimal(r))))\n",
    "\n",
    "nbi.bar(['Heads', 'Tails'], flip, r=flip_rSlider, options=flip_options)"
   ]
  },
  {
   "cell_type": "markdown",
   "metadata": {},
   "source": [
    "### Biased dice functorality\n",
    "Let's again look at the functorality of a multiset. Suppose we have a set that represents all sides of an ordinary $6$-sided dice, $D6 := \\{1, 2, 3, 4, 5, 6\\}$ and recall $C := \\{ H, T \\}$. Then we can define the following uniform multiset for a dice using ket-notation:\n",
    "\n",
    "$$\\begin{align*} \n",
    "\\varphi &= \\dfrac{1}{6}|1\\rangle + \\dfrac{1}{6}|2\\rangle + \\dfrac{1}{6}|3\\rangle + \\dfrac{1}{6}|4\\rangle + \\dfrac{1}{6}|5\\rangle + \\dfrac{1}{6}|6\\rangle\n",
    "\\end{align*}$$\n",
    "\n",
    "With $\\varphi \\in \\mathcal{M}(D6)$. Now suppose we have the following function $f$:\n",
    "\n",
    "$$\n",
    "\\begin{align*} \n",
    "f &: D6 \\rightarrow C  \\\\\n",
    "f(x) &= \\left\\{\n",
    "\\begin{array}{ll}\n",
    "  H\\ \\text{if}\\ x\\ \\text{is even}\\\\\n",
    "  T\\ \\text{otherwise}\n",
    "\\end{array}\n",
    "\\right.\n",
    "\\end{align*}\n",
    "$$\n",
    "\n",
    "Now since $\\mathcal{M}$ is functorial we can apply $\\mathcal{M}(f)(\\varphi)$ as following:\n",
    "\n",
    "$$\n",
    "\\begin{align*} \n",
    "    \\mathcal{M}(f)(\\varphi) &= \\mathcal{M}(f)(\\dfrac{1}{6}|1\\rangle + \\dfrac{1}{6}|2\\rangle + \\dfrac{1}{6}|3\\rangle + \\dfrac{1}{6}|4\\rangle + \\dfrac{1}{6}|5\\rangle + \\dfrac{1}{6}|6\\rangle)\\\\\n",
    "    &= \\dfrac{1}{6}|f(1)\\rangle + \\dfrac{1}{6}|f(2)\\rangle + \\dfrac{1}{6}|f(3)\\rangle + \\dfrac{1}{6}|f(4)\\rangle + \\dfrac{1}{6}|f(5)\\rangle + \\dfrac{1}{6}|f(6)\\rangle\\\\\n",
    "    &= \\dfrac{1}{6}|T\\rangle + \\dfrac{1}{6}|H\\rangle + \\dfrac{1}{6}|T\\rangle + \\dfrac{1}{6}|H\\rangle + \\dfrac{1}{6}|T\\rangle + \\dfrac{1}{6}|H\\rangle\\\\\n",
    "    &= \\dfrac{3}{6}|T\\rangle + \\dfrac{3}{6}|H\\rangle\\\\\n",
    "    &= \\dfrac{1}{2}|T\\rangle + \\dfrac{1}{2}|H\\rangle\\\\\n",
    "\\end{align*}\n",
    "$$\n",
    "\n",
    "In this case we used the left definition of $\\mathcal{M}(f)$ namely: $\\mathcal{M}(\\sum_i r_i|x_i\\rangle)$. Suppose we have a way to accurately increase the change of the dice to land on $6$. This can be represented by the following function $w:[0,5] \\rightarrow \\mathcal{M}(D6)$:\n",
    "\n",
    "$$\n",
    "w(r) = \\dfrac{1-\\dfrac{r}{5}}{6}|1\\rangle + \\dfrac{1-\\dfrac{r}{5}}{6}|2\\rangle + \\dfrac{1-\\dfrac{r}{5}}{6}|3\\rangle + \\dfrac{1-\\dfrac{r}{5}}{6}|4\\rangle + \\dfrac{1-\\dfrac{r}{5}}{6}|5\\rangle + \\dfrac{1+r}{6}|6\\rangle\n",
    "$$\n",
    "\n",
    "Since the result of $w$ is a $x\\in\\mathcal{M}(D6)$ we can apply $\\mathcal{M}(f)(x)$. This means that dependant on how weighted the dice is we have a higher change of it being even and thus a higher change to get $H$. This can be visualized as follows:"
   ]
  },
  {
   "cell_type": "code",
   "execution_count": 3,
   "metadata": {},
   "outputs": [
    {
     "data": {
      "application/vnd.jupyter.widget-view+json": {
       "model_id": "f0ec14e5f0134494817eb6a561f4fb4f",
       "version_major": 2,
       "version_minor": 0
      },
      "text/plain": [
       "VBox(children=(interactive(children=(FloatSlider(value=0.0, description='$$r:=$$', max=5.0, step=0.01), Output…"
      ]
     },
     "metadata": {},
     "output_type": "display_data"
    },
    {
     "data": {
      "application/vnd.jupyter.widget-view+json": {
       "model_id": "8dbb084cc034423585dbe6a9c3c18a2d",
       "version_major": 2,
       "version_minor": 0
      },
      "text/plain": [
       "VBox(children=(interactive(children=(FloatSlider(value=0.0, description='$$r:=$$', max=5.0, step=0.01), Output…"
      ]
     },
     "metadata": {},
     "output_type": "display_data"
    },
    {
     "data": {
      "application/vnd.jupyter.widget-view+json": {
       "model_id": "ac93507531b3406291e53ff8b764f614",
       "version_major": 2,
       "version_minor": 0
      },
      "text/plain": [
       "Output()"
      ]
     },
     "metadata": {},
     "output_type": "display_data"
    }
   ],
   "source": [
    "from ipywidgets import interactive_output, FloatSlider\n",
    "from decimal import *\n",
    "import IPython.display as d\n",
    "import nbinteract as nbi\n",
    "\n",
    "# Round down decimals to 4 positions\n",
    "getcontext().prec = 4\n",
    "\n",
    "w_rSlider = FloatSlider(\n",
    "    value=0.00,\n",
    "    min=0,\n",
    "    max=5,\n",
    "    step=0.01,\n",
    "    description='$$r:=$$'\n",
    ")\n",
    "\n",
    "coin_options = {\n",
    "    'title': 'Chance for Heads or Tails',\n",
    "    'ylabel': 'Chance between 0 and 1 with 1 being 100%',\n",
    "    'ylim': (0.00, 1.01)\n",
    "}\n",
    "\n",
    "dice_options = {\n",
    "    'title': 'Weighted 6-sided dice',\n",
    "    'ylabel': 'Chance between 0 and 1 with 1 being 100%',\n",
    "    'ylim': (0.00, 1.01)\n",
    "}\n",
    "\n",
    "def w_flip(_, r):\n",
    "    even = Decimal(0)\n",
    "    for i, val in enumerate(weighted_dice(r)):\n",
    "        if (i+1) % 2 == 0:\n",
    "            even = even + Decimal(val)\n",
    "    return (float(Decimal(1)-even),float(even))\n",
    "\n",
    "def dice(_, r):\n",
    "    ret_value = []\n",
    "    for val in weighted_dice(r):\n",
    "        ret_value.append(float(val))\n",
    "    return ret_value\n",
    "\n",
    "def weighted_dice(r):\n",
    "    ret_value = []\n",
    "    rdivfive = Decimal(r)/Decimal(5)\n",
    "    for pip in range(1,7):\n",
    "        if pip == 6:\n",
    "            ret_value.append((Decimal(1)+Decimal(r))/Decimal(6))\n",
    "        else:\n",
    "            ret_value.append((Decimal(1)-rdivfive)/Decimal(6))\n",
    "    return ret_value\n",
    "\n",
    "def w_disp(x):\n",
    "    coin = w_flip(_, x)\n",
    "    d.display(d.Latex(r\"$\\mathcal{M}(f)(w(\" + str(x) + \")) = \" + \n",
    "                          str(Decimal(coin[0]).quantize(Decimal('.001'), rounding=ROUND_HALF_DOWN)) + r\"|T\\rangle + \" +\n",
    "                          str(Decimal(coin[1]).quantize(Decimal('.001'), rounding=ROUND_HALF_DOWN)) + r\"|H\\rangle $\"))\n",
    "    \n",
    "    dice = r\"$w(\" + str(x) + \") = \"\n",
    "    for i, val in enumerate(weighted_dice(x)):\n",
    "        dice += str(val) + r\"|\" + str(i+1) + r\"\\rangle + \"\n",
    "    d.display(d.Latex(dice[:-2] + \"$\"))\n",
    "\n",
    "d.display(nbi.bar(['Tails', 'Heads'], w_flip, r=w_rSlider, options=coin_options))\n",
    "d.display(nbi.bar([1,2,3,4,5,6], dice, r=w_rSlider, options=dice_options))\n",
    "d.display(interactive_output(w_disp, {'x': w_rSlider}))\n"
   ]
  },
  {
   "cell_type": "markdown",
   "metadata": {},
   "source": [
    "## Frequentist learning\n",
    "### A bag of marbles\n",
    "Suppose we have a bag containing $12$ marbles where $1$ is red, $3$ are gold, $4$ are silver and $4$ are bronze. This bag is represented by the multiset: $\\tau = 1|R\\rangle + 3|G\\rangle + 4|S\\rangle + 4|B\\rangle$. When we now randomly take a marble from this bag we have chance to get either a red, gold, silver or bronze one. We can compute this chance by computing $Flrn(\\tau) = 0.083|R\\rangle + 0.25|G\\rangle + 0.33|S\\rangle + 0.33|B\\rangle$. However, every time we take a marble from the bag the chance for each color changes. This is illustrated below, pressing the button will take a marble from the bag according to the chances."
   ]
  },
  {
   "cell_type": "code",
   "execution_count": 4,
   "metadata": {},
   "outputs": [
    {
     "data": {
      "application/vnd.jupyter.widget-view+json": {
       "model_id": "f6fcf9bd65264eaeae902631d6b06e4c",
       "version_major": 2,
       "version_minor": 0
      },
      "text/plain": [
       "Button(description='Take a marble', style=ButtonStyle())"
      ]
     },
     "metadata": {},
     "output_type": "display_data"
    },
    {
     "data": {
      "application/vnd.jupyter.widget-view+json": {
       "model_id": "900ba48011594ad6a8d8c340fb170a3c",
       "version_major": 2,
       "version_minor": 0
      },
      "text/plain": [
       "Output()"
      ]
     },
     "metadata": {},
     "output_type": "display_data"
    }
   ],
   "source": [
    "from ipywidgets import Output, Button\n",
    "from IPython.display import *\n",
    "import nbinteract as nbi\n",
    "from decimal import *\n",
    "from random import randrange\n",
    "\n",
    "getcontext().prec = 2\n",
    "\n",
    "initial_bag = [(1,\"R\"),(3,\"G\"),(4,\"S\"),(4,\"B\")]\n",
    "marbles = initial_bag.copy()\n",
    "\n",
    "def amounts_left(_):\n",
    "    ret = []\n",
    "    for m in marbles:\n",
    "        ret.append(m[0])\n",
    "    return ret\n",
    "\n",
    "def take_marble(bag):\n",
    "    if is_empty(bag):\n",
    "        return \"None\"\n",
    "    r = randrange(1, total(bag)+1)\n",
    "    nSoFar = 0\n",
    "    i = 0\n",
    "    while r > nSoFar:\n",
    "        nSoFar += bag[i][0]\n",
    "        i += 1\n",
    "    i -= 1\n",
    "    bag[i] = (bag[i][0]-1,bag[i][1])\n",
    "    return bag[i][1]\n",
    "\n",
    "def do_button_pressed(bag, button):\n",
    "    if is_empty(bag):\n",
    "        reset_bag()\n",
    "        button.description = 'Take a marble'\n",
    "        return \"\"\n",
    "    else:\n",
    "        m = take_marble(bag)\n",
    "        if is_empty(bag):\n",
    "            button.description = 'Put the marbles back'\n",
    "        return m\n",
    "    \n",
    "def reset_bag():\n",
    "    global marbles\n",
    "    marbles = initial_bag.copy()\n",
    "    \n",
    "def is_empty(bag):\n",
    "    for m in bag:\n",
    "        if m[0] > 0:\n",
    "            return False\n",
    "    return True\n",
    "\n",
    "def total(bag):\n",
    "    r = 0\n",
    "    for m in bag:\n",
    "        r += m[0]\n",
    "    return r\n",
    "\n",
    "def conv_latex(bag):\n",
    "    r = r\"$\\tau = \"\n",
    "    for m in bag:\n",
    "        r += str(m[0]) + r\"|\" + m[1] + r\"\\rangle + \"\n",
    "    return r[:-3] + \"$\"\n",
    "\n",
    "def conv_normalised_latex(bag):\n",
    "    r = r\"$Flrn(\\tau) = \"\n",
    "    t = total(bag)\n",
    "    for m in bag:\n",
    "        div = 0\n",
    "        if not t == 0:\n",
    "            div = Decimal(m[0])/Decimal(t)\n",
    "        r += str(div) + r\"|\" + m[1] + r\"\\rangle + \"\n",
    "    return r[:-3] + \"$\"\n",
    "\n",
    "bag_output = Output()\n",
    "\n",
    "def disp_bag(b):\n",
    "    m = do_button_pressed(marbles, b)\n",
    "    with bag_output:\n",
    "        clear_output()\n",
    "        display(Latex(conv_latex(marbles)))\n",
    "        display(Latex(conv_normalised_latex(marbles)))\n",
    "        if not m == \"\":\n",
    "            display(\"Marble taken: \" + m)\n",
    "\n",
    "bag_button = Button(description='Take a marble', disabled=False)\n",
    "bag_button.on_click(disp_bag)\n",
    "\n",
    "display(bag_button, bag_output)\n",
    "with bag_output:\n",
    "    display(Latex(conv_latex(marbles)))\n",
    "    display(Latex(conv_normalised_latex(marbles)))"
   ]
  },
  {
   "cell_type": "markdown",
   "metadata": {},
   "source": [
    "## Parallel products\n",
    "### Parallel dices\n",
    "Suppose for some reason we want someone to roll a dice that contains $100$ possible numbers on it (i.e. the roller has a $1$ in $100$ chance for each number). Such dices exist, but in reality they take a while to land on a face since they are almost spherical. Let's say we don't have a $100$ sided dice, but we do have a $10$-sided dice, a d10. We can represent all faces on the dice as the following set $D10 := \\{0,1,2,3,4,5,6,7,8,9\\}$. Rolling such a dice can be represented by the following uniform probability distribution:\n",
    "\n",
    "$$\\tau = \\frac{1}{10}|0\\rangle + \\frac{1}{10}|1\\rangle + \\frac{1}{10}|2\\rangle + \\frac{1}{10}|3\\rangle + \\frac{1}{10}|4\\rangle + \\frac{1}{10}|5\\rangle + \\frac{1}{10}|6\\rangle + \\frac{1}{10}|7\\rangle + \\frac{1}{10}|8\\rangle + \\frac{1}{10}|9\\rangle$$\n",
    "\n",
    "We now want to use this dice to create a uniform probability distribution in which every possibility has a $\\frac{1}{100}$ chance. Intuitively this is easy, just roll the d10 twice and you get $100$ different combinations. In case you would like to translate this to the number sequence $[1..100]$ you can use the following:\n",
    "\n",
    "$$ \n",
    "0, 1 = 1\\\\\n",
    "0, 2 = 2\\\\\n",
    "...\\\\\n",
    "0, 9 = 9\\\\\n",
    "0, 0 = 10\\\\\n",
    "1, 1 = 11\\\\\n",
    "...\\\\\n",
    "1, 0 = 20\\\\\n",
    "9, 0 = 100\n",
    "$$\n",
    "\n",
    "To now represent this in a multiset we can compute the parallel product of $\\tau$ with itself, $\\tau \\otimes \\tau$, as follows:\n",
    "\n",
    "$$\\begin{eqnarray*}\n",
    "\\tau\\otimes\\tau &=& \\sum_{x,y} (\\tau(x) \\cdot \\tau(y))|x,y\\rangle\\\\\n",
    "&=& (\\tau(0)\\cdot\\tau(0))|0,0\\rangle + (\\tau(0)\\cdot\\tau(1))|0,1\\rangle +\\ ...\\ + (\\tau(9)\\cdot\\tau(9))|9,9\\rangle\\\\\n",
    "&=& \\frac{1}{100}|0,0\\rangle + \\frac{1}{100}|0,1\\rangle +\\ ...\\ + \\frac{1}{100}|9,9\\rangle\n",
    "\\end{eqnarray*}$$"
   ]
  },
  {
   "cell_type": "code",
   "execution_count": null,
   "metadata": {},
   "outputs": [],
   "source": []
  },
  {
   "cell_type": "code",
   "execution_count": null,
   "metadata": {},
   "outputs": [],
   "source": []
  }
 ],
 "metadata": {
  "kernelspec": {
   "display_name": "Python 3",
   "language": "python",
   "name": "python3"
  },
  "language_info": {
   "codemirror_mode": {
    "name": "ipython",
    "version": 3
   },
   "file_extension": ".py",
   "mimetype": "text/x-python",
   "name": "python",
   "nbconvert_exporter": "python",
   "pygments_lexer": "ipython3",
   "version": "3.6.6"
  }
 },
 "nbformat": 4,
 "nbformat_minor": 2
}
