{
 "cells": [
  {
   "cell_type": "markdown",
   "metadata": {},
   "source": [
    "# Collections and Channels\n",
    "This chapter will \n",
    "\n",
    "## Contents\n",
    "1. [Cartesian Products](#Cartesian-Products)\n",
    "    1. [Functions & Function Composition](#Functions-&-Function-Composition)\n",
    "    2. [Projections](#Projections)\n",
    "2. [Lists](#Lists)\n",
    "\n",
    "## Cartesian Products\n",
    "Recall that we call a pair of elements $(x_1,x_2)$ a tuple. This pair can be extended into a triple: $(x_1,x_2,x_3)$, a $4$-tuple $(x_1,x_2,x_3,x_4)$ and so on. We can create an $n$-tuple for an arbitrary $n$ amount of elements as follows:"
   ]
  },
  {
   "cell_type": "code",
   "execution_count": 1,
   "metadata": {},
   "outputs": [
    {
     "data": {
      "application/vnd.jupyter.widget-view+json": {
       "model_id": "734ac978fd0c46969d83c7f01de01eb8",
       "version_major": 2,
       "version_minor": 0
      },
      "text/plain": [
       "IntSlider(value=3, description='$n:=$', max=25, min=3)"
      ]
     },
     "metadata": {},
     "output_type": "display_data"
    },
    {
     "data": {
      "application/vnd.jupyter.widget-view+json": {
       "model_id": "cddae6699091411681523e691a89dee8",
       "version_major": 2,
       "version_minor": 0
      },
      "text/plain": [
       "Output()"
      ]
     },
     "metadata": {},
     "output_type": "display_data"
    }
   ],
   "source": [
    "import ipywidgets as w\n",
    "import IPython.display as d\n",
    "\n",
    "isl = w.IntSlider(\n",
    "    value=3,\n",
    "    min=3,\n",
    "    max=25,\n",
    "    description='$n:=$'\n",
    ")\n",
    "\n",
    "def disp(x):\n",
    "    xPair = \"\"\n",
    "    for x in range(x):\n",
    "        xPair += \"x_{\" + str(x+1) + \"},\"\n",
    "    d.display(d.Latex(\"$\" + str(x+1) + \"-tuple :=(\" + xPair[:-1] + \")$\"))\n",
    "    \n",
    "    \n",
    "output = w.interactive_output(disp, {'x': isl})\n",
    "d.display(isl, output)"
   ]
  },
  {
   "cell_type": "markdown",
   "metadata": {},
   "source": [
    "Using this we can, as seen in the book, create Cartesian products out of any $n$ amount of sets as follows:\n",
    "\n",
    "$$X_1 \\times \\dotsb \\times X_n := \\{(x_1,...,x_n)|x_1 \\in X_1\\ and\\ \\dotsb\\ and\\ x_n \\in X_n\\}$$\n",
    "\n",
    "Now let's pick an $n$ and see what happens:"
   ]
  },
  {
   "cell_type": "code",
   "execution_count": 2,
   "metadata": {},
   "outputs": [
    {
     "data": {
      "application/vnd.jupyter.widget-view+json": {
       "model_id": "882f5ccf55354a7cad6cc4c78a95f762",
       "version_major": 2,
       "version_minor": 0
      },
      "text/plain": [
       "IntSlider(value=2, description='$n:=$', max=25, min=2)"
      ]
     },
     "metadata": {},
     "output_type": "display_data"
    },
    {
     "data": {
      "application/vnd.jupyter.widget-view+json": {
       "model_id": "18c513ad4d0d47e69bbf47052ca25cee",
       "version_major": 2,
       "version_minor": 0
      },
      "text/plain": [
       "Output()"
      ]
     },
     "metadata": {},
     "output_type": "display_data"
    }
   ],
   "source": [
    "import ipywidgets as w\n",
    "import IPython.display as d\n",
    "\n",
    "isl = w.IntSlider(\n",
    "    value=2,\n",
    "    min=2,\n",
    "    max=25,\n",
    "    description='$n:=$'\n",
    ")\n",
    "\n",
    "def disp(x):\n",
    "    xPair, xCart, xIn = \"\", \"\", \"\"\n",
    "    for x in range(x):\n",
    "        xCart += \"X_{\" + str(x+1) + \"} \\\\times \"\n",
    "        xPair += \"x_{\" + str(x+1) + \"},\"\n",
    "        xIn += \"x_{\" + str(x+1) + \"} \\\\in X_{\" + str(x+1) + \"}\\ and\\ \"\n",
    "    d.display(d.Latex(\"$\" + xCart[:-7] + \":=\\{(\" + xPair[:-1] + \")|\" + xIn[:-7] + \"\\}$\"))\n",
    "    \n",
    "    \n",
    "output = w.interactive_output(disp, {'x': isl})\n",
    "d.display(isl, output)"
   ]
  },
  {
   "cell_type": "markdown",
   "metadata": {},
   "source": [
    "For when $n=3$ it is easy to think of such a Cartesian product as a point in $3$d space, or for $n=4$ a point in $4$d space. This can exactly be the case when for example $X_1 = \\dotsb = X_n = \\rm I\\!R$ (The set of all real numbers). However, when $n$ becomes bigger than 5 it is quite hard to visualize it this way. Instead, it is then possible to see such an $n$-tuple as an ordered list of $n$ elements.\n",
    "\n",
    "### Functions & Function Composition \n",
    "In Mathematics, a function $f$ from $X \\rightarrow Y$ relates all elements $x \\in X$ to exactly one other element $y\\in Y$. Common terminology is to call $X$ the domain and $Y$ the codomain. As an example the function '$square$' can be defined as follows:\n",
    "\n",
    "$$\\begin{align*} \n",
    "square &:: \\mathbb{R} \\rightarrow \\mathbb{R} \\\\\n",
    "square (x) &= x \\cdot x\n",
    "\\end{align*}$$\n",
    "\n",
    "The top line states the type of the function, it shows from what the domain and codomain of the function is. In this case both the domain and codomain are the real numbers. It is also possible to define recursive functions in this notation like so:\n",
    "\n",
    "$$\\begin{align*} \n",
    "factorial &:: \\mathbb{N} \\rightarrow \\mathbb{N} \\\\\n",
    "factorial(x) &= \n",
    "\\left\\{\n",
    "\\begin{array}{ll}\n",
    "  1\\ \\text{if}\\ n=0\\\\\n",
    "  x \\cdot factorial(x-1)\\ \\text{otherwise}\n",
    "\\end{array}\n",
    "\\right.\n",
    "\\end{align*}$$\n",
    "              \n",
    "This factorial function has as both domain and codomain the natural numbers. We usually denote a composition (i.e. a combination) of two functions with $f\\circ g$ which can intuitively be thought of as $f$ after $g$. This composition is applied to an argument as follows: $(f\\circ g)(x)$ for some $x$ which is defined as $f(g(x))$. For example\n",
    "$$\\begin{align*}\n",
    "  (square\\circ factorial)(3) &=\\\\\n",
    "  square(factorial(3)) &= \\\\\n",
    "  square(6) &= 36\n",
    "\\end{align*}$$\n",
    "Whereas if they are the other way around\n",
    "$$\\begin{align*}\n",
    "  (factorial\\circ square)(3) &=\\\\\n",
    "  factorial(square(3)) &= \\\\\n",
    "  factorial(9) &= 362880\n",
    "\\end{align*}$$\n",
    "\n",
    "### Projections\n",
    "As seen in the book, this composition is applied to projections. Take for example $1.1$ with $f_i : Y \\rightarrow X_i$ which states:\n",
    "$$\\pi_i\\circ\\langle f_1,...,f_n\\rangle=f_i$$\n",
    "Let's apply it to some element $y\\in Y$ and unfold the definitions to see exactly how this composition works.\n",
    "$$\\begin{align*}\n",
    "  (\\pi_i\\circ\\langle f_1,...,f_n\\rangle)(y) &= (\\text{by definition of }\\circ) \\\\\n",
    "  \\pi_i(\\langle f_1,...,f_n\\rangle(y)) &= (\\text{by definition of }\\langle f_1,...,f_n\\rangle)\\\\\n",
    "  \\pi_i(f_1(y),...,f_n(y)) &= (\\text{by definition of } f_i:Y\\rightarrow X_i)\\\\\n",
    "  \\pi_i(x_1,...,x_n) &= x_i\n",
    "\\end{align*}$$\n",
    "This shows that it would be equivalent to just computing $f_i(y)$.\n",
    "\n",
    "### Powers\n",
    "For powers of $X$ the book defines them as follows:\n",
    "$$X^n:=\\underbrace{X\\times \\dotsb \\times X}_{\\text{$n$ times}}=\\{(x_1,...,x_n)|x_i\\in X\\ \\text{for each}\\ i\\}$$\n",
    "This definition can be unfolded to see that the special cases $X^1$ and $X^0$ are logical consequences:"
   ]
  },
  {
   "cell_type": "code",
   "execution_count": 42,
   "metadata": {},
   "outputs": [
    {
     "data": {
      "application/vnd.jupyter.widget-view+json": {
       "model_id": "de1021e3eb3145b1bf5d08cb361e662b",
       "version_major": 2,
       "version_minor": 0
      },
      "text/plain": [
       "IntSlider(value=1, description='$n:=$', max=10)"
      ]
     },
     "metadata": {},
     "output_type": "display_data"
    },
    {
     "data": {
      "application/vnd.jupyter.widget-view+json": {
       "model_id": "27fca0f118154a11be07c6057f6add79",
       "version_major": 2,
       "version_minor": 0
      },
      "text/plain": [
       "Output()"
      ]
     },
     "metadata": {},
     "output_type": "display_data"
    }
   ],
   "source": [
    "import ipywidgets as w\n",
    "import IPython.display as d\n",
    "\n",
    "isl = w.IntSlider(\n",
    "    value=1,\n",
    "    min=0,\n",
    "    max=10,\n",
    "    description='$n:=$'\n",
    ")\n",
    "\n",
    "def disp(x):\n",
    "    # Forring over x using range changes x\n",
    "    originalX = x\n",
    "    xSet, xTuple = \"\", \"\"\n",
    "    for x in range(x):\n",
    "        xSet += \"X \\\\times \"\n",
    "        xTuple += \"x_{\" + str(x+1) + \"}, \"\n",
    "    d.display(d.Latex(r\"$X^{\" + str(originalX) + r\"}:=\\underbrace{\" + xSet[:-7] + r\"}_{\\text{\" + str(originalX) + r\" times}}=\\{(\" + xTuple[:-2] + r\")|x_i \\in X\\ \\text{for each}\\ i\\}$\"))\n",
    "    \n",
    "    \n",
    "output = w.interactive_output(disp, {'x': isl})\n",
    "d.display(isl, output)"
   ]
  },
  {
   "cell_type": "markdown",
   "metadata": {},
   "source": [
    "Observe how $X^1=X$ and $X^0=\\{()\\}$ by just applying the definition. \n",
    "\n",
    "## Lists\n",
    "Intuitively, a list is an ordered collection of elements from a certain set $X$. Another distinguishing characteristic of a list is that it can contain the same element multiple times. Suppose that $X=\\{cat,dog,bird\\}$ then a couple of example lists with elements from $X$ are:\n",
    "- $[cat]$\n",
    "- $[dog, bird]$\n",
    "- $[cat,cat,dog]$\n",
    "- $[dog,bird,cat]$\n",
    "- $[dog,bird,dog,cat,bird,dog]$\n",
    "\n",
    "As stated in the book the set of all lists over $X$ can be defined as follows:\n",
    "$$\\mathcal{L}(X):=\\bigcup\\limits_{n\\in\\mathbb{N}} X^n$$\n",
    "The $\\bigcup$ above is defined as follows:\n",
    "$$\\bigcup\\limits_{i=1}^{n} X_i := X_1 \\cup X_2 \\cup\\dotsb \\cup X_n $$\n",
    "Following this definition we get the following for the definition of lists:\n",
    "$$\\bigcup\\limits_{n\\in\\mathbb{N}} X^n = X^0 \\cup X^1 \\cup X^2 \\cup \\dotsb$$\n",
    "\n",
    "### Isomorphism\n",
    "The book shows the following equation: $\\mathcal{L}(0)\\cong 1$ which can be read as '$\\mathcal{L}(0)$ is *isomorphic* to $1$'."
   ]
  },
  {
   "cell_type": "code",
   "execution_count": null,
   "metadata": {},
   "outputs": [],
   "source": []
  },
  {
   "cell_type": "code",
   "execution_count": null,
   "metadata": {},
   "outputs": [],
   "source": []
  }
 ],
 "metadata": {
  "kernelspec": {
   "display_name": "Python 3",
   "language": "python",
   "name": "python3"
  },
  "language_info": {
   "codemirror_mode": {
    "name": "ipython",
    "version": 3
   },
   "file_extension": ".py",
   "mimetype": "text/x-python",
   "name": "python",
   "nbconvert_exporter": "python",
   "pygments_lexer": "ipython3",
   "version": "3.6.6"
  }
 },
 "nbformat": 4,
 "nbformat_minor": 2
}
