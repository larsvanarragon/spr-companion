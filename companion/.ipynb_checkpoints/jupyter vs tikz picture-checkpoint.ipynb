{
 "cells": [
  {
   "cell_type": "code",
   "execution_count": 4,
   "metadata": {},
   "outputs": [
    {
     "name": "stdout",
     "output_type": "stream",
     "text": [
      "searching for custom.js in  C:\\Users\\Lars\\.jupyter\\custom\\custom.js\n",
      "// $.ajax({\n",
      "//   url: \"http://tikzjax.com/v1/tikzjax.js\",\n",
      "//   crossDomain: true,\n",
      "//   // headers: { 'Access-Control-Allow-Origin': 'http://tikzjax.com/v1/tikzjax.js' }, \n",
      "//   dataType: 'script',\n",
      "//   cache: false,\n",
      "//   success: function(result) {\n",
      "//     console.log(result);\n",
      "//   }\n",
      "// });\n",
      "function loadScript(url, callback){\n",
      "\n",
      "  var script = document.createElement(\"script\")\n",
      "  script.type = \"text/javascript\";\n",
      "\n",
      "  if (script.readyState){  //IE\n",
      "      script.onreadystatechange = function(){\n",
      "          if (script.readyState == \"loaded\" ||\n",
      "                  script.readyState == \"complete\"){\n",
      "              script.onreadystatechange = null;\n",
      "              callback();\n",
      "          }\n",
      "      };\n",
      "  } else {  //Others\n",
      "      script.onload = function(){\n",
      "          callback();\n",
      "      };\n",
      "  }\n",
      "\n",
      "  script.src = url;\n",
      "  script.crossOrigin = \"anonymous\";\n",
      "  document.getElementsByTagName(\"head\")[0].appendChild(script);\n",
      "}\n",
      "\n",
      "loadScript(\"http://tikzjax.com/v1/tikzjax.js\", function(){\n",
      "    console.log(\"Loaded TikzJax\")\n",
      "});\n",
      "// header('Access-Control-Allow-Origin: http://tikzjax.com');\n",
      "// $.getScript( \"http://tikzjax.com/v1/tikzjax.js\", function( data, textStatus, jqxhr ) {\n",
      "//     console.log( data ); // Data returned\n",
      "//     console.log( textStatus ); // Success\n",
      "//     console.log( jqxhr.status ); // 200\n",
      "//     console.log( \"Load was performed.\" );\n",
      "//   });\n"
     ]
    }
   ],
   "source": [
    "from jupyter_core.paths import jupyter_config_dir\n",
    "jupyter_dir = jupyter_config_dir()\n",
    "import os.path\n",
    "custom_js_path = os.path.join(jupyter_dir, 'custom', 'custom.js')\n",
    "print(\"searching for custom.js in \", custom_js_path)\n",
    "#  my custom js\n",
    "if os.path.isfile(custom_js_path):\n",
    "    with open(custom_js_path) as f:\n",
    "        print(f.read())\n",
    "else:\n",
    "    print(\"You don't have a custom.js file\")"
   ]
  },
  {
   "cell_type": "markdown",
   "metadata": {},
   "source": [
    "<script src=\"http://tikzjax.com/v1/tikzjax.js\"></script>\n",
    "<script type=\"text/tikz\">\n",
    "  \\begin{tikzpicture}\n",
    "    \\draw (0,0) circle (1in);\n",
    "  \\end{tikzpicture}\n",
    "</script>"
   ]
  },
  {
   "cell_type": "code",
   "execution_count": 2,
   "metadata": {},
   "outputs": [
    {
     "data": {
      "text/html": [
       "\n",
       "<script type=\"text/tikz\">\n",
       "  \\begin{tikzpicture}\n",
       "    \\draw (0,0) circle (1in);\n",
       "  \\end{tikzpicture}\n",
       "</script>"
      ],
      "text/plain": [
       "<IPython.core.display.HTML object>"
      ]
     },
     "execution_count": 2,
     "metadata": {},
     "output_type": "execute_result"
    }
   ],
   "source": [
    "from IPython.display import HTML\n",
    "\n",
    "HTML('''\n",
    "<script type=\"text/tikz\">\n",
    "  \\\\begin{tikzpicture}\n",
    "    \\draw (0,0) circle (1in);\n",
    "  \\end{tikzpicture}\n",
    "</script>''')"
   ]
  },
  {
   "cell_type": "code",
   "execution_count": 3,
   "metadata": {},
   "outputs": [
    {
     "data": {
      "text/html": [
       "\n",
       "<script type=\"text/tikz\">\n",
       "  \\begin{tikzpicture}\n",
       "    \\draw (0,0) circle (1in);\n",
       "  \\end{tikzpicture}\n",
       "</script>"
      ],
      "text/plain": [
       "<IPython.core.display.HTML object>"
      ]
     },
     "execution_count": 3,
     "metadata": {},
     "output_type": "execute_result"
    }
   ],
   "source": [
    "from IPython.display import HTML\n",
    "\n",
    "HTML(r'''\n",
    "<script type=\"text/tikz\">\n",
    "  \\begin{tikzpicture}\n",
    "    \\draw (0,0) circle (1in);\n",
    "  \\end{tikzpicture}\n",
    "</script>''')"
   ]
  },
  {
   "cell_type": "code",
   "execution_count": null,
   "metadata": {},
   "outputs": [],
   "source": []
  }
 ],
 "metadata": {
  "kernelspec": {
   "display_name": "Python 3",
   "language": "python",
   "name": "python3"
  },
  "language_info": {
   "codemirror_mode": {
    "name": "ipython",
    "version": 3
   },
   "file_extension": ".py",
   "mimetype": "text/x-python",
   "name": "python",
   "nbconvert_exporter": "python",
   "pygments_lexer": "ipython3",
   "version": "3.6.6"
  }
 },
 "nbformat": 4,
 "nbformat_minor": 1
}
