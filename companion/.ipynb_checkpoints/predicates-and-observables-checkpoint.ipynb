{
 "cells": [
  {
   "cell_type": "markdown",
   "metadata": {},
   "source": [
    "# Predicates and Observables\n",
    "The following sections contain examples for the second chapter of the book.\n",
    "\n",
    "## Contents\n",
    "1. [Validity](#Validity)\n",
    "    1. [Simple biased coin game](#Simple-biased-coin-game)"
   ]
  },
  {
   "cell_type": "markdown",
   "metadata": {},
   "source": [
    "## Simple biased coin game\n",
    "Recall example 2.1.4 from the book, this example will show calculations for the validity of a biased coin game. For the bias we will use the old definition of $flip$, namely: $flip(r):= r|H\\rangle + (1-r)|T\\rangle$ with an interchangeable parameter $r$:"
   ]
  },
  {
   "cell_type": "code",
   "execution_count": 50,
   "metadata": {},
   "outputs": [
    {
     "data": {
      "application/vnd.jupyter.widget-view+json": {
       "model_id": "7b4dd8550b3649f99b442439c3abc1db",
       "version_major": 2,
       "version_minor": 0
      },
      "text/plain": [
       "Output()"
      ]
     },
     "metadata": {},
     "output_type": "display_data"
    },
    {
     "data": {
      "application/vnd.jupyter.widget-view+json": {
       "model_id": "2f583ae20388493cbb7d1628cb027359",
       "version_major": 2,
       "version_minor": 0
      },
      "text/plain": [
       "FloatSlider(value=0.3, description='$$r=$$', max=1.01, step=0.01)"
      ]
     },
     "metadata": {},
     "output_type": "display_data"
    }
   ],
   "source": [
    "from ipywidgets import interactive_output, FloatSlider\n",
    "import IPython.display as d\n",
    "from efprob import *\n",
    "from decimal import Decimal as D\n",
    "\n",
    "sbcga_rSlider = FloatSlider(\n",
    "    value=0.3,\n",
    "    min=0,\n",
    "    max=1.01,\n",
    "    step=0.01,\n",
    "    description='$$r=$$'\n",
    ")\n",
    "\n",
    "sbcga_wl = Predicate([100, -50], coin_sp)\n",
    "\n",
    "def sbcga_disp(r):\n",
    "    coin = flip(r, coin_sp)\n",
    "    initial = \"flip(\" + str(r) + r\") \\models v\"\n",
    "    abstract_sum = r\"\\Sigma_x flip(\" + str(r) + r\")(x) \\cdot v(x)\"\n",
    "    unfolded_sum = r\"flip(\" + str(r) + r\")(0) \\cdot v(0) + flip(\" + str(r) + r\")(1) \\cdot v(1)\"\n",
    "    actual_sum = str(1-r) + r\"\\cdot -50 + \" + str(r) + r\"\\cdot 100 = \" + str((1-r)*-50) + \" + \" + str(r*100)\n",
    "    final = str(coin.expectation(sbcga_wl))\n",
    "    print(coin.expectation(sbcga_wl))\n",
    "    d.display(d.Latex(r\"$\\begin{align*} \" + initial + r\" &= \" + \n",
    "                      abstract_sum + r\"\\\\ &= \" + \n",
    "                      unfolded_sum + r\"\\\\ &= \" + \n",
    "                      actual_sum + r\"\\\\ &= \" + \n",
    "                      final + r\"\\end{align*}$\"))\n",
    "    \n",
    "    \n",
    "\n",
    "d.display(interactive_output(sbcga_disp, {'r': sbcga_rSlider}), sbcga_rSlider)"
   ]
  },
  {
   "cell_type": "markdown",
   "metadata": {},
   "source": [
    "As is obvious, increasing the chance of throwing heads on the biased coin flip increases our long term validity. Let's now change around what the cost of losing and the reward of winning is."
   ]
  },
  {
   "cell_type": "code",
   "execution_count": 56,
   "metadata": {},
   "outputs": [
    {
     "data": {
      "application/vnd.jupyter.widget-view+json": {
       "model_id": "bdb62cb1854d4b2a90cf3cfa07bad87c",
       "version_major": 2,
       "version_minor": 0
      },
      "text/plain": [
       "Output()"
      ]
     },
     "metadata": {},
     "output_type": "display_data"
    },
    {
     "data": {
      "application/vnd.jupyter.widget-view+json": {
       "model_id": "9e604143b1f94db29e24c5da22c6810c",
       "version_major": 2,
       "version_minor": 0
      },
      "text/plain": [
       "FloatSlider(value=0.3, description='$$r=$$', max=1.01, step=0.01)"
      ]
     },
     "metadata": {},
     "output_type": "display_data"
    },
    {
     "data": {
      "application/vnd.jupyter.widget-view+json": {
       "model_id": "f2a2b48a4c454379ae7672d7c12f2476",
       "version_major": 2,
       "version_minor": 0
      },
      "text/plain": [
       "IntSlider(value=100, description='$$v(H)=$$', max=400, min=50)"
      ]
     },
     "metadata": {},
     "output_type": "display_data"
    },
    {
     "data": {
      "application/vnd.jupyter.widget-view+json": {
       "model_id": "d32de8048c62422eb4787885fb343896",
       "version_major": 2,
       "version_minor": 0
      },
      "text/plain": [
       "IntSlider(value=50, description='$$-v(T)=$$', max=300, min=25)"
      ]
     },
     "metadata": {},
     "output_type": "display_data"
    }
   ],
   "source": [
    "from ipywidgets import interactive_output, FloatSlider, IntSlider\n",
    "import IPython.display as d\n",
    "from efprob import *\n",
    "\n",
    "sbcgb_rSlider = FloatSlider(\n",
    "    value=0.3,\n",
    "    min=0,\n",
    "    max=1.01,\n",
    "    step=0.01,\n",
    "    description='$$r=$$'\n",
    ")\n",
    "\n",
    "sbcgb_xSlider = IntSlider(\n",
    "    value=100,\n",
    "    min=50,\n",
    "    max=400,\n",
    "    description='$$v(H)=$$'\n",
    ")\n",
    "\n",
    "sbcgb_ySlider = IntSlider(\n",
    "    value=50,\n",
    "    min=25,\n",
    "    max=300,\n",
    "    description='$$-v(T)=$$'\n",
    ")\n",
    "\n",
    "def sbcgb_disp(r, x, y):\n",
    "    coin = flip(r, coin_sp)\n",
    "    wl = Predicate([x, -y], coin_sp)\n",
    "    initial = \"flip(\" + str(r) + r\") \\models v\"\n",
    "    abstract_sum = r\"\\Sigma_x flip(\" + str(r) + r\")(x) \\cdot v(x)\"\n",
    "    unfolded_sum = r\"flip(\" + str(r) + r\")(0) \\cdot v(0) + flip(\" + str(r) + r\")(1) \\cdot v(1)\"\n",
    "    actual_sum = str(1-r) + r\"\\cdot -\" +  str(y) + \" + \" + str(r) + r\"\\cdot \" + str(x) + \" = \" + str((1-r)*-y) + \" + \" + str(r*x)\n",
    "    final = str(coin.expectation(wl))\n",
    "    d.display(d.Latex(r\"$\\begin{align*} \" + initial + r\" &= \" + \n",
    "                      abstract_sum + r\"\\\\ &= \" + \n",
    "                      unfolded_sum + r\"\\\\ &= \" + \n",
    "                      actual_sum + r\"\\\\ &= \" + \n",
    "                      final + r\"\\end{align*}$\"))\n",
    "    \n",
    "\n",
    "d.display(interactive_output(sbcgb_disp, {'r': sbcgb_rSlider, 'x': sbcgb_xSlider, 'y': sbcgb_ySlider}), sbcgb_rSlider, sbcgb_xSlider, sbcgb_ySlider)"
   ]
  },
  {
   "cell_type": "markdown",
   "metadata": {},
   "source": [
    "Using this we could in theory now check for every possible unfair dice what the reward should be for winning for a given cost of losing. For example let's say as a minimum we'd like our validity to be at least $5$, then if the coin lands on heads one in four times and we lose $50$ for tails, the reward for winning should be equal to or higher than $170$. If the cost of a loss is $100$ in this case the minimum winnings should be $320$."
   ]
  },
  {
   "cell_type": "code",
   "execution_count": null,
   "metadata": {},
   "outputs": [],
   "source": []
  }
 ],
 "metadata": {
  "kernelspec": {
   "display_name": "Python 3",
   "language": "python",
   "name": "python3"
  },
  "language_info": {
   "codemirror_mode": {
    "name": "ipython",
    "version": 3
   },
   "file_extension": ".py",
   "mimetype": "text/x-python",
   "name": "python",
   "nbconvert_exporter": "python",
   "pygments_lexer": "ipython3",
   "version": "3.6.6"
  }
 },
 "nbformat": 4,
 "nbformat_minor": 2
}
