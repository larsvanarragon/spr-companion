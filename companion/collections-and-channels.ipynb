{
 "cells": [
  {
   "cell_type": "markdown",
   "metadata": {},
   "source": [
    "# Collections and Channels\n",
    "This chapter will \n",
    "\n",
    "## Contents\n",
    "1. [Cartesian Products](#Cartesian-Products)\n",
    "    1. [Functions & Function Composition](#Functions-&-Function-Composition)\n",
    "    2. [Projections](#Projections)\n",
    "\n",
    "## Cartesian Products\n",
    "Recall that we call a pair of elements $(x_1,x_2)$ a tuple. This pair can be extended into a triple: $(x_1,x_2,x_3)$, a $4$-tuple $(x_1,x_2,x_3,x_4)$ and so on. We can create an $n$-tuple for an arbitrary $n$ amount of elements as follows:"
   ]
  },
  {
   "cell_type": "code",
   "execution_count": 1,
   "metadata": {},
   "outputs": [
    {
     "data": {
      "application/vnd.jupyter.widget-view+json": {
       "model_id": "734ac978fd0c46969d83c7f01de01eb8",
       "version_major": 2,
       "version_minor": 0
      },
      "text/plain": [
       "IntSlider(value=3, description='$n:=$', max=25, min=3)"
      ]
     },
     "metadata": {},
     "output_type": "display_data"
    },
    {
     "data": {
      "application/vnd.jupyter.widget-view+json": {
       "model_id": "cddae6699091411681523e691a89dee8",
       "version_major": 2,
       "version_minor": 0
      },
      "text/plain": [
       "Output()"
      ]
     },
     "metadata": {},
     "output_type": "display_data"
    }
   ],
   "source": [
    "import ipywidgets as w\n",
    "import IPython.display as d\n",
    "\n",
    "isl = w.IntSlider(\n",
    "    value=3,\n",
    "    min=3,\n",
    "    max=25,\n",
    "    description='$n:=$'\n",
    ")\n",
    "\n",
    "def disp(x):\n",
    "    xPair = \"\"\n",
    "    for x in range(x):\n",
    "        xPair += \"x_{\" + str(x+1) + \"},\"\n",
    "    d.display(d.Latex(\"$\" + str(x+1) + \"-tuple :=(\" + xPair[:-1] + \")$\"))\n",
    "    \n",
    "    \n",
    "output = w.interactive_output(disp, {'x': isl})\n",
    "d.display(isl, output)"
   ]
  },
  {
   "cell_type": "markdown",
   "metadata": {},
   "source": [
    "Using this we can, as seen in the book, create Cartesian products out of any $n$ amount of sets as follows:\n",
    "\n",
    "$$X_1 \\times \\dotsb \\times X_n := \\{(x_1,...,x_n)|x_1 \\in X_1\\ and\\ \\dotsb\\ and\\ x_n \\in X_n\\}$$\n",
    "\n",
    "Now let's pick an $n$ and see what happens:"
   ]
  },
  {
   "cell_type": "code",
   "execution_count": 2,
   "metadata": {},
   "outputs": [
    {
     "data": {
      "application/vnd.jupyter.widget-view+json": {
       "model_id": "882f5ccf55354a7cad6cc4c78a95f762",
       "version_major": 2,
       "version_minor": 0
      },
      "text/plain": [
       "IntSlider(value=2, description='$n:=$', max=25, min=2)"
      ]
     },
     "metadata": {},
     "output_type": "display_data"
    },
    {
     "data": {
      "application/vnd.jupyter.widget-view+json": {
       "model_id": "18c513ad4d0d47e69bbf47052ca25cee",
       "version_major": 2,
       "version_minor": 0
      },
      "text/plain": [
       "Output()"
      ]
     },
     "metadata": {},
     "output_type": "display_data"
    }
   ],
   "source": [
    "import ipywidgets as w\n",
    "import IPython.display as d\n",
    "\n",
    "isl = w.IntSlider(\n",
    "    value=2,\n",
    "    min=2,\n",
    "    max=25,\n",
    "    description='$n:=$'\n",
    ")\n",
    "\n",
    "def disp(x):\n",
    "    xPair, xCart, xIn = \"\", \"\", \"\"\n",
    "    for x in range(x):\n",
    "        xCart += \"X_{\" + str(x+1) + \"} \\\\times \"\n",
    "        xPair += \"x_{\" + str(x+1) + \"},\"\n",
    "        xIn += \"x_{\" + str(x+1) + \"} \\\\in X_{\" + str(x+1) + \"}\\ and\\ \"\n",
    "    d.display(d.Latex(\"$\" + xCart[:-7] + \":=\\{(\" + xPair[:-1] + \")|\" + xIn[:-7] + \"\\}$\"))\n",
    "    \n",
    "    \n",
    "output = w.interactive_output(disp, {'x': isl})\n",
    "d.display(isl, output)"
   ]
  },
  {
   "cell_type": "markdown",
   "metadata": {},
   "source": [
    "For when $n=3$ it is easy to think of such a Cartesian product as a point in $3$d space, or for $n=4$ a point in $4$d space. This can exactly be the case when for example $X_1 = \\dotsb = X_n = \\rm I\\!R$ (The set of all real numbers). However, when $n$ becomes bigger than 5 it is quite hard to visualize it this way. Instead, it is then possible to see such an $n$-tuple as an ordered list of $n$ elements.\n",
    "\n",
    "### Functions & Function Composition \n",
    "In Mathematics, a function $f$ from $X \\rightarrow Y$ relates all elements $x \\in X$ to exactly one other element $y\\in Y$. Common terminology is to call $X$ the domain and $Y$ the codomain. For example the function '$square$' can be defined as follows:\n",
    "\n",
    "$$\\begin{align*} \n",
    "square &:: \\rm I\\!R \\rightarrow \\rm I\\!R \\\\\n",
    "square (x) &= x \\cdot x\n",
    "\\end{align*}$$\n",
    "\n",
    "The top line states the type of the function, it shows from what the domain and codomain of the function is. In this case both the domain and codomain are the real numbers. It is also possible to define recursive functions in this notation like so:\n",
    "\n",
    "$$\\begin{align*} \n",
    "factorial &:: \\rm I\\!N \\rightarrow \\rm I\\!N \\\\\n",
    "factorial(x) &= \n",
    "\\left\\{\n",
    "\\begin{array}{ll}\n",
    "  1\\ \\text{if}\\ n=0\\\\\n",
    "  x \\cdot factorial(x-1)\\ \\text{otherwise}\n",
    "\\end{array}\n",
    "\\right.\n",
    "\\end{align*}$$\n",
    "              \n",
    "This factorial function has as both domain and codomain the natural numbers. We usually denote a composition (i.e. a combination) of two functions with $f\\circ g$ which can intuitively be thought of as $f$ after $g$. This composition is applied to an argument as follows: $(f\\circ g)(x)$ for some $x$ which is defined as $f(g(x))$. For example\n",
    "$$\\begin{align*}\n",
    "  (square\\circ factorial)(3) &=\\\\\n",
    "  square(factorial(3)) &= \\\\\n",
    "  square(6) &= 36\n",
    "\\end{align*}$$\n",
    "Whereas if they are the other way around\n",
    "$$\\begin{align*}\n",
    "  (factorial\\circ square)(3) &=\\\\\n",
    "  factorial(square(3)) &= \\\\\n",
    "  factorial(9) &= 362880\n",
    "\\end{align*}$$\n",
    "\n",
    "### Projections\n",
    "As seen in the book, this composition is applied to projections. Take for example $1.1$ which states:\n",
    "$$\\pi_i\\circ\\langle f_1,...,f_n\\rangle=f_i$$\n",
    "Let's apply it to some element $y\\in Y$ and unfold the definitions to see exactly how this composition works.\n",
    "$$\\begin{align*}\n",
    "  (\\pi_i\\circ\\langle f_1,...,f_n\\rangle)(y) &= (\\text{by definition of }\\circ) \\\\\n",
    "  \\pi_i(\\langle f_1,...,f_n\\rangle(y)) &= (\\text{by definition of }\\langle f_1,...,f_n\\rangle)\\\\\n",
    "  \\pi_i(f_1(y),...,f_n(y)) &= (\\text{by definition of } f_i:Y\\rightarrow X_i)\\\\\n",
    "  \\pi_i(x_1,...,x_n) &= x_i\n",
    "\\end{align*}$$\n",
    "This shows that this would be equivalent to just applying $f_i$ to $y$."
   ]
  }
 ],
 "metadata": {
  "kernelspec": {
   "display_name": "Python 3",
   "language": "python",
   "name": "python3"
  },
  "language_info": {
   "codemirror_mode": {
    "name": "ipython",
    "version": 3
   },
   "file_extension": ".py",
   "mimetype": "text/x-python",
   "name": "python",
   "nbconvert_exporter": "python",
   "pygments_lexer": "ipython3",
   "version": "3.6.6"
  }
 },
 "nbformat": 4,
 "nbformat_minor": 2
}
