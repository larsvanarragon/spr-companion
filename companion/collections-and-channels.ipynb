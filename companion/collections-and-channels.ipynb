{
 "cells": [
  {
   "cell_type": "markdown",
   "metadata": {},
   "source": [
    "# Collections and Channels\n",
    "This \n",
    "\n",
    "## Contents\n",
    "1. [Cartesian Products](#Cartesian-Products)\n",
    "\n",
    "## Cartesian Products\n",
    "Recall that we call a pair of elements $(x_1,x_2)$ a tuple. This pair can be extended into a triple: $(x_1,x_2,x_3)$, a $4$-tuple $(x_1,x_2,x_3,x_4)$ and so on. We can create an $n$-tuple for an arbitrary $n$ amount of elements as follows:"
   ]
  },
  {
   "cell_type": "code",
   "execution_count": 34,
   "metadata": {},
   "outputs": [
    {
     "data": {
      "application/vnd.jupyter.widget-view+json": {
       "model_id": "4cfbd2e9a6284eaca2e30081fc277cf6",
       "version_major": 2,
       "version_minor": 0
      },
      "text/plain": [
       "IntSlider(value=3, description='$n:=$', max=25, min=3)"
      ]
     },
     "metadata": {},
     "output_type": "display_data"
    },
    {
     "data": {
      "application/vnd.jupyter.widget-view+json": {
       "model_id": "c5ed9e342f7c43d6b5bf764e8d4627a8",
       "version_major": 2,
       "version_minor": 0
      },
      "text/plain": [
       "Output()"
      ]
     },
     "metadata": {},
     "output_type": "display_data"
    }
   ],
   "source": [
    "import ipywidgets as w\n",
    "import IPython.display as d\n",
    "\n",
    "isl = w.IntSlider(\n",
    "    value=3,\n",
    "    min=3,\n",
    "    max=25,\n",
    "    description='$n:=$'\n",
    ")\n",
    "\n",
    "def disp(x):\n",
    "    xPair = \"\"\n",
    "    for x in range(x):\n",
    "        xPair += \"x_{\" + str(x+1) + \"},\"\n",
    "    d.display(d.Latex(\"$\" + str(x+1) + \"-tuple :=(\" + xPair[:-1] + \")$\"))\n",
    "    \n",
    "    \n",
    "output = w.interactive_output(disp, {'x': isl})\n",
    "d.display(isl, output)"
   ]
  },
  {
   "cell_type": "markdown",
   "metadata": {},
   "source": [
    "Using this we can, as seen in the book, create Cartesian products out of any $n$ amount of sets as follows:\n",
    "\n",
    "$$X_1 \\times \\dotsb \\times X_n := \\{(x_1,...,x_n)|x_1 \\in X_1\\ and\\ \\dotsb\\ and\\ x_n \\in X_n\\}$$\n",
    "\n",
    "Now let's pick an $n$ and see what happens:"
   ]
  },
  {
   "cell_type": "code",
   "execution_count": 33,
   "metadata": {},
   "outputs": [
    {
     "data": {
      "application/vnd.jupyter.widget-view+json": {
       "model_id": "7cb190636ff24e829845700e424f340a",
       "version_major": 2,
       "version_minor": 0
      },
      "text/plain": [
       "IntSlider(value=2, description='$n:=$', max=25, min=2)"
      ]
     },
     "metadata": {},
     "output_type": "display_data"
    },
    {
     "data": {
      "application/vnd.jupyter.widget-view+json": {
       "model_id": "d06f115c7110422baa95d7ccedb092b6",
       "version_major": 2,
       "version_minor": 0
      },
      "text/plain": [
       "Output()"
      ]
     },
     "metadata": {},
     "output_type": "display_data"
    }
   ],
   "source": [
    "import ipywidgets as w\n",
    "import IPython.display as d\n",
    "\n",
    "isl = w.IntSlider(\n",
    "    value=2,\n",
    "    min=2,\n",
    "    max=25,\n",
    "    description='$n:=$'\n",
    ")\n",
    "\n",
    "def disp(x):\n",
    "    xPair, xCart, xIn = \"\", \"\", \"\"\n",
    "    for x in range(x):\n",
    "        xCart += \"X_{\" + str(x+1) + \"} \\\\times \"\n",
    "        xPair += \"x_{\" + str(x+1) + \"},\"\n",
    "        xIn += \"x_{\" + str(x+1) + \"} \\\\in X_{\" + str(x+1) + \"}\\ and\\ \"\n",
    "    d.display(d.Latex(\"$\" + xCart[:-7] + \":=\\{(\" + xPair[:-1] + \")|\" + xIn[:-7] + \"\\}$\"))\n",
    "    \n",
    "    \n",
    "output = w.interactive_output(disp, {'x': isl})\n",
    "d.display(isl, output)"
   ]
  },
  {
   "cell_type": "markdown",
   "metadata": {},
   "source": [
    "For when $n=3$ it is easy to think of such a Cartesian product as a point in $3$d space, or for $n=4$ a point in $4$d space. This can exactly be the case when for example $X_1 = \\dotsb = X_n = \\rm I\\!R$ (The set of all real numbers). However, when $n$ becomes bigger than 5 it is quite hard to visualize it this way. Instead, it is then possible to see such an $n$-tuple as an ordered list of elements.\n",
    "\n",
    "### Function & Composition \n",
    "In Mathematics, a function $f$ from $X \\rightarrow Y$ relates all elements $x \\in X$ to exactly one other element $y\\in Y$. For example the function '$square$' can be defined as follows:\n",
    "\n",
    "$$square :: \\rm I\\!R \\rightarrow \\rm I\\!R$$\n",
    "$$square (x) = x \\times x$$\n"
   ]
  },
  {
   "cell_type": "code",
   "execution_count": null,
   "metadata": {},
   "outputs": [],
   "source": []
  }
 ],
 "metadata": {
  "kernelspec": {
   "display_name": "Python 3",
   "language": "python",
   "name": "python3"
  },
  "language_info": {
   "codemirror_mode": {
    "name": "ipython",
    "version": 3
   },
   "file_extension": ".py",
   "mimetype": "text/x-python",
   "name": "python",
   "nbconvert_exporter": "python",
   "pygments_lexer": "ipython3",
   "version": "3.6.6"
  }
 },
 "nbformat": 4,
 "nbformat_minor": 2
}
