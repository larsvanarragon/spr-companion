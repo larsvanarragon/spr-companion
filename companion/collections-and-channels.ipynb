{
 "cells": [
  {
   "cell_type": "markdown",
   "metadata": {},
   "source": [
    "# Collections and Channels\n",
    "The following sections will elaborate on the basics that are covered in this chapter. They will give examples for several of the topics covered in the Collections and Channels chapter of the book. \n",
    "\n",
    "## Contents\n",
    "1. [Multisets](#Multisets)\n",
    "    1. [Simple functorality](#Simple-functorality)\n",
    "2. [Probability Distributions](#Probability-Distributions)\n",
    "    1. [Biased coin distribution](#Biased-coin-distribution)\n",
    "    2. [Biased dice functorality](#Biased-dice-functorality)\n",
    "3. [Frequentist learning](#Frequentist-learning)\n",
    "    1. [A bag of marbles](#A-bag-of-marbles)\n",
    "4. [Channels](#Channels)\n",
    "    1. [Biased dice with channels](#Biased-dice-with-channels)\n",
    "    2. [Graphical representation of an imperfect observation](#Graphical-representation-of-an-imperfect-observation)\n",
    "5. [Parallel products](#Parallel-products)\n",
    "    1. [Parallel dices](#Parallel-dices)\n",
    "6. [A Bayesian network example](#A-Bayesian-network-example)\n",
    "\n",
    "\n",
    "## Multisets\n",
    "\n",
    "### Simple functorality\n",
    "Suppose we have a multiset containing several individuals of which we know their biological sex and age. The type of our multiset is then $\\mathcal{M}(G \\times A)$ where $G := \\{F,M\\}$ and $A := \\{1,...,200\\}$. Let's now take $\\tau \\in \\mathcal{M}(G \\times A)$ to be:\n",
    "\n",
    "$$\\begin{align*} \n",
    "\\tau =\\ &2|(F,14)\\rangle + 1|(F,15)\\rangle + 1|(F,17)\\rangle + 3|(F,18)\\rangle + 5|(F,20)\\rangle + 2|(F,21)\\rangle + 1|(F,23)\\rangle\\ +\\\\\n",
    "&1|(M,14)\\rangle + 1|(M,16)\\rangle + 2|(M,17)\\rangle + 1|(M,18)\\rangle + 1|(M,20)\\rangle + 1|(M,21)\\rangle\n",
    "\\end{align*}$$\n",
    "\n",
    "This $\\tau$ can represent for example the participants of a cooking course for adolescents. Now we can use the projections to show how many individuals of each gender and each age take this class:\n",
    "\n",
    "$$\\begin{align*} \n",
    "\\mathcal{M}(\\pi_1)(\\tau) &= 15|F\\rangle + 7|M\\rangle\\\\\n",
    "\\mathcal{M}(\\pi_2)(\\tau) &= 3|14\\rangle + 1|15\\rangle + 1|16\\rangle + 3|17\\rangle + 4|18\\rangle + 6|20\\rangle + 3|21\\rangle + 1|23\\rangle\n",
    "\\end{align*}$$\n",
    "\n",
    "Since a multiset is functorial we can apply a function to it using $\\mathcal{M}(f)(\\tau)$. For example we can apply a function $next$ that 'ages' the class an entire year so that each participant now is one year older.\n",
    "\n",
    "$$\\begin{align*} \n",
    "next &:: (G\\times A) \\rightarrow (G\\times A) \\\\\n",
    "next((g,a)) &= (g,a+1)\n",
    "\\end{align*}$$\n",
    "\n",
    "Let's apply the function as follows: $\\mathcal{M}(next)(\\tau)$. Pressing the button 'Next' below will apply $\\mathcal{M}(next)(\\tau)$ once. "
   ]
  },
  {
   "cell_type": "code",
   "execution_count": 1,
   "metadata": {},
   "outputs": [
    {
     "data": {
      "application/vnd.jupyter.widget-view+json": {
       "model_id": "259478bec6b54b3bb6d4a1b7f9e6871d",
       "version_major": 2,
       "version_minor": 0
      },
      "text/plain": [
       "Button(description='Next', style=ButtonStyle())"
      ]
     },
     "metadata": {},
     "output_type": "display_data"
    },
    {
     "data": {
      "application/vnd.jupyter.widget-view+json": {
       "model_id": "06322d8cf9424cef87fb93a7d529856b",
       "version_major": 2,
       "version_minor": 0
      },
      "text/plain": [
       "Output()"
      ]
     },
     "metadata": {},
     "output_type": "display_data"
    }
   ],
   "source": [
    "from efprob import *\n",
    "from ipywidgets import interactive_output, Button, Output\n",
    "import IPython.display as d\n",
    "import nbinteract as nbi\n",
    "\n",
    "# Technically we would need the entire set A to properly\n",
    "# follow the definitions. This would however greatly increase\n",
    "# the space which will make this code unnecessarily long.\n",
    "# Therefore we have chosen the subset {14,...,28}.\n",
    "sf_ages = [14,15,16,17,18,19,20,21,22,23,24,25,26,27,28]\n",
    "sf_student_space = Space(SpaceAtom(None, ['F', 'M']), (None, sf_ages))\n",
    "sf_initial_state = [2,1,0,1,3,0,5,2,0,1,0,0,0,0,0,\n",
    "                     1,0,1,2,1,0,1,1,0,0,0,0,0,0,0]\n",
    "sf_students = State(sf_initial_state.copy(), sf_student_space)\n",
    "\n",
    "sf_reset = False\n",
    "# def sf_chan(f, X, Y):\n",
    "#     return chan_fromklmap(lambda x, y: point_state(f(x, y), Y), X, Y)\n",
    "\n",
    "def sf_age_once(x, y):\n",
    "    # Wrap around back to 14, which will never happen due to the reset\n",
    "    if y == 28:\n",
    "        return (x, 14)\n",
    "    return (x, y+1)\n",
    "\n",
    "sf_channel = chan_fromklmap(lambda x, y: point_state(sf_age_once(x, y), sf_student_space),\n",
    "                            sf_student_space, sf_student_space)\n",
    "\n",
    "def sf_next(button):\n",
    "    global sf_students, sf_reset\n",
    "    if sf_reset:\n",
    "        sf_students = State(sf_initial_state.copy(), sf_student_space)\n",
    "        sf_reset = False\n",
    "        button.description='Next'\n",
    "    else:\n",
    "        sf_students = sf_channel >> sf_students\n",
    "        for stud_ages in sf_students.array:\n",
    "            if stud_ages[-1] > 0:\n",
    "                sf_reset = True\n",
    "                button.description='Reset'\n",
    "                break\n",
    "    sf_out.clear_output()\n",
    "    with sf_out:\n",
    "        d.display(nbi.bar(sf_ages, sf_students.array))\n",
    "        d.display(d.Latex(r\"$\\tau =\" + str(sf_students).replace('>',r\"\\rangle\") + \"$\"))\n",
    "\n",
    "sf_button = Button(description='Next', disabled=False)\n",
    "sf_button.on_click(sf_next)\n",
    "sf_out = Output()\n",
    "\n",
    "d.display(sf_button, sf_out)\n",
    "with sf_out:\n",
    "    d.display(nbi.bar(sf_ages, sf_students.array))\n",
    "    d.display(d.Latex(r\"$\\tau =\" + str(sf_students).replace('>',r\"\\rangle\") + \"$\"))"
   ]
  },
  {
   "cell_type": "markdown",
   "metadata": {},
   "source": [
    "Applying $next$ to our multiset $\\tau$ only affects the age of the participants. When the button's text changes to 'Reset' pressing it will reset $\\tau$ back to the value we defined at the beginning of this example."
   ]
  },
  {
   "cell_type": "markdown",
   "metadata": {},
   "source": [
    "## Probability Distributions\n",
    "### Biased coin distribution\n",
    "A multiset can also be generated using a function. Recall example 1.5.1 from the book, it defines a function $flip$ to parameterize a bias probability. We will use the following adaptation for $flip:[0,1]\\rightarrow C$ with $C:=\\{H,T\\}$:\n",
    "\n",
    "$$flip(r) := r|H\\rangle + (1-r)|T\\rangle$$\n",
    "\n",
    "With this function a multiset can be generated that represents a biased coin toss. When $r$ changes, so do the chances of Heads or Tails. The following bar diagram shows the chances for either heads or tails, $r$ is changeable."
   ]
  },
  {
   "cell_type": "code",
   "execution_count": 2,
   "metadata": {},
   "outputs": [
    {
     "data": {
      "application/vnd.jupyter.widget-view+json": {
       "model_id": "2dc3a385891849b28d102e2075b1e124",
       "version_major": 2,
       "version_minor": 0
      },
      "text/plain": [
       "VBox(children=(interactive(children=(FloatSlider(value=0.51, description='$$r:=$$', max=1.0, step=0.01), Outpu…"
      ]
     },
     "metadata": {},
     "output_type": "display_data"
    }
   ],
   "source": [
    "from efprob import *\n",
    "from ipywidgets import interactive_output, FloatSlider\n",
    "from IPython.display import *\n",
    "import nbinteract as nbi\n",
    "\n",
    "flip_rSlider = FloatSlider(\n",
    "    value=0.51,\n",
    "    min=0,\n",
    "    max=1,\n",
    "    step=0.01,\n",
    "    description='$$r:=$$'\n",
    ")\n",
    "\n",
    "flip_options = {\n",
    "    'title': 'Heads or Tails',\n",
    "    'xlabel': '',\n",
    "    'ylabel': 'Chance between 0 and 1 with 1 being 100%',\n",
    "    'ylim': (0.00, 1.01)\n",
    "}\n",
    "\n",
    "def flip(r): return State([r, 1-r], coin_sp)\n",
    "\n",
    "def disp_flip(_, r):\n",
    "    display(Latex(r'''$$flip(''' + str(r) + ''') := ''' + str(flip(r)).replace('>',r\"\\rangle\") + \"$$\"))\n",
    "    return (r, 1-r)\n",
    "\n",
    "nbi.bar(['Heads', 'Tails'], disp_flip, r=flip_rSlider, options=flip_options)"
   ]
  },
  {
   "cell_type": "markdown",
   "metadata": {},
   "source": [
    "### Biased dice functorality\n",
    "Let's again look at the functorality of a multiset. Suppose we have a set that represents all sides of an ordinary $6$-sided dice, $D6 := \\{1, 2, 3, 4, 5, 6\\}$ and recall $C := \\{ H, T \\}$. Then we can define the following uniform multiset for a dice using ket-notation:\n",
    "\n",
    "$$\\begin{align*} \n",
    "\\varphi &= \\dfrac{1}{6}|1\\rangle + \\dfrac{1}{6}|2\\rangle + \\dfrac{1}{6}|3\\rangle + \\dfrac{1}{6}|4\\rangle + \\dfrac{1}{6}|5\\rangle + \\dfrac{1}{6}|6\\rangle\n",
    "\\end{align*}$$\n",
    "\n",
    "With $\\varphi \\in \\mathcal{M}(D6)$. Now suppose we have the following function $f$:\n",
    "\n",
    "$$\n",
    "\\begin{align*} \n",
    "f &: D6 \\rightarrow C  \\\\\n",
    "f(x) &= \\left\\{\n",
    "\\begin{array}{ll}\n",
    "  H\\ \\text{if}\\ x\\ \\text{is even}\\\\\n",
    "  T\\ \\text{otherwise}\n",
    "\\end{array}\n",
    "\\right.\n",
    "\\end{align*}\n",
    "$$\n",
    "\n",
    "Now since $\\mathcal{M}$ is functorial we can apply $\\mathcal{M}(f)(\\varphi)$ as following:\n",
    "\n",
    "$$\n",
    "\\begin{align*} \n",
    "    \\mathcal{M}(f)(\\varphi) &= \\mathcal{M}(f)(\\dfrac{1}{6}|1\\rangle + \\dfrac{1}{6}|2\\rangle + \\dfrac{1}{6}|3\\rangle + \\dfrac{1}{6}|4\\rangle + \\dfrac{1}{6}|5\\rangle + \\dfrac{1}{6}|6\\rangle)\\\\\n",
    "    &= \\dfrac{1}{6}|f(1)\\rangle + \\dfrac{1}{6}|f(2)\\rangle + \\dfrac{1}{6}|f(3)\\rangle + \\dfrac{1}{6}|f(4)\\rangle + \\dfrac{1}{6}|f(5)\\rangle + \\dfrac{1}{6}|f(6)\\rangle\\\\\n",
    "    &= \\dfrac{1}{6}|T\\rangle + \\dfrac{1}{6}|H\\rangle + \\dfrac{1}{6}|T\\rangle + \\dfrac{1}{6}|H\\rangle + \\dfrac{1}{6}|T\\rangle + \\dfrac{1}{6}|H\\rangle\\\\\n",
    "    &= \\dfrac{3}{6}|T\\rangle + \\dfrac{3}{6}|H\\rangle\\\\\n",
    "    &= \\dfrac{1}{2}|T\\rangle + \\dfrac{1}{2}|H\\rangle\\\\\n",
    "\\end{align*}\n",
    "$$\n",
    "\n",
    "In this case we used the left definition of $\\mathcal{M}(f)$ namely: $\\mathcal{M}(\\sum_i r_i|x_i\\rangle)$. Suppose we have a way to accurately increase the chance of the dice to land on $6$. This can be represented by the following function $w:[0,5] \\rightarrow \\mathcal{M}(D6)$:\n",
    "\n",
    "$$\n",
    "w(r) = \\tfrac{1-\\tfrac{r}{5}}{6}|1\\rangle + \\tfrac{1-\\tfrac{r}{5}}{6}|2\\rangle + \\tfrac{1-\\tfrac{r}{5}}{6}|3\\rangle + \\tfrac{1-\\tfrac{r}{5}}{6}|4\\rangle + \\tfrac{1-\\tfrac{r}{5}}{6}|5\\rangle + \\tfrac{1+r}{6}|6\\rangle\n",
    "$$\n",
    "\n",
    "Since the result of $w$ is an $x\\in\\mathcal{M}(D6)$ we can apply $\\mathcal{M}(f)(x)$. This means that dependant on how weighted the dice is we have a higher change of it being even and thus a higher change to get $H$. This can be visualized as follows:"
   ]
  },
  {
   "cell_type": "code",
   "execution_count": 3,
   "metadata": {},
   "outputs": [
    {
     "data": {
      "application/vnd.jupyter.widget-view+json": {
       "model_id": "f0de18ae7d2847d399e88b0bcbf9c7d0",
       "version_major": 2,
       "version_minor": 0
      },
      "text/plain": [
       "VBox(children=(interactive(children=(FloatSlider(value=0.0, description='$$r:=$$', max=5.0, step=0.01), Output…"
      ]
     },
     "metadata": {},
     "output_type": "display_data"
    },
    {
     "data": {
      "application/vnd.jupyter.widget-view+json": {
       "model_id": "840eadbbea95490990115070d8547935",
       "version_major": 2,
       "version_minor": 0
      },
      "text/plain": [
       "VBox(children=(interactive(children=(FloatSlider(value=0.0, description='$$r:=$$', max=5.0, step=0.01), Output…"
      ]
     },
     "metadata": {},
     "output_type": "display_data"
    },
    {
     "data": {
      "application/vnd.jupyter.widget-view+json": {
       "model_id": "64a014fb43424dabab1826cd3d73e025",
       "version_major": 2,
       "version_minor": 0
      },
      "text/plain": [
       "Output()"
      ]
     },
     "metadata": {},
     "output_type": "display_data"
    }
   ],
   "source": [
    "from efprob import *\n",
    "from ipywidgets import interactive_output, FloatSlider\n",
    "import IPython.display as d\n",
    "import nbinteract as nbi\n",
    "\n",
    "bdf_rSlider = FloatSlider(\n",
    "    value=0.00,\n",
    "    min=0,\n",
    "    max=5,\n",
    "    step=0.01,\n",
    "    description='$$r:=$$'\n",
    ")\n",
    "\n",
    "bdf_coin_options = {\n",
    "    'title': 'Chance for Heads or Tails',\n",
    "    'ylabel': 'Chance between 0 and 1 with 1 being 100%',\n",
    "    'ylim': (0.00, 1.01)\n",
    "}\n",
    "\n",
    "bdf_dice_options = {\n",
    "    'title': 'Weighted 6-sided dice',\n",
    "    'ylabel': 'Chance between 0 and 1 with 1 being 100%',\n",
    "    'ylim': (0.00, 1.01)\n",
    "}\n",
    "\n",
    "# X and Y are spaces\n",
    "def bdf_chan(f, X, Y):\n",
    "    return chan_fromklmap(lambda x: point_state(f(x), Y), X, Y)\n",
    "\n",
    "def bdf_observe_f(x):\n",
    "    if x % 2 == 0:\n",
    "        return 'H'\n",
    "    return 'T'\n",
    "\n",
    "def bdf_w(r): return State([(1-r/5)/6, (1-r/5)/6, (1-r/5)/6, (1-r/5)/6, (1-r/5)/6, (1+r)/6], pips_sp)\n",
    "\n",
    "def bdf_disp(r):\n",
    "    dice = bdf_w(r)\n",
    "    coin = bdf_chan(bdf_observe_f, pips_sp, coin_sp) >> dice\n",
    "    d.display(d.Latex(\"$w(\" + str(r) + \") = \" + str(dice).replace('>',r\"\\rangle\") + \"$\"))\n",
    "    d.display(d.Latex(r\"$\\mathcal{M}(f)(w(\" + str(r) + \")) = \" + str(coin).replace('>',r\"\\rangle\") + \"$\"))\n",
    "\n",
    "d.display(nbi.bar(['Heads', 'Tails'], (lambda _, r: (bdf_chan(bdf_observe_f, pips_sp, coin_sp) >> bdf_w(r)).array),\n",
    "                  r=bdf_rSlider, options=bdf_coin_options))\n",
    "d.display(nbi.bar([1,2,3,4,5,6], (lambda _, r: bdf_w(r).array), r=bdf_rSlider, options=bdf_dice_options))\n",
    "d.display(interactive_output(bdf_disp, {'r': bdf_rSlider}))\n"
   ]
  },
  {
   "cell_type": "markdown",
   "metadata": {},
   "source": [
    "## Frequentist learning\n",
    "### A bag of marbles\n",
    "Suppose we have a bag containing $12$ marbles where $1$ is red, $3$ are gold, $4$ are silver and $4$ are bronze. This bag is represented by the multiset: $\\tau = 1|R\\rangle + 3|G\\rangle + 4|S\\rangle + 4|B\\rangle$. When we now randomly take a marble from this bag we have chance to get either a red, gold, silver or bronze one. We can compute this chance by computing $Flrn(\\tau) = 0.083|R\\rangle + 0.25|G\\rangle + 0.33|S\\rangle + 0.33|B\\rangle$. However, every time we take a marble from the bag the chance for each color changes. This is illustrated below, pressing the button will take a marble from the bag according to the chances."
   ]
  },
  {
   "cell_type": "code",
   "execution_count": 4,
   "metadata": {},
   "outputs": [
    {
     "data": {
      "application/vnd.jupyter.widget-view+json": {
       "model_id": "bdbb2fbbf5da42e785fbf7e0a02ddbab",
       "version_major": 2,
       "version_minor": 0
      },
      "text/plain": [
       "Button(description='Take a marble', style=ButtonStyle())"
      ]
     },
     "metadata": {},
     "output_type": "display_data"
    },
    {
     "data": {
      "application/vnd.jupyter.widget-view+json": {
       "model_id": "5300a9bd57504d9da877f3364f2fd114",
       "version_major": 2,
       "version_minor": 0
      },
      "text/plain": [
       "Output()"
      ]
     },
     "metadata": {},
     "output_type": "display_data"
    }
   ],
   "source": [
    "from efprob import *\n",
    "from ipywidgets import Output, Button\n",
    "from IPython.display import *\n",
    "import nbinteract as nbi\n",
    "from random import randrange\n",
    "\n",
    "abm_marbles_sp = Space(\"marbles\", ['R', 'G', 'S', 'B'])\n",
    "abm_initial_state = [1,3,4,4]\n",
    "abm_marbles = State(abm_initial_state.copy(), abm_marbles_sp)\n",
    "\n",
    "def abm_isempty():\n",
    "    all(m == 0 for m in values)\n",
    "\n",
    "def abm_take_marble():\n",
    "    indices = [[i] * int(x) for i, x in enumerate(abm_marbles.array) if x > 0]\n",
    "    flat_indices = [item for sublist in indices for item in sublist]\n",
    "    # Pick a random index from the flattened list and remove 1 from it\n",
    "    rand_index = flat_indices[randrange(0, len(flat_indices))]\n",
    "    abm_marbles.array[rand_index] = abm_marbles.array[rand_index]-1\n",
    "    # We can call sp.get(rand_index)[0] here because we know that our space only contains single items\n",
    "    return abm_marbles.sp.get(rand_index)[0]\n",
    "\n",
    "def abm_do_button_pressed(button):\n",
    "    global abm_marbles\n",
    "    if all(n == 0 for n in abm_marbles.array):\n",
    "        abm_marbles = State(abm_initial_state.copy(), abm_marbles_sp)\n",
    "        button.description = 'Take a marble'\n",
    "        return \"\"\n",
    "    else:\n",
    "        m = abm_take_marble()\n",
    "        if all(n == 0 for n in abm_marbles.array):\n",
    "            button.description = 'Put the marbles back'\n",
    "        return m\n",
    "\n",
    "abm_output = Output()\n",
    "\n",
    "def abm_disp_bag(m):\n",
    "    with abm_output:\n",
    "        clear_output()\n",
    "        display(Latex(r\"$\\tau = \" + str(abm_marbles).replace('>',r\"\\rangle\") + \"$\"))\n",
    "        display(Latex(r\"$Flrn(\\tau) = \" + str(abm_marbles.flrn()).replace('>',r\"\\rangle\") + \"$\"))\n",
    "        if not m == \"\":\n",
    "            display(\"Marble taken: \" + m)\n",
    "\n",
    "def abm_button_pressed(b):\n",
    "    m = abm_do_button_pressed(b)\n",
    "    abm_disp_bag(m)\n",
    "\n",
    "abm_button = Button(description='Take a marble', disabled=False)\n",
    "abm_button.on_click(abm_button_pressed)\n",
    "\n",
    "display(abm_button, abm_output)\n",
    "abm_disp_bag(\"\")"
   ]
  },
  {
   "cell_type": "markdown",
   "metadata": {},
   "source": [
    "## Channels\n",
    "### Biased dice with channels\n",
    "Recall the example [Biased dice functorality](#Biased-dice-functorality) in which we used the functorality of $\\mathcal{M}$ to change the fair $D6$ to a fair coin flip. This same thing can be done with channels as well. However, we will slightly change the morphism. Suppose that where the dice is rolled it is dark, and $\\frac{1}{10}$ times we observe wrongly if the number is even or odd. Let's define this as a $\\mathcal{D}$-channel $c$:\n",
    "\n",
    "$$\n",
    "\\begin{align*} \n",
    "c &: D6\\multimap\\mspace{-3mu}\\rightarrow C  \\\\\n",
    "c(x) &= \\left\\{\n",
    "\\begin{array}{ll}\n",
    "  \\frac{1}{10}|T\\rangle + \\frac{9}{10}|H\\rangle \\ \\text{if}\\ x\\ \\text{is even}\\\\\n",
    "  \\frac{9}{10}|T\\rangle + \\frac{1}{10}|H\\rangle\\ \\text{otherwise}\n",
    "\\end{array}\n",
    "\\right.\n",
    "\\end{align*}\n",
    "$$\n",
    "\n",
    "Now take $\\omega$ to be $\\frac{1}{6}|1\\rangle + \\frac{1}{6}|2\\rangle + \\frac{1}{6}|3\\rangle + \\frac{1}{6}|4\\rangle + \\frac{1}{6}|5\\rangle + \\frac{1}{6}|6\\rangle$, then we compute $c \\gg \\omega$:\n",
    "\n",
    "$$\n",
    "\\begin{align*} \n",
    "    c \\gg \\omega &= (flat \\circ \\mathcal{D}(c))(\\omega)\\\\\n",
    "    &= flat(\\mathcal{D}(c)(\\omega)) \\\\\n",
    "    &= flat(c(\\tfrac{1}{6}|1\\rangle) + c(\\tfrac{1}{6}|2\\rangle) + c(\\tfrac{1}{6}|3\\rangle) + c(\\tfrac{1}{6}|4\\rangle) + c(\\tfrac{1}{6}|5\\rangle) + c(\\tfrac{1}{6}|6\\rangle)\\\\\n",
    "    &= flat\\left( \\frac{1}{6}\\left|\\tfrac{9}{10}|T\\rangle + \\tfrac{1}{10}|H\\rangle\\right\\rangle + \\frac{1}{6}\\left|\\tfrac{1}{10}|T\\rangle + \\tfrac{9}{10}|H\\rangle\\right\\rangle + \\frac{1}{6}\\left|\\tfrac{9}{10}|T\\rangle + \\tfrac{1}{10}|H\\rangle\\right\\rangle + \\frac{1}{6}\\left|\\tfrac{1}{10}|T\\rangle + \\tfrac{9}{10}|H\\rangle\\right\\rangle + \\frac{1}{6}\\left|\\tfrac{9}{10}|T\\rangle + \\tfrac{1}{10}|H\\rangle\\right\\rangle + \\frac{1}{6}\\left|\\tfrac{1}{10}|T\\rangle + \\tfrac{9}{10}|H\\rangle\\right\\rangle \\right) \\\\\n",
    "    &= \\tfrac{3}{20}|T\\rangle + \\tfrac{1}{60}|H\\rangle + \\tfrac{1}{60}|T\\rangle + \\tfrac{3}{20}|H\\rangle + \\tfrac{3}{20}|T\\rangle + \\tfrac{1}{60}|H\\rangle + \\tfrac{1}{60}|T\\rangle + \\tfrac{3}{20}|H\\rangle + \\tfrac{3}{20}|T\\rangle + \\tfrac{1}{60}|H\\rangle + \\tfrac{1}{60}|T\\rangle + \\tfrac{3}{20}|H\\rangle \\\\\n",
    "    &= \\tfrac{30}{60}|T\\rangle + \\tfrac{30}{60}|H\\rangle \\\\\n",
    "    &= \\tfrac{1}{2}|T\\rangle + \\tfrac{1}{2}|H\\rangle\n",
    "\\end{align*}\n",
    "$$\n",
    "\n",
    "It is visible from this calculation that even though we have an imperfect observation of whether we roll an even or an odd number in the end it doesn't matter for the final chance. However, this changes when we use a weighted dice. Recall $w$ from [Biased dice functorality](#Biased-dice-functorality), we'll use this again, but this time in combination with $c$."
   ]
  },
  {
   "cell_type": "code",
   "execution_count": 5,
   "metadata": {},
   "outputs": [
    {
     "data": {
      "application/vnd.jupyter.widget-view+json": {
       "model_id": "22a7c48279e34e9e8a0e88a3141d1cd1",
       "version_major": 2,
       "version_minor": 0
      },
      "text/plain": [
       "VBox(children=(interactive(children=(FloatSlider(value=0.0, description='$$r:=$$', max=5.0, step=0.01), Output…"
      ]
     },
     "metadata": {},
     "output_type": "display_data"
    },
    {
     "data": {
      "application/vnd.jupyter.widget-view+json": {
       "model_id": "87bf4241fb504e38866279ca91d3ff63",
       "version_major": 2,
       "version_minor": 0
      },
      "text/plain": [
       "VBox(children=(interactive(children=(FloatSlider(value=0.0, description='$$r:=$$', max=5.0, step=0.01), Output…"
      ]
     },
     "metadata": {},
     "output_type": "display_data"
    },
    {
     "data": {
      "application/vnd.jupyter.widget-view+json": {
       "model_id": "ea4fd15882d34fa68d6eeb9fdd97ee62",
       "version_major": 2,
       "version_minor": 0
      },
      "text/plain": [
       "Output()"
      ]
     },
     "metadata": {},
     "output_type": "display_data"
    }
   ],
   "source": [
    "from efprob import *\n",
    "from ipywidgets import interactive_output, FloatSlider\n",
    "import IPython.display as d\n",
    "import nbinteract as nbi\n",
    "\n",
    "cbd_rSlider = FloatSlider(\n",
    "    value=0.00,\n",
    "    min=0,\n",
    "    max=5,\n",
    "    step=0.01,\n",
    "    description='$$r:=$$'\n",
    ")\n",
    "\n",
    "cbd_coin_options = {\n",
    "    'title': 'Chance for Heads or Tails',\n",
    "    'ylabel': 'Chance between 0 and 1 with 1 being 100%',\n",
    "    'ylim': (0.00, 1.01)\n",
    "}\n",
    "\n",
    "cbd_dice_options = {\n",
    "    'title': 'Weighted 6-sided dice',\n",
    "    'ylabel': 'Chance between 0 and 1 with 1 being 100%',\n",
    "    'ylim': (0.00, 1.01)\n",
    "}\n",
    "\n",
    "def cbd_function(x):\n",
    "    if x % 2 == 0:\n",
    "        return State([9/10, 1/10], coin_sp)\n",
    "    return State([1/10,9/10], coin_sp)\n",
    "\n",
    "cbd_channel = Channel.fromfun(cbd_function, pips_sp, coin_sp)\n",
    "\n",
    "def cbd_w(r): return State([(1-r/5)/6, (1-r/5)/6, (1-r/5)/6, (1-r/5)/6, (1-r/5)/6, (1+r)/6], pips_sp)\n",
    "\n",
    "def cbd_disp(r):\n",
    "    dice = cbd_w(r)\n",
    "    coin = cbd_channel >> dice\n",
    "    d.display(d.Latex(\"$w(\" + str(r) + \") = \" + str(dice).replace('>',r\"\\rangle\") + \"$\"))\n",
    "    d.display(d.Latex(r\"$\\mathcal{M}(f)(w(\" + str(r) + \")) = \" + str(coin).replace('>',r\"\\rangle\") + \"$\"))\n",
    "\n",
    "d.display(nbi.bar(['Heads', 'Tails'], (lambda _, r: (cbd_channel >> cbd_w(r)).array),\n",
    "                  r=cbd_rSlider, options=cbd_coin_options))\n",
    "d.display(nbi.bar([1,2,3,4,5,6], (lambda _, r: cbd_w(r).array), r=cbd_rSlider, options=cbd_dice_options))\n",
    "d.display(interactive_output(cbd_disp, {'r': cbd_rSlider}))"
   ]
  },
  {
   "cell_type": "markdown",
   "metadata": {},
   "source": [
    "When the value of $r$ is different than $0$, i.e. the result of $w$ is no longer uniform, the imperfection in the observation matters. It will now never be the case that there is $100\\%$ guarantee to get an even number or 'heads'. This is because of the way $flat$ functions. Take $w(5.0)$ which is $0|1\\rangle + 0|2\\rangle + 0|3\\rangle + 0|4\\rangle + 0|5\\rangle + 1|6\\rangle$ and let's compute $c \\gg w(5.0)$:\n",
    "\n",
    "$$\n",
    "\\begin{align*} \n",
    "    c \\gg w(5.0) &= (flat \\circ \\mathcal{D}(c))(w(5.0))\\\\\n",
    "    &= (flat \\circ \\mathcal{D}(c))(0|1\\rangle + 0|2\\rangle + 0|3\\rangle + 0|4\\rangle + 0|5\\rangle + 1|6\\rangle) \\\\\n",
    "    &= flat\\left(0\\left|\\tfrac{9}{10}|T\\rangle + \\tfrac{1}{10}|H\\rangle\\right\\rangle + 0\\left|\\tfrac{1}{10}|T\\rangle + \\tfrac{9}{10}|H\\rangle\\right\\rangle + 0\\left|\\tfrac{9}{10}|T\\rangle + \\tfrac{1}{10}|H\\rangle\\right\\rangle + 0\\left|\\tfrac{1}{10}|T\\rangle + \\tfrac{9}{10}|H\\rangle\\right\\rangle + 0\\left|\\tfrac{9}{10}|T\\rangle + \\tfrac{1}{10}|H\\rangle\\right\\rangle + 1\\left|\\tfrac{1}{10}|T\\rangle + \\tfrac{9}{10}|H\\rangle\\right\\rangle\\right) \\\\\n",
    "    &= 0\\cdot\\tfrac{9}{10}|T\\rangle + 0\\cdot\\tfrac{1}{10}|H\\rangle + 0\\cdot\\tfrac{1}{10}|T\\rangle + 0\\cdot\\tfrac{9}{10}|H\\rangle + 0\\cdot\\tfrac{9}{10}|T\\rangle + 0\\cdot\\tfrac{1}{10}|H\\rangle \\\\ &\\ \\ \\ \\ + 0\\cdot\\tfrac{1}{10}|T\\rangle + 0\\cdot\\tfrac{9}{10}|H\\rangle + 0\\cdot\\tfrac{9}{10}|T\\rangle + 0\\cdot\\tfrac{1}{10}|H\\rangle + 1\\cdot\\tfrac{1}{10}|T\\rangle + 1\\cdot\\tfrac{9}{10}|H\\rangle\\\\\n",
    "    &= \\tfrac{1}{10}|T\\rangle + \\tfrac{9}{10}|H\\rangle\n",
    "\\end{align*}\n",
    "$$\n",
    "\n",
    "Observe how the inner probabilities are affected by the outer probabilities due to the $flat$ function. This means that since on a perfectly weighted dice we will only roll a $6$, our observation will always be $\\tfrac{1}{10}|T\\rangle + \\tfrac{9}{10}|H\\rangle$.\n",
    "\n",
    "### Graphical representation of an imperfect observation\n",
    "Recall that as stated in 1.7.1 any channel has a graphical representation as a transition graph. Let's take a channel $c$ representing an imperfect observation of a 4-sided dice with $Dice4 = \\{ 1, 2, 3, 4 \\}$, $C = \\{ H, T \\}$ with the following definition:\n",
    "\n",
    "$$\n",
    "\\begin{align*} \n",
    "c &: Dice4 \\times [0,10] \\multimap\\mspace{-3mu}\\rightarrow C  \\\\\n",
    "c(x, n) &= \\left\\{\n",
    "\\begin{array}{ll}\n",
    "  \\frac{n}{10}|T\\rangle + \\frac{10-n}{10}|H\\rangle \\ \\text{if}\\ x\\ \\text{is even}\\\\\n",
    "  \\frac{10-n}{10}|T\\rangle + \\frac{n}{10}|H\\rangle\\ \\text{otherwise}\n",
    "\\end{array}\n",
    "\\right.\n",
    "\\end{align*}\n",
    "$$\n",
    "\n",
    "For this example we take the following uniform state as our dice $s = \\frac{1}{4}|1\\rangle + \\frac{1}{4}|2\\rangle + \\frac{1}{4}|3\\rangle + \\frac{1}{4}|4\\rangle \\in \\mathcal{D}(Dice4)$. Now let's graphically represent this channel and state while filling in $n$:"
   ]
  },
  {
   "cell_type": "code",
   "execution_count": 6,
   "metadata": {},
   "outputs": [
    {
     "data": {
      "application/vnd.jupyter.widget-view+json": {
       "model_id": "9849874f1abf477cbed123d22a40b17a",
       "version_major": 2,
       "version_minor": 0
      },
      "text/plain": [
       "IntSlider(value=0, description='$$n=$$', max=10)"
      ]
     },
     "metadata": {},
     "output_type": "display_data"
    },
    {
     "data": {
      "application/vnd.jupyter.widget-view+json": {
       "model_id": "d0ebbe43c972438cb5b51f8f55243781",
       "version_major": 2,
       "version_minor": 0
      },
      "text/plain": [
       "Output()"
      ]
     },
     "metadata": {},
     "output_type": "display_data"
    }
   ],
   "source": [
    "from IPython.display import HTML\n",
    "from ipywidgets import interactive_output, IntSlider\n",
    "import IPython.display as d\n",
    "\n",
    "d4_nSlider = IntSlider(\n",
    "    value=0,\n",
    "    min=0,\n",
    "    max=10,\n",
    "    description='$$n=$$'\n",
    ")\n",
    "\n",
    "def d4_disp(x):\n",
    "    paths = \"\"\n",
    "    for side in range(1,5):\n",
    "        pHeads, pTails = 0, 0\n",
    "        if side % 2 == 0:\n",
    "            paths += r\"\\path [->] (\" + str(side+1) + r\") edge node {\" + str(int(10-x)) + r'''/10} (6);\n",
    "'''\n",
    "            paths += r\"\\path [->] (\" + str(side+1) + r\") edge node {\" + str(int(x)) + r'''/10} (7);\n",
    "'''\n",
    "        else:\n",
    "            paths += r\"\\path [->] (\" + str(side+1) + r\") edge node {\" + str(int(10-x)) + r'''/10} (7);\n",
    "'''\n",
    "            paths += r\"\\path [->] (\" + str(side+1) + r\") edge node {\" + str(int(x)) + r'''/10} (6);\n",
    "'''\n",
    "    d.display(d.HTML(r'''\n",
    "<script type=\"text/tikz\">\n",
    "\\usetikzlibrary{arrows.meta}\n",
    "\\usetikzlibrary{arrows}\n",
    "\\begin{tikzpicture}\n",
    "    \\begin{scope}[every node/.style={circle,draw,fill=black}]\n",
    "        \\node (1) at (0,0) {};\n",
    "    \\end{scope}\n",
    "    \n",
    "    \\begin{scope}[every node/.style={circle,draw}]\n",
    "        \\node (2) at (3,3)  {1};\n",
    "        \\node (3) at (3,1)  {2};\n",
    "        \\node (4) at (3,-1) {3};\n",
    "        \\node (5) at (3,-3) {4};\n",
    "        \\node (6) at (10, 2) {H};\n",
    "        \\node (7) at (7,-2) {T};\n",
    "    \\end{scope}\n",
    "\n",
    "    \\begin{scope}[>={stealth[black]},\n",
    "        every node/.style={fill=white,circle},\n",
    "        every edge/.style={draw=black}]\n",
    "        \\path [->] (1) edge node {1/4} (2);\n",
    "        \\path [->] (1) edge node {1/4} (3);\n",
    "        \\path [->] (1) edge node {1/4} (4);\n",
    "        \\path [->] (1) edge node {1/4} (5);\n",
    "''' + paths + '''\n",
    "    \\end{scope}\n",
    "\\end{tikzpicture}\n",
    "</script>'''))\n",
    "    \n",
    "d.display(d4_nSlider)\n",
    "d.display(interactive_output(d4_disp, {'x': d4_nSlider}))"
   ]
  },
  {
   "cell_type": "markdown",
   "metadata": {},
   "source": [
    "## Parallel products\n",
    "### Parallel dices\n",
    "Suppose for some reason we want someone to roll a dice that contains $100$ possible numbers on it (i.e. the roller has a $1$ in $100$ chance for each number). Such dices exist, but in reality they take a while to land on a face since they are almost spherical. Let's say we don't have a $100$ sided dice, but we do have a $10$-sided dice, a d10. We can represent all faces on the dice as the following set $D10 := \\{0,1,2,3,4,5,6,7,8,9\\}$. Rolling such a dice can be represented by the following uniform probability distribution:\n",
    "\n",
    "$$\\tau = \\frac{1}{10}|0\\rangle + \\frac{1}{10}|1\\rangle + \\frac{1}{10}|2\\rangle + \\frac{1}{10}|3\\rangle + \\frac{1}{10}|4\\rangle + \\frac{1}{10}|5\\rangle + \\frac{1}{10}|6\\rangle + \\frac{1}{10}|7\\rangle + \\frac{1}{10}|8\\rangle + \\frac{1}{10}|9\\rangle$$\n",
    "\n",
    "We now want to use this dice to create a uniform probability distribution in which every possibility has a $\\frac{1}{100}$ chance. Intuitively this is easy, just roll the d10 twice and you get $100$ different combinations. In case you would like to translate this to the number sequence $[1..100]$ you can use the following:\n",
    "\n",
    "$$ \n",
    "0, 1 = 1\\\\\n",
    "0, 2 = 2\\\\\n",
    "...\\\\\n",
    "0, 9 = 9\\\\\n",
    "0, 0 = 10\\\\\n",
    "1, 1 = 11\\\\\n",
    "...\\\\\n",
    "1, 0 = 20\\\\\n",
    "9, 0 = 100\n",
    "$$\n",
    "\n",
    "To now represent this in a multiset we can compute the parallel product of $\\tau$ with itself, $\\tau \\otimes \\tau$, as follows:\n",
    "\n",
    "$$\\begin{eqnarray*}\n",
    "\\tau\\otimes\\tau &=& \\sum_{x,y} (\\tau(x) \\cdot \\tau(y))|x,y\\rangle\\\\\n",
    "&=& (\\tau(0)\\cdot\\tau(0))|0,0\\rangle + (\\tau(0)\\cdot\\tau(1))|0,1\\rangle +\\ ...\\ + (\\tau(9)\\cdot\\tau(9))|9,9\\rangle\\\\\n",
    "&=& \\frac{1}{100}|0,0\\rangle + \\frac{1}{100}|0,1\\rangle +\\ ...\\ + \\frac{1}{100}|9,9\\rangle\n",
    "\\end{eqnarray*}$$"
   ]
  },
  {
   "cell_type": "markdown",
   "metadata": {},
   "source": [
    "## A Bayesian network example\n",
    "In section 1.9 the book looks at a bayesian network (shown below) and translates this to channels. The following set of examples will show the inner workings of these channels and their influences on eachother."
   ]
  },
  {
   "cell_type": "code",
   "execution_count": 7,
   "metadata": {},
   "outputs": [
    {
     "data": {
      "text/html": [
       "\n",
       "<link rel=\"stylesheet\" type=\"text/css\" href=\"http://tikzjax.com/v1/fonts.css\">\n",
       "<script type=\"text/tikz\">\n",
       "    \\begin{tikzpicture}[\n",
       "        none/.style={},\n",
       "        white dot/.style={inner sep=0mm, minimum size=1.5mm, draw=black, shape=circle, text depth=-0.2mm, draw=black, fill=white},\n",
       "        black dot/.style={inner sep=0mm, minimum size=1.5mm, draw=black, shape=circle, draw=black, fill=black},\n",
       "        observed/.style={inner sep=0mm, minimum size=5mm, draw=black, shape=circle, text depth=-0.2mm, draw=white, tikzit draw=gray, fill=white},\n",
       "        latent/.style={inner sep=0mm, minimum size=5mm, draw=black, shape=circle, text depth=-0.2mm, draw=black, fill=white},\n",
       "        small box/.style={shape=rectangle, text height=1.5ex, text depth=0.25ex, yshift=0.5mm, fill=white, draw=black, minimum height=6mm, yshift=-0.5mm, minimum width=6mm, font={\\Large}},\n",
       "        medium box/.style={shape=rectangle, draw=black, fill=white, small box, minimum width=8mm},\n",
       "        semilarge box/.style={shape=rectangle, draw=black, fill=white, small box, minimum width=12.5mm},\n",
       "        large box/.style={shape=rectangle, draw=black, fill=white, small box, minimum width=15mm},\n",
       "        upground/.style={circuit ee IEC, thick, ground, rotate=90, scale=1.5, inner sep=-2mm, tikzit shape=circle, tikzit fill=blue},\n",
       "        downground/.style={circuit ee IEC, thick, ground, rotate=-90, scale=1.5, inner sep=-2mm, tikzit shape=circle, tikzit fill=green},\n",
       "        point/.style={regular polygon, regular polygon sides=3, draw, scale=0.75, inner sep=-0.5pt, minimum width=9mm, fill=white, regular polygon rotate=180},\n",
       "        copoint/.style={regular polygon, regular polygon sides=3, draw, scale=0.75, inner sep=-0.5pt, minimum width=9mm, fill=white},\n",
       "        uniform/.style={point, fill=gray, tikzit shape=circle, scale=0.5},\n",
       "        label/.style={font={\\footnotesize}, text height=1.5ex, text depth=0.25ex, tikzit draw=blue, tikzit fill=white},\n",
       "        left label/.style={label, anchor=east, xshift=2mm, tikzit draw=green, tikzit fill=white},\n",
       "        right label/.style={label, anchor=west, xshift=-2mm, tikzit draw=purple, tikzit fill=white},\n",
       "        disintegration/.style={draw=black, fill={gray!50}, tikzit fill=gray, shape=rectangle, minimum width=1.6cm, minimum height=1.2cm, opacity=0.3},\n",
       "        empty diag/.style={shape=rectangle, draw=darkgray, dashed, minimum width=8mm, minimum height=8mm, yshift=0.5mm},\n",
       "        diredge/.style={->, >=latex},\n",
       "        dashed edge/.style={-, dashed}]\n",
       "\n",
       "        \\node [style=black dot] (2) at (0, -2) {};\n",
       "\t\t\\node [style=semilarge box] (4) at (-1.75, 0.5) {sprinkler};\n",
       "\t\t\\node [style=large box] (6) at (-1.5, 3.25) {wet grass};\n",
       "\t\t\\node [style=black dot] (8) at (1.5, 1.5) {};\n",
       "\t\t\\node [style=medium box] (9) at (1.5, 0) {rain};\n",
       "\t\t\\node [style=medium box] (10) at (0, -3.5) {winter};\n",
       "\t\t\\node [style=none] (11) at (1.5, 0.5) {};\n",
       "\t\t\\node [style=none] (12) at (1.5, -0.5) {};\n",
       "\t\t\\node [style=none] (13) at (-1.75, 0) {};\n",
       "\t\t\\node [style=none] (14) at (2.25, 2.75) {};\n",
       "\t\t\\node [style=none] (15) at (-1, 2.75) {};\n",
       "\t\t\\node [style=none] (16) at (-1.75, 2.75) {};\n",
       "\t\t\\node [style=none] (17) at (-1.75, 1) {};\n",
       "\t\t\\node [style=none] (18) at (-1.5, 4.75) {};\n",
       "\t\t\\node [style=none] (20) at (-0.5, -2.25) {$A$};\n",
       "\t\t\\node [style=none] (21) at (-2.25, 1.75) {$B$};\n",
       "\t\t\\node [style=none] (22) at (2, 1.25) {$C$};\n",
       "\t\t\\node [style=none] (23) at (-2, 4.5) {$D$};\n",
       "\t\t\\node [style=none] (24) at (2.75, 4.5) {$E$};\n",
       "\t\t\\node [style=medium box] (25) at (2.25, 3.25) {slippery road};\n",
       "\t\t\\node [style=none] (26) at (2.25, 4.75) {};\n",
       "\t\t\\draw [style=diredge] (10) to (2);\n",
       "\t\t\\draw [style=diredge, in=-90, out=45, looseness=0.75] (2) to (12.center);\n",
       "\t\t\\draw [style=diredge, in=-90, out=135, looseness=0.75] (2) to (13.center);\n",
       "\t\t\\draw [style=diredge] (11.center) to (8);\n",
       "\t\t\\draw [style=diredge, in=-90, out=90, looseness=0.75] (17.center) to (16.center);\n",
       "\t\t\\draw [style=diredge, in=-90, out=135, looseness=0.75] (8) to (15.center);\n",
       "\t\t\\draw [style=diredge, in=-90, out=60, looseness=0.75] (8) to (14.center);\n",
       "\t\t\\draw [style=diredge] (6) to (18.center);\n",
       "\t\t\\draw [style=diredge] (25) to (26.center);\n",
       "    \\end{tikzpicture}\n",
       "</script>\n"
      ],
      "text/plain": [
       "<IPython.core.display.HTML object>"
      ]
     },
     "execution_count": 7,
     "metadata": {},
     "output_type": "execute_result"
    }
   ],
   "source": [
    "from IPython.display import HTML\n",
    "\n",
    "HTML(r'''\n",
    "<link rel=\"stylesheet\" type=\"text/css\" href=\"http://tikzjax.com/v1/fonts.css\">\n",
    "<script type=\"text/tikz\">\n",
    "    \\begin{tikzpicture}[\n",
    "        none/.style={},\n",
    "        white dot/.style={inner sep=0mm, minimum size=1.5mm, draw=black, shape=circle, text depth=-0.2mm, draw=black, fill=white},\n",
    "        black dot/.style={inner sep=0mm, minimum size=1.5mm, draw=black, shape=circle, draw=black, fill=black},\n",
    "        observed/.style={inner sep=0mm, minimum size=5mm, draw=black, shape=circle, text depth=-0.2mm, draw=white, tikzit draw=gray, fill=white},\n",
    "        latent/.style={inner sep=0mm, minimum size=5mm, draw=black, shape=circle, text depth=-0.2mm, draw=black, fill=white},\n",
    "        small box/.style={shape=rectangle, text height=1.5ex, text depth=0.25ex, yshift=0.5mm, fill=white, draw=black, minimum height=6mm, yshift=-0.5mm, minimum width=6mm, font={\\Large}},\n",
    "        medium box/.style={shape=rectangle, draw=black, fill=white, small box, minimum width=8mm},\n",
    "        semilarge box/.style={shape=rectangle, draw=black, fill=white, small box, minimum width=12.5mm},\n",
    "        large box/.style={shape=rectangle, draw=black, fill=white, small box, minimum width=15mm},\n",
    "        upground/.style={circuit ee IEC, thick, ground, rotate=90, scale=1.5, inner sep=-2mm, tikzit shape=circle, tikzit fill=blue},\n",
    "        downground/.style={circuit ee IEC, thick, ground, rotate=-90, scale=1.5, inner sep=-2mm, tikzit shape=circle, tikzit fill=green},\n",
    "        point/.style={regular polygon, regular polygon sides=3, draw, scale=0.75, inner sep=-0.5pt, minimum width=9mm, fill=white, regular polygon rotate=180},\n",
    "        copoint/.style={regular polygon, regular polygon sides=3, draw, scale=0.75, inner sep=-0.5pt, minimum width=9mm, fill=white},\n",
    "        uniform/.style={point, fill=gray, tikzit shape=circle, scale=0.5},\n",
    "        label/.style={font={\\footnotesize}, text height=1.5ex, text depth=0.25ex, tikzit draw=blue, tikzit fill=white},\n",
    "        left label/.style={label, anchor=east, xshift=2mm, tikzit draw=green, tikzit fill=white},\n",
    "        right label/.style={label, anchor=west, xshift=-2mm, tikzit draw=purple, tikzit fill=white},\n",
    "        disintegration/.style={draw=black, fill={gray!50}, tikzit fill=gray, shape=rectangle, minimum width=1.6cm, minimum height=1.2cm, opacity=0.3},\n",
    "        empty diag/.style={shape=rectangle, draw=darkgray, dashed, minimum width=8mm, minimum height=8mm, yshift=0.5mm},\n",
    "        diredge/.style={->, >=latex},\n",
    "        dashed edge/.style={-, dashed}]\n",
    "\n",
    "        \\node [style=black dot] (2) at (0, -2) {};\n",
    "\t\t\\node [style=semilarge box] (4) at (-1.75, 0.5) {sprinkler};\n",
    "\t\t\\node [style=large box] (6) at (-1.5, 3.25) {wet grass};\n",
    "\t\t\\node [style=black dot] (8) at (1.5, 1.5) {};\n",
    "\t\t\\node [style=medium box] (9) at (1.5, 0) {rain};\n",
    "\t\t\\node [style=medium box] (10) at (0, -3.5) {winter};\n",
    "\t\t\\node [style=none] (11) at (1.5, 0.5) {};\n",
    "\t\t\\node [style=none] (12) at (1.5, -0.5) {};\n",
    "\t\t\\node [style=none] (13) at (-1.75, 0) {};\n",
    "\t\t\\node [style=none] (14) at (2.25, 2.75) {};\n",
    "\t\t\\node [style=none] (15) at (-1, 2.75) {};\n",
    "\t\t\\node [style=none] (16) at (-1.75, 2.75) {};\n",
    "\t\t\\node [style=none] (17) at (-1.75, 1) {};\n",
    "\t\t\\node [style=none] (18) at (-1.5, 4.75) {};\n",
    "\t\t\\node [style=none] (20) at (-0.5, -2.25) {$A$};\n",
    "\t\t\\node [style=none] (21) at (-2.25, 1.75) {$B$};\n",
    "\t\t\\node [style=none] (22) at (2, 1.25) {$C$};\n",
    "\t\t\\node [style=none] (23) at (-2, 4.5) {$D$};\n",
    "\t\t\\node [style=none] (24) at (2.75, 4.5) {$E$};\n",
    "\t\t\\node [style=medium box] (25) at (2.25, 3.25) {slippery road};\n",
    "\t\t\\node [style=none] (26) at (2.25, 4.75) {};\n",
    "\t\t\\draw [style=diredge] (10) to (2);\n",
    "\t\t\\draw [style=diredge, in=-90, out=45, looseness=0.75] (2) to (12.center);\n",
    "\t\t\\draw [style=diredge, in=-90, out=135, looseness=0.75] (2) to (13.center);\n",
    "\t\t\\draw [style=diredge] (11.center) to (8);\n",
    "\t\t\\draw [style=diredge, in=-90, out=90, looseness=0.75] (17.center) to (16.center);\n",
    "\t\t\\draw [style=diredge, in=-90, out=135, looseness=0.75] (8) to (15.center);\n",
    "\t\t\\draw [style=diredge, in=-90, out=60, looseness=0.75] (8) to (14.center);\n",
    "\t\t\\draw [style=diredge] (6) to (18.center);\n",
    "\t\t\\draw [style=diredge] (25) to (26.center);\n",
    "    \\end{tikzpicture}\n",
    "</script>\n",
    "''')\n",
    "\n"
   ]
  },
  {
   "cell_type": "markdown",
   "metadata": {},
   "source": [
    "As stated in the  book, this network starts with an initial state, winter. Which is defined as $wi = \\tfrac{3}{5}|a\\rangle + \\tfrac{2}{5}|a^{\\bot}$, we can then determine, because sprinkler is a channel, what the probability is that the sprinkler is on. This can be done similarly for the chance of rain. Let's now assume that we somehow have control over the winter state, i.e. the chance of it being winter. We define a function to create a different winter state: $cw(x) := \\tfrac{x}{100}|a\\rangle + \\tfrac{100-x}{100}|a^{\\bot}$. Now we can observe how this alters the different states:"
   ]
  },
  {
   "cell_type": "code",
   "execution_count": 8,
   "metadata": {},
   "outputs": [
    {
     "data": {
      "application/vnd.jupyter.widget-view+json": {
       "model_id": "6c97547a75cf42c888c941ea5bc6f9bd",
       "version_major": 2,
       "version_minor": 0
      },
      "text/plain": [
       "Output()"
      ]
     },
     "metadata": {},
     "output_type": "display_data"
    },
    {
     "data": {
      "application/vnd.jupyter.widget-view+json": {
       "model_id": "3207610ff55f4fd9901ece4b056e9e07",
       "version_major": 2,
       "version_minor": 0
      },
      "text/plain": [
       "IntSlider(value=60, description='$$x=$$')"
      ]
     },
     "metadata": {},
     "output_type": "display_data"
    }
   ],
   "source": [
    "from ipywidgets import interactive_output, IntSlider\n",
    "import IPython.display as d\n",
    "from efprob import *\n",
    "\n",
    "bnea_xSlider = IntSlider(\n",
    "    value=60,\n",
    "    min=0,\n",
    "    max=100,\n",
    "    description='$$x=$$'\n",
    ")\n",
    "\n",
    "bnea_A = Space(\"A\", [\"a\", r\"a^{\\bot}\"]) # A = {a, !a}\n",
    "bnea_B = Space(\"B\", [\"b\", r\"b^{\\bot}\"])\n",
    "bnea_C = Space(\"C\", [\"c\", r\"c^{\\bot}\"])\n",
    "\n",
    "def bnea_wif(x):\n",
    "    return State([x/100,(100-x)/100], bnea_A)\n",
    "\n",
    "def bnea_spf(a):\n",
    "    if a == \"a\":\n",
    "        return State([1/5, 4/5], bnea_B)\n",
    "    return State([3/4,1/4], bnea_B)\n",
    "\n",
    "bnea_sp = Channel.fromfun(bnea_spf, bnea_A, bnea_B)\n",
    "\n",
    "def bnea_raf(a):\n",
    "    if a == \"a\":\n",
    "        return State([4/5, 1/5], bnea_C)\n",
    "    return State([1/10, 9/10], bnea_C)\n",
    "\n",
    "bnea_ra = Channel.fromfun(bnea_raf, bnea_A, bnea_C)\n",
    "\n",
    "def bnea_disp(x):\n",
    "    wi = bnea_wif(x)\n",
    "    dwi = copy2(bnea_A) >> wi\n",
    "    spra = bnea_sp @ bnea_ra\n",
    "    d.display(d.Latex(r\"$(sp \\gg cw(\" + str(x) + \")) =\" + str(bnea_sp >> wi).replace('>',r\"\\rangle\") + \"$\"))\n",
    "    d.display(d.Latex(r\"$(ra \\gg cw(\" + str(x) + \")) =\" + str(bnea_ra >> wi).replace('>',r\"\\rangle\") + \"$\"))\n",
    "    d.display(d.Latex(r\"$(sp \\otimes ra) \\gg (\\Delta \\gg cw(\"+ str(x) + \")) =\" + str(spra >> dwi).replace('>',r\"\\rangle\") + \"$\"))\n",
    "\n",
    "d.display(interactive_output(bnea_disp, {'x': bnea_xSlider}), bnea_xSlider)"
   ]
  },
  {
   "cell_type": "markdown",
   "metadata": {},
   "source": [
    "These equations should be read in a certain way. Since we have used $cw$ to control the chance of winter, we will interpret this as a condition, reading $cw(x)$ as \"When there is a $x\\%$ chance of winter, then..\". Let's take $x=60$, then for $(sp \\gg cw(60))$, it should be read as \"When there is a $60\\%$ of winter, then there is a $42\\%$ chance that the sprinkler is activated.\" Next for $(ra \\gg cw(60))$, it should be read as \"When there is a $60\\%$ of winter, then there is a $52\\%$ chance that it is raining.\n",
    "\n",
    "For the third equation, both previous equations are combined to form a parallel product. It should be read as \"When there is a $60\\%$ chance of winter, then the chance that the sprinkler is on and it is raining is $12.6\\%$. The last part is interchangeable for all combinations of whether it is raining or the sprinkler is on. An interesting observation is that as the chance of winter increases, the chances of $b, c$ and $b^{\\bot}, c^{\\bot}$ converge, and the chances of $b, c^{\\bot}$ and $b^{\\bot}, c$ cross almost in the middle, as is visible in the graph below. Read $!x$ as $x^{\\bot}$."
   ]
  },
  {
   "cell_type": "code",
   "execution_count": 9,
   "metadata": {},
   "outputs": [
    {
     "data": {
      "image/png": "[encoded data removed]",
      "text/plain": [
       "<Figure size 432x288 with 1 Axes>"
      ]
     },
     "metadata": {
      "needs_background": "light"
     },
     "output_type": "display_data"
    }
   ],
   "source": [
    "import IPython.display as d\n",
    "from efprob import *\n",
    "from matplotlib import pyplot as plt\n",
    "\n",
    "bneg_A = Space(\"A\", [\"a\", r\"a^{\\bot}\"]) # A = {a, !a}\n",
    "bneg_B = Space(\"B\", [\"b\", r\"b^{\\bot}\"])\n",
    "bneg_C = Space(\"C\", [\"c\", r\"c^{\\bot}\"])\n",
    "\n",
    "def bneg_wif(x):\n",
    "    return State([x/100,(100-x)/100], bneg_A)\n",
    "\n",
    "def bneg_spf(a):\n",
    "    if a == \"a\":\n",
    "        return State([1/5, 4/5], bneg_B)\n",
    "    return State([3/4,1/4], bneg_B)\n",
    "\n",
    "bneg_sp = Channel.fromfun(bneg_spf, bneg_A, bneg_B)\n",
    "\n",
    "def bneg_raf(a):\n",
    "    if a == \"a\":\n",
    "        return State([4/5, 1/5], bneg_C)\n",
    "    return State([1/10, 9/10], bneg_C)\n",
    "\n",
    "bneg_ra = Channel.fromfun(bneg_raf, bneg_A, bneg_C)\n",
    "\n",
    "def bneg_calc_at(x):\n",
    "    result = (bneg_sp @ bneg_ra) >> (copy2(bneg_A) >> bneg_wif(x))\n",
    "    return result.array[0][0], result.array[0][1], result.array[1][0], result.array[1][1]\n",
    "\n",
    "def bneg_disp():\n",
    "    both_line, onlyb_line, onlyc_line, none_line = [], [], [], []\n",
    "    for x in range(1,101):\n",
    "        both, onlyb, onlyc, none = bneg_calc_at(x)\n",
    "        both_line.append(both)\n",
    "        onlyb_line.append(onlyb)\n",
    "        onlyc_line.append(onlyc)\n",
    "        none_line.append(none)\n",
    "    plt.plot(both_line, label='b, c')\n",
    "    plt.plot(onlyb_line, label='b, !c')\n",
    "    plt.plot(onlyc_line, label='!b, c')\n",
    "    plt.plot(none_line, label='!b, !c')\n",
    "    plt.title('Probabilities of sp and ra')\n",
    "    plt.legend(loc = 'best')\n",
    "    plt.xlabel('Chance of winter in percentage')\n",
    "    plt.ylabel('Chances of each pair occuring in decimals')\n",
    "    plt.show()\n",
    "        \n",
    "bneg_disp()"
   ]
  },
  {
   "cell_type": "markdown",
   "metadata": {},
   "source": [
    "In this graph the relations between the pairs based on the chance of winter are clearly visible. Now based on the previous calculations we can finally calculate the probabilities for wet grass and slippery road."
   ]
  },
  {
   "cell_type": "code",
   "execution_count": 10,
   "metadata": {},
   "outputs": [
    {
     "data": {
      "application/vnd.jupyter.widget-view+json": {
       "model_id": "c456ff00f08645c3942b4fa4bdc65bde",
       "version_major": 2,
       "version_minor": 0
      },
      "text/plain": [
       "Output()"
      ]
     },
     "metadata": {},
     "output_type": "display_data"
    },
    {
     "data": {
      "application/vnd.jupyter.widget-view+json": {
       "model_id": "3f128e60d90747ff801e3c0bbc5208da",
       "version_major": 2,
       "version_minor": 0
      },
      "text/plain": [
       "IntSlider(value=60, description='$$x=$$')"
      ]
     },
     "metadata": {},
     "output_type": "display_data"
    }
   ],
   "source": [
    "from ipywidgets import interactive_output, IntSlider\n",
    "import IPython.display as d\n",
    "from efprob import *\n",
    "\n",
    "bneb_xSlider = IntSlider(\n",
    "    value=60,\n",
    "    min=0,\n",
    "    max=100,\n",
    "    description='$$x=$$'\n",
    ")\n",
    "\n",
    "bneb_A = Space(\"A\", [\"a\", r\"a^{\\bot}\"]) # A = {a, !a}\n",
    "bneb_B = Space(\"B\", [\"b\", r\"b^{\\bot}\"])\n",
    "bneb_C = Space(\"C\", [\"c\", r\"c^{\\bot}\"])\n",
    "bneb_D = Space(\"D\", [\"d\", r\"d^{\\bot}\"])\n",
    "bneb_E = Space(\"E\", [\"e\", r\"e^{\\bot}\"])\n",
    "\n",
    "def bneb_wif(x):\n",
    "    return State([x/100,(100-x)/100], bnea_A)\n",
    "\n",
    "def bneb_spf(a):\n",
    "    if a == \"a\":\n",
    "        return State([1/5, 4/5], bneb_B)\n",
    "    return State([3/4,1/4], bneb_B)\n",
    "\n",
    "bneb_sp = Channel.fromfun(bneb_spf, bneb_A, bneb_B)\n",
    "\n",
    "def bneb_raf(a):\n",
    "    if a == \"a\":\n",
    "        return State([4/5, 1/5], bneb_C)\n",
    "    return State([1/10, 9/10], bneb_C)\n",
    "\n",
    "bneb_ra = Channel.fromfun(bneb_raf, bneb_A, bneb_C)\n",
    "\n",
    "def bneb_srf(c):\n",
    "    if c == \"c\":\n",
    "        return State([7/10, 3/10], bneb_E)\n",
    "    return State([0, 1], bneb_E)\n",
    "\n",
    "bneb_sr = Channel.fromfun(bneb_srf, bneb_C, bneb_E)\n",
    "\n",
    "def bneb_wgf(b, c):\n",
    "    if b == \"b\" and c == \"c\":\n",
    "        return State([19/20, 1/20], bneb_D)\n",
    "    if b == \"b\" and not c == \"c\":\n",
    "        return State([9/10, 1/10], bneb_D)\n",
    "    if not b == \"b\" and c == \"c\":\n",
    "        return State([4/5, 1/5], bneb_D)\n",
    "    return State([0, 1], bneb_D)\n",
    "\n",
    "bneb_wg = Channel.fromfun(bneb_wgf, bneb_B @ bneb_C, bneb_D)\n",
    "\n",
    "def bneb_disp(x):\n",
    "    wi = bneb_wif(x)\n",
    "    dwi = copy2(bneb_A) >> wi\n",
    "    spra = bneb_sp @ bneb_ra\n",
    "    d.display(d.Latex(r\"$wg \\gg ((sp \\otimes ra) \\gg (\\Delta \\gg cw(\"+ str(x) + \"))) =\" + str(bneb_wg >> (spra >> dwi)).replace('>',r\"\\rangle\") + \"$\"))\n",
    "    d.display(d.Latex(r\"$sr \\gg (ra \\gg cw(\"+ str(x) + \")) =\" + str(bneb_sr >> (bneb_ra >> wi)).replace('>',r\"\\rangle\") + \"$\"))\n",
    "\n",
    "d.display(interactive_output(bneb_disp, {'x': bneb_xSlider}), bneb_xSlider)"
   ]
  },
  {
   "cell_type": "markdown",
   "metadata": {},
   "source": [
    "As we increase the chance of winter we can see that the chance of a slippery road decreases quickly. This is because whether the road is slippery is dependant on if it's winter and if it's raining, if winter never occurs, then the chance of a slippery road is also small. On the contrary, the probability of wet grass doesn't change much when the chance of winter changes. This is because wet grass is dependant on two other probabilities that, as seen in the graph above, rise when the other falls and fall when the other rises. I.e. when there is less winter the sprinklers will be on more but when there is more winter there will be more rain. The graph below shows this as well."
   ]
  },
  {
   "cell_type": "code",
   "execution_count": 11,
   "metadata": {},
   "outputs": [
    {
     "data": {
      "image/png": "[encoded data removed]",
      "text/plain": [
       "<Figure size 432x288 with 1 Axes>"
      ]
     },
     "metadata": {
      "needs_background": "light"
     },
     "output_type": "display_data"
    }
   ],
   "source": [
    "import IPython.display as d\n",
    "from efprob import *\n",
    "from matplotlib import pyplot as plt\n",
    "\n",
    "bnebg_xSlider = IntSlider(\n",
    "    value=60,\n",
    "    min=0,\n",
    "    max=100,\n",
    "    description='$$x=$$'\n",
    ")\n",
    "\n",
    "bnebg_A = Space(\"A\", [\"a\", r\"a^{\\bot}\"]) # A = {a, !a}\n",
    "bnebg_B = Space(\"B\", [\"b\", r\"b^{\\bot}\"])\n",
    "bnebg_C = Space(\"C\", [\"c\", r\"c^{\\bot}\"])\n",
    "bnebg_D = Space(\"D\", [\"d\", r\"d^{\\bot}\"])\n",
    "bnebg_E = Space(\"E\", [\"e\", r\"e^{\\bot}\"])\n",
    "\n",
    "def bnebg_wif(x):\n",
    "    return State([x/100,(100-x)/100], bnea_A)\n",
    "\n",
    "def bnebg_spf(a):\n",
    "    if a == \"a\":\n",
    "        return State([1/5, 4/5], bnebg_B)\n",
    "    return State([3/4,1/4], bnebg_B)\n",
    "\n",
    "bnebg_sp = Channel.fromfun(bnebg_spf, bnebg_A, bnebg_B)\n",
    "\n",
    "def bnebg_raf(a):\n",
    "    if a == \"a\":\n",
    "        return State([4/5, 1/5], bnebg_C)\n",
    "    return State([1/10, 9/10], bnebg_C)\n",
    "\n",
    "bnebg_ra = Channel.fromfun(bnebg_raf, bnebg_A, bnebg_C)\n",
    "\n",
    "def bnebg_srf(c):\n",
    "    if c == \"c\":\n",
    "        return State([7/10, 3/10], bnebg_E)\n",
    "    return State([0, 1], bnebg_E)\n",
    "\n",
    "bnebg_sr = Channel.fromfun(bnebg_srf, bnebg_C, bnebg_E)\n",
    "\n",
    "def bnebg_wgf(b, c):\n",
    "    if b == \"b\" and c == \"c\":\n",
    "        return State([19/20, 1/20], bnebg_D)\n",
    "    if b == \"b\" and not c == \"c\":\n",
    "        return State([9/10, 1/10], bnebg_D)\n",
    "    if not b == \"b\" and c == \"c\":\n",
    "        return State([4/5, 1/5], bnebg_D)\n",
    "    return State([0, 1], bnebg_D)\n",
    "\n",
    "bnebg_wg = Channel.fromfun(bnebg_wgf, bnebg_B @ bnebg_C, bnebg_D)\n",
    "\n",
    "def bnebg_disp():\n",
    "    wi = bnebg_wif(x)\n",
    "    dwi = copy2(bnebg_A) >> wi\n",
    "    spra = bnebg_sp @ bnebg_ra\n",
    "    d.display(d.Latex(r\"$wg \\gg ((sp \\otimes ra) \\gg (\\Delta \\gg cw(\"+ str(x) + \"))) =\" + str(bnebg_wg >> (spra >> dwi)).replace('>',r\"\\rangle\") + \"$\"))\n",
    "    d.display(d.Latex(r\"$sr \\gg (ra \\gg cw(\"+ str(x) + \")) =\" + str(bnebg_sr >> (bnebg_ra >> wi)).replace('>',r\"\\rangle\") + \"$\"))\n",
    "\n",
    "\n",
    "def bnebg_calc_at(x):\n",
    "    result_wg = bnebg_wg >> (bnebg_sp @ bnebg_ra >> (copy2(bnebg_A) >> bnebg_wif(x)))\n",
    "    result_sr = bnebg_sr >> (bnebg_ra >> bnebg_wif(x))\n",
    "    return result_wg.array[0], result_wg.array[1], result_sr.array[0], result_sr.array[1]\n",
    "\n",
    "def bnebg_disp():\n",
    "    d_line, notd_line, e_line, note_line = [], [], [], []\n",
    "    for x in range(1,101):\n",
    "        d, notd, e, note = bnebg_calc_at(x)\n",
    "        d_line.append(d)\n",
    "        notd_line.append(notd)\n",
    "        e_line.append(e)\n",
    "        note_line.append(note)\n",
    "    plt.plot(d_line, label='d')\n",
    "    plt.plot(notd_line, label='!d')\n",
    "    plt.plot(e_line, label='e')\n",
    "    plt.plot(note_line, label='!e')\n",
    "    plt.title('Probabilities of wg and sr')\n",
    "    plt.legend(loc = 'best')\n",
    "    plt.xlabel('Chance of winter in percentage')\n",
    "    plt.ylabel('Chances of each variable holding in decimals')\n",
    "    plt.show()\n",
    "        \n",
    "bnebg_disp()"
   ]
  },
  {
   "cell_type": "markdown",
   "metadata": {},
   "source": [
    "For the last part of this example we combine the probabilities for wet grass and a slippery road by taking their parallel product. To ease the notation we define the following (while still using $cw(x)$ as defined before):\n",
    "\n",
    "$$\n",
    "pwg := wg \\gg ((sp \\otimes ra) \\gg (\\Delta \\gg cw(x))) \\\\\n",
    "psr := sr \\gg (ra \\gg cw(x))\n",
    "$$\n",
    "\n",
    "Now we calculate the parallel product."
   ]
  },
  {
   "cell_type": "code",
   "execution_count": 12,
   "metadata": {},
   "outputs": [
    {
     "data": {
      "application/vnd.jupyter.widget-view+json": {
       "model_id": "bfa21fdef19240dc82fffd8c377a289c",
       "version_major": 2,
       "version_minor": 0
      },
      "text/plain": [
       "Output()"
      ]
     },
     "metadata": {},
     "output_type": "display_data"
    },
    {
     "data": {
      "application/vnd.jupyter.widget-view+json": {
       "model_id": "ecf4249e1e8e49449cd217d42f30dda1",
       "version_major": 2,
       "version_minor": 0
      },
      "text/plain": [
       "IntSlider(value=60, description='$$x=$$')"
      ]
     },
     "metadata": {},
     "output_type": "display_data"
    }
   ],
   "source": [
    "from ipywidgets import interactive_output, IntSlider\n",
    "import IPython.display as d\n",
    "from efprob import *\n",
    "\n",
    "bnec_xSlider = IntSlider(\n",
    "    value=60,\n",
    "    min=0,\n",
    "    max=100,\n",
    "    description='$$x=$$'\n",
    ")\n",
    "\n",
    "bnec_A = Space(\"A\", [\"a\", r\"a^{\\bot}\"]) # A = {a, !a}\n",
    "bnec_B = Space(\"B\", [\"b\", r\"b^{\\bot}\"])\n",
    "bnec_C = Space(\"C\", [\"c\", r\"c^{\\bot}\"])\n",
    "bnec_D = Space(\"D\", [\"d\", r\"d^{\\bot}\"])\n",
    "bnec_E = Space(\"E\", [\"e\", r\"e^{\\bot}\"])\n",
    "\n",
    "def bnec_wif(x):\n",
    "    return State([x/100,(100-x)/100], bnea_A)\n",
    "\n",
    "def bnec_spf(a):\n",
    "    if a == \"a\":\n",
    "        return State([1/5, 4/5], bnec_B)\n",
    "    return State([3/4,1/4], bnec_B)\n",
    "\n",
    "bnec_sp = Channel.fromfun(bnec_spf, bnec_A, bnec_B)\n",
    "\n",
    "def bnec_raf(a):\n",
    "    if a == \"a\":\n",
    "        return State([4/5, 1/5], bnec_C)\n",
    "    return State([1/10, 9/10], bnec_C)\n",
    "\n",
    "bnec_ra = Channel.fromfun(bnec_raf, bnec_A, bnec_C)\n",
    "\n",
    "def bnec_srf(c):\n",
    "    if c == \"c\":\n",
    "        return State([7/10, 3/10], bnec_E)\n",
    "    return State([0, 1], bnec_E)\n",
    "\n",
    "bnec_sr = Channel.fromfun(bnec_srf, bnec_C, bnec_E)\n",
    "\n",
    "def bnec_wgf(b, c):\n",
    "    if b == \"b\" and c == \"c\":\n",
    "        return State([19/20, 1/20], bnec_D)\n",
    "    if b == \"b\" and not c == \"c\":\n",
    "        return State([9/10, 1/10], bnec_D)\n",
    "    if not b == \"b\" and c == \"c\":\n",
    "        return State([4/5, 1/5], bnec_D)\n",
    "    return State([0, 1], bnec_D)\n",
    "\n",
    "bnec_wg = Channel.fromfun(bnec_wgf, bnec_B @ bnec_C, bnec_D)\n",
    "\n",
    "def bnec_disp(x):\n",
    "    wi = bnec_wif(x)\n",
    "    dwi = copy2(bnec_A) >> wi\n",
    "    spra = bnec_sp @ bnec_ra\n",
    "    d.display(d.Latex(r\"$pwg \\otimes psr =\" + str((bnec_wg >> (spra >> dwi)) @ (bnec_sr >> (bnec_ra >> wi))).replace('>',r\"\\rangle\") + \"$\"))\n",
    "\n",
    "d.display(interactive_output(bnec_disp, {'x': bnec_xSlider}), bnec_xSlider)"
   ]
  },
  {
   "cell_type": "markdown",
   "metadata": {},
   "source": [
    "This now finally gives the probabilities for whether the grass is wet and/or the roads are slippery. What is interesting is that whether a probability in this parallel product increases or decreases is almost solely dependant on whether the probability of $e$ and $e^{\\bot}$ is increasing or decreasing. This is becase as we've seen in the graph above the probability of $d$ and $d^{\\bot}$ does not change. Let's visualize this again as a graph:"
   ]
  },
  {
   "cell_type": "code",
   "execution_count": 13,
   "metadata": {},
   "outputs": [
    {
     "data": {
      "image/png": "[encoded data removed]",
      "text/plain": [
       "<Figure size 432x288 with 1 Axes>"
      ]
     },
     "metadata": {
      "needs_background": "light"
     },
     "output_type": "display_data"
    }
   ],
   "source": [
    "import IPython.display as d\n",
    "from efprob import *\n",
    "from matplotlib import pyplot as plt\n",
    "\n",
    "bnecg_xSlider = IntSlider(\n",
    "    value=60,\n",
    "    min=0,\n",
    "    max=100,\n",
    "    description='$$x=$$'\n",
    ")\n",
    "\n",
    "bnecg_A = Space(\"A\", [\"a\", r\"a^{\\bot}\"]) # A = {a, !a}\n",
    "bnecg_B = Space(\"B\", [\"b\", r\"b^{\\bot}\"])\n",
    "bnecg_C = Space(\"C\", [\"c\", r\"c^{\\bot}\"])\n",
    "bnecg_D = Space(\"D\", [\"d\", r\"d^{\\bot}\"])\n",
    "bnecg_E = Space(\"E\", [\"e\", r\"e^{\\bot}\"])\n",
    "\n",
    "def bnecg_wif(x):\n",
    "    return State([x/100,(100-x)/100], bnea_A)\n",
    "\n",
    "def bnecg_spf(a):\n",
    "    if a == \"a\":\n",
    "        return State([1/5, 4/5], bnecg_B)\n",
    "    return State([3/4,1/4], bnecg_B)\n",
    "\n",
    "bnecg_sp = Channel.fromfun(bnecg_spf, bnecg_A, bnecg_B)\n",
    "\n",
    "def bnecg_raf(a):\n",
    "    if a == \"a\":\n",
    "        return State([4/5, 1/5], bnecg_C)\n",
    "    return State([1/10, 9/10], bnecg_C)\n",
    "\n",
    "bnecg_ra = Channel.fromfun(bnecg_raf, bnecg_A, bnecg_C)\n",
    "\n",
    "def bnecg_srf(c):\n",
    "    if c == \"c\":\n",
    "        return State([7/10, 3/10], bnecg_E)\n",
    "    return State([0, 1], bnecg_E)\n",
    "\n",
    "bnecg_sr = Channel.fromfun(bnecg_srf, bnecg_C, bnecg_E)\n",
    "\n",
    "def bnecg_wgf(b, c):\n",
    "    if b == \"b\" and c == \"c\":\n",
    "        return State([19/20, 1/20], bnecg_D)\n",
    "    if b == \"b\" and not c == \"c\":\n",
    "        return State([9/10, 1/10], bnecg_D)\n",
    "    if not b == \"b\" and c == \"c\":\n",
    "        return State([4/5, 1/5], bnecg_D)\n",
    "    return State([0, 1], bnecg_D)\n",
    "\n",
    "bnecg_wg = Channel.fromfun(bnecg_wgf, bnecg_B @ bnecg_C, bnecg_D)\n",
    "\n",
    "def bnecg_disp():\n",
    "    wi = bnecg_wif(x)\n",
    "    dwi = copy2(bnecg_A) >> wi\n",
    "    spra = bnecg_sp @ bnecg_ra\n",
    "    d.display(d.Latex(r\"$wg \\gg ((sp \\otimes ra) \\gg (\\Delta \\gg cw(\"+ str(x) + \"))) =\" + str(bnecg_wg >> (spra >> dwi)).replace('>',r\"\\rangle\") + \"$\"))\n",
    "    d.display(d.Latex(r\"$sr \\gg (ra \\gg cw(\"+ str(x) + \")) =\" + str(bnecg_sr >> (bnecg_ra >> wi)).replace('>',r\"\\rangle\") + \"$\"))\n",
    "\n",
    "\n",
    "def bnecg_calc_at(x):\n",
    "    result_wg = bnecg_wg >> (bnecg_sp @ bnecg_ra >> (copy2(bnecg_A) >> bnecg_wif(x)))\n",
    "    result_sr = bnecg_sr >> (bnecg_ra >> bnecg_wif(x))\n",
    "    result = result_wg @ result_sr\n",
    "    return result.array[0][0], result.array[0][1], result.array[1][0], result.array[1][1]\n",
    "\n",
    "def bnecg_disp():\n",
    "    both_line, note_line, notd_line, none_line = [], [], [], []\n",
    "    for x in range(1,101):\n",
    "        both, note, notd, none = bnecg_calc_at(x)\n",
    "        both_line.append(both)\n",
    "        note_line.append(note)\n",
    "        notd_line.append(notd)\n",
    "        none_line.append(none)\n",
    "    plt.plot(both_line, label='d, e')\n",
    "    plt.plot(note_line, label='d, !e')\n",
    "    plt.plot(notd_line, label='!d, e')\n",
    "    plt.plot(none_line, label='!d, !e')\n",
    "    plt.title('Probabilities of parallel product of wg and sr')\n",
    "    plt.legend(loc = 'best')\n",
    "    plt.xlabel('Chance of winter in percentage')\n",
    "    plt.ylabel('Chances of variables holding in decimals')\n",
    "    plt.show()\n",
    "        \n",
    "bnecg_disp()"
   ]
  },
  {
   "cell_type": "markdown",
   "metadata": {},
   "source": [
    "This now clearly shows that as the chance of winter increases, the chances of any product containing $e$ increase, and the chances of any product containing $e^{\\bot}$ decrease. Besides this, recall that in the previous graph both lines for the elements of $E$ crossed eachother at some point. In this graph they do this again but then skewed voor their own variation of $d$ or $d^{\\bot}$."
   ]
  }
 ],
 "metadata": {
  "kernelspec": {
   "display_name": "Python 3",
   "language": "python",
   "name": "python3"
  },
  "language_info": {
   "codemirror_mode": {
    "name": "ipython",
    "version": 3
   },
   "file_extension": ".py",
   "mimetype": "text/x-python",
   "name": "python",
   "nbconvert_exporter": "python",
   "pygments_lexer": "ipython3",
   "version": "3.6.6"
  }
 },
 "nbformat": 4,
 "nbformat_minor": 2
}
