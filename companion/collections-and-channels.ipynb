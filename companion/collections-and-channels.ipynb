{
 "cells": [
  {
   "cell_type": "markdown",
   "metadata": {},
   "source": [
    "# Collections and Channels\n",
    "This chapter will elaborate on the basics that are covered in this chapter. In some cases the book expects some pre-existing knowledge whilst explaining a concepts. The aim of the first sections in this chapter is to limit the pre-existing knowledge needed for the book. It will explain basic concepts like functions, function composition and isomorphisms whilst also elaborating on several remarks/examples in the book.\n",
    "\n",
    "## Contents\n",
    "1. [Cartesian Products](#Cartesian-Products)\n",
    "    1. [Functions](#Functions)\n",
    "    2. [Function Composition](#Function-Composition)\n",
    "    3. [Projections](#Projections)\n",
    "2. [Lists](#Lists)\n",
    "    1. [Isomorphism](#Isomorphism)\n",
    "    2. [Monoids](#Monoids)\n",
    "        1. [Lemma 1.2.2](#Lemma-1.2.2)\n",
    "        2. [Lemma 1.2.3](#Lemma-1.2.3)\n",
    "3. [Powersets](#Powersets)\n",
    "4. [References](#References)\n",
    "\n",
    "## Cartesian Products\n",
    "Recall that we call a pair of elements $(x_1,x_2)$ a tuple. This pair can be extended into a triple: $(x_1,x_2,x_3)$, a $4$-tuple $(x_1,x_2,x_3,x_4)$ and so on. We can create an $n$-tuple for an arbitrary $n$ amount of elements as follows:"
   ]
  },
  {
   "cell_type": "code",
   "execution_count": 1,
   "metadata": {},
   "outputs": [
    {
     "data": {
      "application/vnd.jupyter.widget-view+json": {
       "model_id": "734ac978fd0c46969d83c7f01de01eb8",
       "version_major": 2,
       "version_minor": 0
      },
      "text/plain": [
       "IntSlider(value=3, description='$n:=$', max=25, min=3)"
      ]
     },
     "metadata": {},
     "output_type": "display_data"
    },
    {
     "data": {
      "application/vnd.jupyter.widget-view+json": {
       "model_id": "cddae6699091411681523e691a89dee8",
       "version_major": 2,
       "version_minor": 0
      },
      "text/plain": [
       "Output()"
      ]
     },
     "metadata": {},
     "output_type": "display_data"
    }
   ],
   "source": [
    "import ipywidgets as w\n",
    "import IPython.display as d\n",
    "\n",
    "isl = w.IntSlider(\n",
    "    value=3,\n",
    "    min=3,\n",
    "    max=25,\n",
    "    description='$n:=$'\n",
    ")\n",
    "\n",
    "def disp(x):\n",
    "    xPair = \"\"\n",
    "    for x in range(x):\n",
    "        xPair += \"x_{\" + str(x+1) + \"},\"\n",
    "    d.display(d.Latex(\"$\" + str(x+1) + \"-tuple :=(\" + xPair[:-1] + \")$\"))\n",
    "    \n",
    "    \n",
    "output = w.interactive_output(disp, {'x': isl})\n",
    "d.display(isl, output)"
   ]
  },
  {
   "cell_type": "markdown",
   "metadata": {},
   "source": [
    "Using this we can, as seen in the book, create Cartesian products out of any $n$ amount of sets as follows:\n",
    "\n",
    "$$X_1 \\times \\dotsb \\times X_n := \\{(x_1,...,x_n)|x_1 \\in X_1\\ and\\ \\dotsb\\ and\\ x_n \\in X_n\\}$$\n",
    "\n",
    "Now let's pick an $n$ and see what happens:"
   ]
  },
  {
   "cell_type": "code",
   "execution_count": 2,
   "metadata": {},
   "outputs": [
    {
     "data": {
      "application/vnd.jupyter.widget-view+json": {
       "model_id": "882f5ccf55354a7cad6cc4c78a95f762",
       "version_major": 2,
       "version_minor": 0
      },
      "text/plain": [
       "IntSlider(value=2, description='$n:=$', max=25, min=2)"
      ]
     },
     "metadata": {},
     "output_type": "display_data"
    },
    {
     "data": {
      "application/vnd.jupyter.widget-view+json": {
       "model_id": "18c513ad4d0d47e69bbf47052ca25cee",
       "version_major": 2,
       "version_minor": 0
      },
      "text/plain": [
       "Output()"
      ]
     },
     "metadata": {},
     "output_type": "display_data"
    }
   ],
   "source": [
    "import ipywidgets as w\n",
    "import IPython.display as d\n",
    "\n",
    "isl = w.IntSlider(\n",
    "    value=2,\n",
    "    min=2,\n",
    "    max=25,\n",
    "    description='$n:=$'\n",
    ")\n",
    "\n",
    "def disp(x):\n",
    "    xPair, xCart, xIn = \"\", \"\", \"\"\n",
    "    for x in range(x):\n",
    "        xCart += \"X_{\" + str(x+1) + \"} \\\\times \"\n",
    "        xPair += \"x_{\" + str(x+1) + \"},\"\n",
    "        xIn += \"x_{\" + str(x+1) + \"} \\\\in X_{\" + str(x+1) + \"}\\ and\\ \"\n",
    "    d.display(d.Latex(\"$\" + xCart[:-7] + \":=\\{(\" + xPair[:-1] + \")|\" + xIn[:-7] + \"\\}$\"))\n",
    "    \n",
    "    \n",
    "output = w.interactive_output(disp, {'x': isl})\n",
    "d.display(isl, output)"
   ]
  },
  {
   "cell_type": "markdown",
   "metadata": {},
   "source": [
    "For when $n=3$ it is easy to think of such a Cartesian product as a point in $3$d space, or for $n=4$ a point in $4$d space. This can exactly be the case when for example $X_1 = \\dotsb = X_n = \\rm I\\!R$ (The set of all real numbers). However, when $n$ becomes bigger than 5 it is quite hard to visualize it this way. Instead, it is then possible to see such an $n$-tuple as an ordered list of $n$ elements.\n",
    "\n",
    "### Functions\n",
    "In Mathematics, a function $f$ from $X \\rightarrow Y$ relates all elements $x \\in X$ to exactly one other element $y\\in Y$. Common terminology is to call $X$ the domain and $Y$ the codomain. As an example the function '$square$' can be defined as follows:\n",
    "\n",
    "$$\\begin{align*} \n",
    "square &:: \\mathbb{R} \\rightarrow \\mathbb{R} \\\\\n",
    "square (x) &= x \\cdot x\n",
    "\\end{align*}$$\n",
    "\n",
    "The top line states the type of the function, it shows from what the domain and codomain of the function is. In this case both the domain and codomain are the real numbers. It is also possible to define recursive functions in this notation like so:\n",
    "\n",
    "$$\\begin{align*} \n",
    "factorial &:: \\mathbb{N} \\rightarrow \\mathbb{N} \\\\\n",
    "factorial(x) &= \n",
    "\\left\\{\n",
    "\\begin{array}{ll}\n",
    "  1\\ \\text{if}\\ x=0\\\\\n",
    "  x \\cdot factorial(x-1)\\ \\text{otherwise}\n",
    "\\end{array}\n",
    "\\right.\n",
    "\\end{align*}$$\n",
    "              \n",
    "This factorial function has as both domain and codomain the natural numbers. Another commonly used function is the identity function $id$ which can be defined for any set $X$ as follows:\n",
    "\n",
    "$$\\begin{align*} \n",
    "id &:: X \\rightarrow X \\\\\n",
    "id (x) &= x\n",
    "\\end{align*}$$\n",
    "\n",
    "Applying the identity function to an element $x\\in X$ does not do anything to $x$ because $id(x) = x$. \n",
    "\n",
    "### Function Composition \n",
    "\n",
    "We denote a composition (i.e. a combination) of two functions with $f\\circ g$ which can intuitively be thought of as $f$ after $g$. This composition is applied to an argument as follows: $(f\\circ g)(x)$ for some $x$ which is defined as $f(g(x))$. For example\n",
    "$$\\begin{align*}\n",
    "  (square\\circ factorial)(3) &=\\\\\n",
    "  square(factorial(3)) &= \\\\\n",
    "  square(6) &= 36\n",
    "\\end{align*}$$\n",
    "Whereas if they are the other way around\n",
    "$$\\begin{align*}\n",
    "  (factorial\\circ square)(3) &=\\\\\n",
    "  factorial(square(3)) &= \\\\\n",
    "  factorial(9) &= 362880\n",
    "\\end{align*}$$\n",
    "\n",
    "### Projections\n",
    "As seen in the book, this composition is applied to projections. Take for example $1.1$ with $f_i : Y \\rightarrow X_i$ which states:\n",
    "$$\\pi_i\\circ\\langle f_1,...,f_n\\rangle=f_i$$\n",
    "Let's apply it to some element $y\\in Y$ and unfold the definitions to see exactly how this composition works.\n",
    "$$\\begin{align*}\n",
    "  (\\pi_i\\circ\\langle f_1,...,f_n\\rangle)(y) &= (\\text{by definition of }\\circ) \\\\\n",
    "  \\pi_i(\\langle f_1,...,f_n\\rangle(y)) &= (\\text{by definition of }\\langle f_1,...,f_n\\rangle)\\\\\n",
    "  \\pi_i(f_1(y),...,f_n(y)) &= (\\text{by definition of } f_i:Y\\rightarrow X_i)\\\\\n",
    "  \\pi_i(x_1,...,x_n) &= x_i\n",
    "\\end{align*}$$\n",
    "This shows that it would be equivalent to just computing $f_i(y)$.\n",
    "\n",
    "### Powers\n",
    "For powers of $X$ the book defines them as follows:\n",
    "$$X^n:=\\underbrace{X\\times \\dotsb \\times X}_{\\text{$n$ times}}=\\{(x_1,...,x_n)|x_i\\in X\\ \\text{for each}\\ i\\}$$\n",
    "This definition can be unfolded to see that the special cases $X^1$ and $X^0$ are logical consequences:"
   ]
  },
  {
   "cell_type": "code",
   "execution_count": 1,
   "metadata": {},
   "outputs": [
    {
     "data": {
      "application/vnd.jupyter.widget-view+json": {
       "model_id": "bfa8853639584d8ea2471d322d9dfa61",
       "version_major": 2,
       "version_minor": 0
      },
      "text/plain": [
       "IntSlider(value=1, description='$n:=$', max=10)"
      ]
     },
     "metadata": {},
     "output_type": "display_data"
    },
    {
     "data": {
      "application/vnd.jupyter.widget-view+json": {
       "model_id": "3a63ebc213b14ff78d6b7b11e31644c7",
       "version_major": 2,
       "version_minor": 0
      },
      "text/plain": [
       "Output()"
      ]
     },
     "metadata": {},
     "output_type": "display_data"
    }
   ],
   "source": [
    "import ipywidgets as w\n",
    "import IPython.display as d\n",
    "\n",
    "isl = w.IntSlider(\n",
    "    value=1,\n",
    "    min=0,\n",
    "    max=10,\n",
    "    description='$n:=$'\n",
    ")\n",
    "\n",
    "def disp(x):\n",
    "    # Looping over x using range changes x\n",
    "    originalX = x\n",
    "    xSet, xTuple = \"\", \"\"\n",
    "    for x in range(x):\n",
    "        xSet += \"X \\\\times \"\n",
    "        xTuple += \"x_{\" + str(x+1) + \"}, \"\n",
    "    d.display(d.Latex(r\"$X^{\" + str(originalX) + r\"}:=\\underbrace{\" + xSet[:-7] + r\"}_{\\text{\" + str(originalX) + r\" times}}=\\{(\" + xTuple[:-2] + r\")|x_i \\in X\\ \\text{for each}\\ i\\}$\"))\n",
    "    \n",
    "    \n",
    "output = w.interactive_output(disp, {'x': isl})\n",
    "d.display(isl, output)"
   ]
  },
  {
   "cell_type": "markdown",
   "metadata": {},
   "source": [
    "Observe how $X^1=X$ and $X^0=\\{()\\}$ by just applying the definition. \n",
    "\n",
    "## Lists\n",
    "Intuitively, a list is an ordered collection of elements from a certain set $X$. Another distinguishing characteristic of a list is that it can contain the same element multiple times. Suppose that $X=\\{cat,dog,bird\\}$ then a couple of example lists with elements from $X$ are:\n",
    "- $[cat]$\n",
    "- $[dog, bird]$\n",
    "- $[cat,cat,dog]$\n",
    "- $[dog,bird,cat]$\n",
    "- $[dog,bird,dog,cat,bird,dog]$\n",
    "\n",
    "As stated in the book the set of all lists over $X$ can be defined as follows:\n",
    "$$\\mathcal{L}(X):=\\bigcup\\limits_{n\\in\\mathbb{N}} X^n$$\n",
    "The $\\bigcup$ above is defined as follows:\n",
    "$$\\bigcup\\limits_{i=1}^{n} X_i := X_1 \\cup X_2 \\cup\\dotsb \\cup X_n $$\n",
    "Following this definition we get the following when unfolding lists:\n",
    "$$\\bigcup\\limits_{n\\in\\mathbb{N}} X^n = X^0 \\cup X^1 \\cup X^2 \\cup \\dotsb$$\n",
    "\n",
    "### Isomorphism\n",
    "The book shows the following equation: $\\mathcal{L}(0)\\cong 1$ which can be read as '$\\mathcal{L}(0)$ is *isomorphic* to $1$'. Formally, $X$ is isomorphic to $Y$ if there is a morphism (i.e. a function) $m$ for which there exists a morphism $m^{-1}$ such that $m \\circ m^{-1} = id = m^{-1} \\circ m$ [[1]](#[1]). Such a morphism $m$ is called a *bijective* morphism because it is both *one-to-one* and *surjective* (for a detailed description of these terms please refer to [[2]](#[2])).\n",
    "\n",
    "In practice an isomorphism is a transformation that preserves the structure. To further illustrate this point let's take a closer look at $\\mathcal{L}(0)\\cong 1$. For $\\mathcal{L}(0)$ to be isomorphic to $1$ we need to define an $m$ that is a bijective morphism from $\\mathcal{L}(0)$ to $1$. Let's first expand the definitions:\n",
    "\n",
    "$$\n",
    "1 := \\{()\\} \\\\\n",
    "\\mathcal{L}(0)=\\mathcal{L}(\\varnothing):=\\bigcup\\limits_{n\\in\\mathbb{N}} \\varnothing^n = \\varnothing^0 \\cup \\varnothing^1 \\cup \\varnothing^2 \\cup \\dotsb = \\{()\\} \\cup \\{()\\} \\cup \\{()\\} \\cup \\dotsb = \\{()\\}\n",
    "$$\n",
    "\n",
    "It is clear that $\\varnothing^n = \\{()\\}$ since as seen in the earlier given definition there are no elements in $\\varnothing$ to add to the tuple. Now it is possible to create $m$ as follows:\n",
    "\n",
    "$$\\begin{align*} \n",
    "m &:: \\mathcal{L}(0) \\rightarrow 1 \\\\\n",
    "m (()) &= ()\n",
    "\\end{align*}$$\n",
    "\n",
    "Both the domain and codomain of $m$ only contain a singular element '$()$' thus by mapping these to eachother we have created a bijective morphism. It is clear that $m^{-1}$ is a trivial definition, this will be skipped. Now, let's look at the more interesting example, $\\mathcal{L}(1)\\cong \\mathbb{N}$. As the book states any set $X$ containing only a single element is isomorphic to $\\mathbb{N}$, so, for the sake of conveniance we define $X =\\{a\\}$. Then, we can unfold the definitions as follows:\n",
    "\n",
    "$$\\begin{align*} \n",
    "\\mathbb{N} &:= \\{0,1,2,3,\\dotsb\\} \\\\\n",
    "\\mathcal{L}(X) &:=\\bigcup\\limits_{n\\in\\mathbb{N}} X^n \\\\\n",
    "&= X^0 \\cup X^1 \\cup X^2 \\cup X^3 \\cup \\dotsb \\\\\n",
    "&= \\{()\\} \\cup \\{(a)\\} \\cup \\{(a,a)\\} \\cup \\{(a,a,a)\\} \\cup \\dotsb \\\\\n",
    "&= \\{(),(a),(a,a),(a,a,a),\\dotsb\\}\n",
    "\\end{align*}$$\n",
    "\n",
    "To show that it is indeed true that $\\mathcal{L}(1)\\cong \\mathbb{N}$ we define $m$ to map each natural number to a tuple containing the same amount of $a$'s as follows:\n",
    "\n",
    "$$\n",
    "\\begin{align*} \n",
    "m &:: \\mathcal{L}(X) \\rightarrow \\mathbb{N}\\\\\n",
    "m (x) &= \\left\\{\n",
    "\\begin{array}{ll}\n",
    "  0\\ \\text{if}\\ x=()\\\\\n",
    "  1\\ \\text{if}\\ x=(a)\\\\\n",
    "  2\\ \\text{if}\\ x=(a,a)\\\\\n",
    "  3\\ \\text{if}\\ x=(a,a,a)\\\\\n",
    "  \\dotsb\n",
    "\\end{array}\n",
    "\\right.\n",
    "\\end{align*}$$\n",
    "\n",
    "Again, $m^{-1}$ is trivial, since it is only the numbers and the tuples reversed (and, of course, the domain and codomain). Observe that indeed $m \\circ m^{-1} = id = m^{-1} \\circ m$ and that $m$ is a bijective morphism. Thus we can conclude that $\\mathcal{L}(X)\\cong \\mathbb{N}$ for $X=\\{a\\}$ and also, $\\mathcal{L}(1)\\cong\\mathbb{N}$ since we can just replace $a$ for any other single element like for example $()$.\n",
    "\n",
    "### Monoids\n",
    "\n",
    "#### Lemma 1.2.2\n",
    "Recall Lemma 1.2.2. from the book which claims the following:\n",
    "1. For each set $X$, the set $\\mathcal{L}(X)$ of lists over $X$ is a monoid, with the empty list $[] \\in \\mathcal{L}(X)$ as unit element, and with concatenation $+\\kern-0.5ex+\\kern0.8ex: \\mathcal{L}(X) \\times \\mathcal{L}(X) \\rightarrow \\mathcal{L}(X)$ as binary operation: \n",
    "$$[x_1,...,x_n] +\\kern-0.8ex+\\kern0.8ex [y_1,...,y_m] := [x_1,...,x_n, y_1,...,y_m]$$\n",
    "This monoid $(\\mathcal{L}(X), [], +\\kern-0.5ex+\\kern0.8ex)$ is neither commutative nor idempotent.\n",
    "2. For each function $f : X \\rightarrow Y$ the associated map $\\mathcal{L}(f): \\mathcal{L}(X) \\rightarrow \\mathcal{L}(Y)$ is a homomorphism of monoids.\n",
    "\n",
    "In the following section we will prove that this lemma holds. If the reader desires to not be spoilt on the proof, he/she should first attempt the proof themselves and then read this section to see whether they were correct.\n",
    "\n",
    "The first point in the lemma states that this definition actually *is* a Monoid. This entails that the following two equations hold for all $a,b,c \\in \\mathcal{L}(X)$:\n",
    "* $a +\\kern-0.8ex+\\kern0.8ex (b +\\kern-0.8ex+\\kern0.8ex c) = (a +\\kern-0.8ex+\\kern0.8ex b) +\\kern-0.8ex+\\kern0.8ex c$\n",
    "* $[] +\\kern-0.8ex+\\kern0.8ex a = a = a +\\kern-0.8ex+\\kern0.8ex []$\n",
    "\n",
    "We can prove this by simply taking $a$, $b$ and $c$ to be $[a_1,...,a_n]$, $[b_1,...,b_n]$ and $[c_1,...,c_n]$ respectively, and filling in the equations:\n",
    "\n",
    "$$\n",
    "\\begin{align*}\n",
    "[a_1,...,a_n] +\\kern-0.8ex+\\kern0.8ex ([b_1,...,b_n] +\\kern-0.8ex+\\kern0.8ex [c_1,...,c_n]) &= [a_1,...,a_n] +\\kern-0.8ex+\\kern0.8ex [b_1,...,b_n,c_1,...,c_n] \\\\\n",
    "&= [a_1,...,a_n,b_1,...,b_n,c_1,...,c_n]\\\\\n",
    "&= [a_1,...,a_n,b_1,...,b_n] +\\kern-0.8ex+\\kern0.8ex [c_1,...,c_n] \\\\\n",
    "&= ([a_1,...,a_n] +\\kern-0.8ex+\\kern0.8ex [b_1,...,b_n]) +\\kern-0.8ex+\\kern0.8ex [c_1,...,c_n] \\\\\\\\\n",
    "[] +\\kern-0.8ex+\\kern0.8ex [a_1,...,a_n] &= [a_1,...,a_n]\\\\\n",
    "&= [a_1,...,a_n] +\\kern-0.8ex+\\kern0.8ex []\n",
    "\\end{align*}\n",
    "$$\n",
    "\n",
    "Recall the definition of $+\\kern-0.8ex+\\kern0.8ex$, which states that *all* elements in both lists are added to the new list. Since the empty list does not contain any elements it is evident that the second equation trivially holds since no elements from the empty list can be added.\n",
    "\n",
    "To be complete, we show that $\\mathcal{L}(X)$ is neither commutative:\n",
    "\n",
    "$$[a_1,...,a_n] +\\kern-0.8ex+\\kern0.8ex [b_1,...,b_n] = [a_1,...,a_n,b_1,...,b_n] \\neq [b_1,...,b_n,a_1,...,a_n] = [b_1,...,b_n] +\\kern-0.8ex+\\kern0.8ex [a_1,...,a_n]$$\n",
    "\n",
    "Or idempotent:\n",
    "\n",
    "$$[a_1,...,a_n] +\\kern-0.8ex+\\kern0.8ex [a_1,...,a_n] = [a_1,...,a_n,a_1,...,a_n] \\neq [a_1,...,a_n]$$\n",
    "\n",
    "For the second part of the lemma we need to check whether $\\mathcal{L}(f): \\mathcal{L}(X) \\rightarrow \\mathcal{L}(Y)$ is a homomorphism of monoids. To check this the following equations need to be satisfied:\n",
    "\n",
    "* $\\mathcal{L}(f)([]) = []$\n",
    "* $\\mathcal{L}(f)(a +\\kern-0.8ex+\\kern0.8ex b) = \\mathcal{L}(f)(a) +\\kern-0.8ex+\\kern0.8ex \\mathcal{L}(f)(b)$\n",
    "\n",
    "For $a,b \\in \\mathcal{L}(X)$. Let's start with applying $\\mathcal{L}(f)$ to the empty list. Since the definition of $\\mathcal{L}(f)$ is applying $f$ to every element in the list, we can see that since there are no elements in $[]$ it immediately holds that $\\mathcal{L}(f)([]) = []$.\n",
    "\n",
    "The more interesting part is proving the second part, which can be done by just applying the definitions. Let $[a_1,...,a_n], [b_1,...,b_n] \\in \\mathcal{L}(X)$, $\\mathcal{L}(f)([a_1,...,a_n]) = [c_1,...,c_n]$ and $\\mathcal{L}(f)([b_1,...,b_n]) = [d_1,...,d_n]$, then:\n",
    "\n",
    "$$\n",
    "\\begin{align*}\n",
    "\\mathcal{L}(f)([a_1,...,a_n] +\\kern-0.8ex+\\kern0.8ex [b_1,...,b_n]) &= \\mathcal{L}(f)([a_1,...,a_n,b_1,...,b_n]) \\\\\n",
    "&= [c_1,...,c_n,d_1,...,d_n]\\\\\n",
    "&= [c_1,...,c_n] +\\kern-0.8ex+\\kern0.8ex [d_1,...,d_n] \\\\\n",
    "&= \\mathcal{L}(f)([a_1,...,a_n]) +\\kern-0.8ex+\\kern0.8ex \\mathcal{L}(f)([b_1,...,b_n]) \n",
    "\\end{align*}\n",
    "$$\n",
    "\n",
    "This shows that $\\mathcal{L}(f)$ indeed is a homomorphism of monoids. In general, a tip for proving some equation or lemma is to first observe what the lemma is stating according to the definitions given. Explicitly write this down and then start proving.\n",
    "\n",
    "#### Lemma 1.2.3\n",
    "This lemma contains four different equations of which the book proves two. The following section will contain the proof for the other two equations, namely:\n",
    "\n",
    "$$flat \\circ \\mathcal{L}(\\mathcal{L}(f)) = \\mathcal{L}(f)\\circ flat\\\\\n",
    "flat \\circ flat = flat \\circ \\mathcal{L}(flat)$$\n",
    "\n",
    "We start with the top equation for an arbitrary $[[x_{11},...,x_{1n}],...,[x_{n1},...,x_{nn}]] \\in \\mathcal{L}(\\mathcal{L}(X))$:\n",
    "\n",
    "$$\n",
    "\\begin{align*}\n",
    "(flat\\circ \\mathcal{L}(\\mathcal{L}(f)))([[x_{11},...,x_{1n}],...,[x_{n1},...,x_{nn}]]) &= flat(\\mathcal{L}(\\mathcal{L}(f))([[x_{11},...,x_{1n}],...,[x_{n1},...,x_{nn}]])) \\\\\n",
    "&= flat([\\mathcal{L}(f)([x_{11},...,x_{1n}]),...,\\mathcal{L}(f)([x_{n1},...,x_{nn}])]) \\\\\n",
    "&= flat([[f(x_{11}),...,f(x_{1n})],...,[f(x_{n1}),...,f(x_{nn})]]) \\\\\n",
    "&= [f(x_{11}),...,f(x_{1n}),...,f(x_{n1}),...,f(x_{nn})] \\\\\n",
    "&= \\mathcal{L}(f)([x_{11},...,x_{1n},...,x_{n1},...,x_{nn}]) \\\\\n",
    "&= \\mathcal{L}(f)(flat([[x_{11},...,x_{1n}],...,[x_{n1},...,x_{nn}]])) \\\\\n",
    "&= (\\mathcal{L}(f)\\circ flat)([[x_{11},...,x_{1n}],...,[x_{n1},...,x_{nn}]])\n",
    "\\end{align*}\n",
    "$$\n",
    "\n",
    "Now for the bottem equation for an arbitrary $[[[x_{111},...,x_{11n}],...,[x_{1n1},...,x_{1nn}]],...,[[x_{n11},...,x_{n1n}],...,[x_{nn1},...,x_{nnn}]]] \\in \\mathcal{L}(\\mathcal{L}(\\mathcal{L}(X)))$:\n",
    "\n",
    "$$\n",
    "\\begin{align*}\n",
    "(flat\\circ flat)([[[x_{111},...,x_{11n}],...,[x_{1n1},...,x_{1nn}]],...,[[x_{n11},...,x_{n1n}],...,[x_{nn1},...,x_{nnn}]]]) &=  \\\\ \n",
    "flat(flat([[[x_{111},...,x_{11n}],...,[x_{1n1},...,x_{1nn}]],...,[[x_{n11},...,x_{n1n}],...,[x_{nn1},...,x_{nnn}]]])) &= \\\\\n",
    "flat([[x_{111},...,x_{11n}],...,[x_{1n1},...,x_{1nn}],...,[x_{n11},...,x_{n1n}],...,[x_{nn1},...,x_{nnn}]]) &= \\\\\n",
    "[x_{111},...,x_{11n},...,x_{1n1},...,x_{1nn},...,x_{n11},...,x_{n1n},...,x_{nn1},...,x_{nnn}] &= \\\\\n",
    "flat([[x_{111},...,x_{11n},...,x_{1n1},...,x_{1nn}],...,[x_{n11},...,x_{n1n},...,x_{nn1},...,x_{nnn}]]) &= \\\\\n",
    "flat([flat([[x_{111},...,x_{11n}],...,[x_{1n1},...,x_{1nn}]]),...,flat([[x_{n11},...,x_{n1n}],...,[x_{nn1},...,x_{nnn}]])]) &=\\\\\n",
    "flat(\\mathcal{L}(flat)([[[x_{111},...,x_{11n}],...,[x_{1n1},...,x_{1nn}]],...,[[x_{n11},...,x_{n1n}],...,[x_{nn1},...,x_{nnn}]]]))\n",
    "\\end{align*}\n",
    "$$\n",
    "\n",
    "This in combination with the proof in the book proves lemma 1.2.3 completely.\n",
    "\n",
    "## Powersets\n",
    "\n",
    "As stated in the book, a powerset of $X$ is a set that contains all subsets of $X$. This is accompanied with the following definition:\n",
    "\n",
    "$$\\mathcal{P}(X) := \\{U | U \\subseteq X\\}$$\n",
    "\n",
    "To make this a bit more clear a set $X$ containing all $x\\in\\mathbb{N}$ where $x\\leq n$ will be used to visualize as follows:"
   ]
  },
  {
   "cell_type": "code",
   "execution_count": 24,
   "metadata": {},
   "outputs": [
    {
     "data": {
      "application/vnd.jupyter.widget-view+json": {
       "model_id": "79af199c838947fb846ebf3964e446f2",
       "version_major": 2,
       "version_minor": 0
      },
      "text/plain": [
       "IntSlider(value=1, description='$n:=$', max=5)"
      ]
     },
     "metadata": {},
     "output_type": "display_data"
    },
    {
     "data": {
      "application/vnd.jupyter.widget-view+json": {
       "model_id": "b154428cabfd43978ecbf975106b779c",
       "version_major": 2,
       "version_minor": 0
      },
      "text/plain": [
       "Output()"
      ]
     },
     "metadata": {},
     "output_type": "display_data"
    }
   ],
   "source": [
    "import ipywidgets as w\n",
    "import IPython.display as d\n",
    "from itertools import chain, combinations\n",
    "\n",
    "isl = w.IntSlider(\n",
    "    value=1,\n",
    "    min=0,\n",
    "    max=5,\n",
    "    description='$n:=$'\n",
    ")\n",
    "\n",
    "def disp(x):\n",
    "    xSet, pxSetString, pxSet = \"\", \"\\{\", []\n",
    "    for x in range(x):\n",
    "        pxSet.append(x+1)\n",
    "        xSet += str(x+1) + \", \"\n",
    "    for s in powerset(pxSet):\n",
    "        pxSetString += \"\\{\"\n",
    "        for elem in s:\n",
    "            pxSetString += str(elem) + \", \"\n",
    "        pxSetString = pxSetString[:-2] + \"\\}, \"\n",
    "    d.display(d.Latex(r\"$X:=\\{\" + xSet[:-2] + \"\\}$\"))\n",
    "    d.display(d.Latex(r\"$\\mathcal{P}(X)=\\{\" + pxSetString[:-2] + \"\\}$\"))\n",
    "    \n",
    "def powerset(s):\n",
    "    power_set=[[]]\n",
    "    for elem in s:\n",
    "        for sub_set in power_set:\n",
    "            power_set=power_set+[list(sub_set)+[elem]]\n",
    "    return power_set\n",
    "    \n",
    "output = w.interactive_output(disp, {'x': isl})\n",
    "d.display(isl, output)"
   ]
  },
  {
   "cell_type": "markdown",
   "metadata": {},
   "source": [
    "Observe that the powerset of $\\varnothing$ (i.e. $\\{\\}$) is a set containing only $\\varnothing$ (i.e. $\\{\\{\\}\\}$). As the book states, we can create an commutative and idempotent monoid from the powerset functor: $(\\mathcal{P}(X),\\varnothing,\\cup)$. We have shown once before how to prove whether something is a monoid, so this will be skipped. What will be checked is whether it is indeed a commutative and idempotent monoid. For this to be the case the following equations should hold for all $a, b \\in \\mathcal{P}(X)$:\n",
    "\n",
    "* $a \\cup a = a$\n",
    "* $a \\cup b = b \\cup a$\n",
    "\n",
    "These equations obviously hold by definition of sets since sets do not contain duplicates and order within the set does not matter (i.e $\\{1,3,4,4\\} = \\{4,1,1,1,1,3\\}$). Let's quickly show this for $a:=\\{a_i | i \\in \\mathbb{N}\\}$ and $b:=\\{b_i | i \\in \\mathbb{N}\\}$:\n",
    "\n",
    "* $\\{a_1,a_2,...\\} \\cup \\{a_1,a_2,...\\} = \\{a_1,a_1,a_2,a_2,...\\} = \\{a_1,a_2,...\\} = a$\n",
    "* $\\{a_1,...,a_n\\} \\cup \\{b_1,...,b_n\\} = \\{a_1,...,a_n,b_1,...,b_n\\} = \\{b_1,...,b_n,a_1,...,a_n\\} = \\{b_1,...,b_n\\} \\cup \\{a_1,...,a_n\\}$\n",
    "\n",
    "In this case $n$ is equal to the biggest element in $\\mathbb{N}$."
   ]
  },
  {
   "cell_type": "markdown",
   "metadata": {},
   "source": [
    "## References\n",
    "</br></br>\n",
    "<div style=\"padding:3px\">\n",
    "    <h4 class=\"citation\" style=\"display:inline\">[1]</h4>\n",
    "    <span class=\"citation\"> Encyclopedia of Mathematics. (2012, March 6). Isomorphism. Retrieved 2 October 2019, from <a href =\"https://www.encyclopediaofmath.org/index.php/Isomorphism\">https://www.encyclopediaofmath.org/index.php/Isomorphism</a></span>\n",
    "</div>\n",
    "</br>\n",
    "<div style=\"padding:3px\">\n",
    "    <h4 class=\"citation\" style=\"display:inline\">[2]</h4>\n",
    "    <span class=\"citation\"> Weisstein, E. W. (n.d.). ‘Bijection’ MathWorld--A Wolfram Web Resource. Retrieved 2 October 2019, from <a href =\"http://mathworld.wolfram.com/Bijection.html\">http://mathworld.wolfram.com/Bijection.html</a></span>\n",
    "</div>\n",
    " "
   ]
  },
  {
   "cell_type": "code",
   "execution_count": null,
   "metadata": {},
   "outputs": [],
   "source": []
  }
 ],
 "metadata": {
  "kernelspec": {
   "display_name": "Python 3",
   "language": "python",
   "name": "python3"
  },
  "language_info": {
   "codemirror_mode": {
    "name": "ipython",
    "version": 3
   },
   "file_extension": ".py",
   "mimetype": "text/x-python",
   "name": "python",
   "nbconvert_exporter": "python",
   "pygments_lexer": "ipython3",
   "version": "3.6.6"
  }
 },
 "nbformat": 4,
 "nbformat_minor": 2
}
