{
 "cells": [
  {
   "cell_type": "markdown",
   "metadata": {},
   "source": [
    "# Predicates and Observables\n",
    "The following sections contain examples for the second chapter of the book.\n",
    "\n",
    "## Contents\n",
    "1. [Validity](#Validity)\n",
    "    1. [Simple biased coin game](#Simple-biased-coin-game)\n",
    "5. [Reasoning along channels](#Reasoning-along-channels)\n",
    "    1. [Capture and Recapture](#Capture-and-Recapture)"
   ]
  },
  {
   "cell_type": "markdown",
   "metadata": {},
   "source": [
    "# Validity\n",
    "## Simple biased coin game\n",
    "Recall example 2.1.4 from the book, this example will show calculations for the validity of a biased coin game. For the bias we will use the old definition of $flip$, namely: $flip(r):= r|H\\rangle + (1-r)|T\\rangle$ with an interchangeable parameter $r$:"
   ]
  },
  {
   "cell_type": "code",
   "execution_count": 1,
   "metadata": {},
   "outputs": [
    {
     "data": {
      "application/vnd.jupyter.widget-view+json": {
       "model_id": "a6a2d594dd784c57882a70149bdf083d",
       "version_major": 2,
       "version_minor": 0
      },
      "text/plain": [
       "Output()"
      ]
     },
     "metadata": {},
     "output_type": "display_data"
    },
    {
     "data": {
      "application/vnd.jupyter.widget-view+json": {
       "model_id": "da276272aa624483b558f7435bd776bf",
       "version_major": 2,
       "version_minor": 0
      },
      "text/plain": [
       "FloatSlider(value=0.3, description='$$r=$$', max=1.01, step=0.01)"
      ]
     },
     "metadata": {},
     "output_type": "display_data"
    }
   ],
   "source": [
    "from ipywidgets import interactive_output, FloatSlider\n",
    "import IPython.display as d\n",
    "from efprob import *\n",
    "from decimal import Decimal as D\n",
    "\n",
    "sbcga_rSlider = FloatSlider(\n",
    "    value=0.3,\n",
    "    min=0,\n",
    "    max=1.01,\n",
    "    step=0.01,\n",
    "    description='$$r=$$'\n",
    ")\n",
    "\n",
    "sbcga_wl = Predicate([100, -50], coin_sp)\n",
    "\n",
    "def sbcga_disp(r):\n",
    "    coin = flip(r, coin_sp)\n",
    "    initial = \"flip(\" + str(r) + r\") \\models v\"\n",
    "    abstract_sum = r\"\\Sigma_x flip(\" + str(r) + r\")(x) \\cdot v(x)\"\n",
    "    unfolded_sum = r\"flip(\" + str(r) + r\")(0) \\cdot v(0) + flip(\" + str(r) + r\")(1) \\cdot v(1)\"\n",
    "    actual_sum = str(1-r) + r\"\\cdot -50 + \" + str(r) + r\"\\cdot 100 = \" + str((1-r)*-50) + \" + \" + str(r*100)\n",
    "    final = str(coin.expectation(sbcga_wl))\n",
    "    d.display(d.Latex(r\"$\\begin{align*} \" + initial + r\" &= \" + \n",
    "                      abstract_sum + r\"\\\\ &= \" + \n",
    "                      unfolded_sum + r\"\\\\ &= \" + \n",
    "                      actual_sum + r\"\\\\ &= \" + \n",
    "                      final + r\"\\end{align*}$\"))\n",
    "    \n",
    "    \n",
    "\n",
    "d.display(interactive_output(sbcga_disp, {'r': sbcga_rSlider}), sbcga_rSlider)"
   ]
  },
  {
   "cell_type": "markdown",
   "metadata": {},
   "source": [
    "As is obvious, increasing the chance of throwing heads on the biased coin flip increases our long term validity. Let's now change around what the cost of losing and the reward of winning is."
   ]
  },
  {
   "cell_type": "code",
   "execution_count": 2,
   "metadata": {},
   "outputs": [
    {
     "data": {
      "application/vnd.jupyter.widget-view+json": {
       "model_id": "a9d54ac10a0042c1bbd0b32af24a5c35",
       "version_major": 2,
       "version_minor": 0
      },
      "text/plain": [
       "Output()"
      ]
     },
     "metadata": {},
     "output_type": "display_data"
    },
    {
     "data": {
      "application/vnd.jupyter.widget-view+json": {
       "model_id": "c66e556234f84f7cbfa6f7ff351a95cb",
       "version_major": 2,
       "version_minor": 0
      },
      "text/plain": [
       "FloatSlider(value=0.3, description='$$r=$$', max=1.01, step=0.01)"
      ]
     },
     "metadata": {},
     "output_type": "display_data"
    },
    {
     "data": {
      "application/vnd.jupyter.widget-view+json": {
       "model_id": "b4b14f88254445a5bbce963b7c571c0f",
       "version_major": 2,
       "version_minor": 0
      },
      "text/plain": [
       "IntSlider(value=100, description='$$v(H)=$$', max=400, min=50)"
      ]
     },
     "metadata": {},
     "output_type": "display_data"
    },
    {
     "data": {
      "application/vnd.jupyter.widget-view+json": {
       "model_id": "bb5ad926abf64d0aa327339b8991153b",
       "version_major": 2,
       "version_minor": 0
      },
      "text/plain": [
       "IntSlider(value=50, description='$$-v(T)=$$', max=300, min=25)"
      ]
     },
     "metadata": {},
     "output_type": "display_data"
    }
   ],
   "source": [
    "from ipywidgets import interactive_output, FloatSlider, IntSlider\n",
    "import IPython.display as d\n",
    "from efprob import *\n",
    "\n",
    "sbcgb_rSlider = FloatSlider(\n",
    "    value=0.3,\n",
    "    min=0,\n",
    "    max=1.01,\n",
    "    step=0.01,\n",
    "    description='$$r=$$'\n",
    ")\n",
    "\n",
    "sbcgb_xSlider = IntSlider(\n",
    "    value=100,\n",
    "    min=50,\n",
    "    max=400,\n",
    "    description='$$v(H)=$$'\n",
    ")\n",
    "\n",
    "sbcgb_ySlider = IntSlider(\n",
    "    value=50,\n",
    "    min=25,\n",
    "    max=300,\n",
    "    description='$$-v(T)=$$'\n",
    ")\n",
    "\n",
    "def sbcgb_disp(r, x, y):\n",
    "    coin = flip(r, coin_sp)\n",
    "    wl = Predicate([x, -y], coin_sp)\n",
    "    initial = \"flip(\" + str(r) + r\") \\models v\"\n",
    "    abstract_sum = r\"\\Sigma_x flip(\" + str(r) + r\")(x) \\cdot v(x)\"\n",
    "    unfolded_sum = r\"flip(\" + str(r) + r\")(0) \\cdot v(0) + flip(\" + str(r) + r\")(1) \\cdot v(1)\"\n",
    "    actual_sum = str(1-r) + r\"\\cdot -\" +  str(y) + \" + \" + str(r) + r\"\\cdot \" + str(x) + \" = \" + str((1-r)*-y) + \" + \" + str(r*x)\n",
    "    final = str(coin.expectation(wl))\n",
    "    d.display(d.Latex(r\"$\\begin{align*} \" + initial + r\" &= \" + \n",
    "                      abstract_sum + r\"\\\\ &= \" + \n",
    "                      unfolded_sum + r\"\\\\ &= \" + \n",
    "                      actual_sum + r\"\\\\ &= \" + \n",
    "                      final + r\"\\end{align*}$\"))\n",
    "    \n",
    "\n",
    "d.display(interactive_output(sbcgb_disp, {'r': sbcgb_rSlider, 'x': sbcgb_xSlider, 'y': sbcgb_ySlider}), sbcgb_rSlider, sbcgb_xSlider, sbcgb_ySlider)"
   ]
  },
  {
   "cell_type": "markdown",
   "metadata": {},
   "source": [
    "Using this we could in theory check for every possible biased dice game what the reward should be for winning for a given cost of losing. For example let's say as a minimum we'd like our validity to be at least $5$, then if the coin lands on heads one in four times and we lose $50$ for tails, the reward for winning should be equal to or higher than $170$. If the cost of a loss is $100$ in this case the minimum winnings should be $320$."
   ]
  },
  {
   "cell_type": "markdown",
   "metadata": {},
   "source": [
    "# Reasoning along channels\n",
    "## Capture and Recapture\n",
    "Recall example 2.5.6 from the book about the capture and recapture of fish in a pond to estimate the amount of fish. In this example we had the following prior state $v_F$ for set $F$:\n",
    "\n",
    "$$v_F = \\sum_{x\\in F}\\tfrac{1}{29}|x\\rangle \\ \\ \\ \\ \\text{for} \\ \\ \\ \\ F = \\{20,30,40,50,...,300\\}$$\n",
    "\n",
    "In the example we first catch $20$ fish, mark them, throw them back, and catch another $20$ fish to check whether they are marked. Here, we parameterize this with $N$, thus $N$ stands for the number of captures and recaptures. Next, we parameterize the amount of those recaptured fish that are marked with $f$. Then we get the new parameterized channel $c$:\n",
    "\n",
    "$$ c(i) := binom[N]\\left(\\frac{i}{N}\\right) = \\sum_{n\\in N+1} \\left(\\begin{matrix} N \\\\ n \\end{matrix}\\right) \\cdot \\left(\\frac{i}{N}\\right)^n \\cdot \\left(\\frac{N-i}{N}\\right)^{N-n}|n\\rangle $$\n",
    "\n",
    "And the new point predicate:\n",
    "\n",
    "$$\\textbf{1}_f \\in Pred(N + 1) $$\n",
    "\n",
    "Which we'll combine and call $e$ as follows:\n",
    "\n",
    "$$e = c \\ll \\textbf{1}_f $$\n",
    "\n",
    "Of course when we parameterize the amount of fish we catch, the minimum amount of fish in the lake changes. To take this into account we need to also parameterize the prior state $v_F$ and set $F$:\n",
    "\n",
    "$$ F = \\{N, N+10, N+20, ..., 300\\} \\ \\ \\ \\ \\text{with} \\ \\ \\ \\ v_F = \\sum_{x\\in F}\\tfrac{1}{|F|}|x\\rangle $$\n",
    "\n",
    "In which $|F|$ means the cardinality of $F$ (i.e. the amount of elements in $F$), since it needs to be a uniform state. We can now assign several values to $N$ and $f$, $N$ is limited to values between $20$ and $150$ and $f$ is limited to values between $0$ and $N$."
   ]
  },
  {
   "cell_type": "code",
   "execution_count": 3,
   "metadata": {},
   "outputs": [
    {
     "data": {
      "application/vnd.jupyter.widget-view+json": {
       "model_id": "7b2223fec359450d8e0ad898b2cb857d",
       "version_major": 2,
       "version_minor": 0
      },
      "text/plain": [
       "VBox(children=(interactive(children=(IntSlider(value=20, description='$$N=$$', max=150, min=20, step=10), IntS…"
      ]
     },
     "metadata": {},
     "output_type": "display_data"
    },
    {
     "data": {
      "application/vnd.jupyter.widget-view+json": {
       "model_id": "4f1165b2125043c78998c44df35f48a5",
       "version_major": 2,
       "version_minor": 0
      },
      "text/plain": [
       "Output()"
      ]
     },
     "metadata": {},
     "output_type": "display_data"
    }
   ],
   "source": [
    "from ipywidgets import interactive_output, FloatSlider, IntSlider\n",
    "import IPython.display as d\n",
    "import numpy as np\n",
    "import nbinteract as nbi\n",
    "from efprob import *\n",
    "\n",
    "car_NSlider = IntSlider(\n",
    "    value=20,\n",
    "    min=20,\n",
    "    step=10,\n",
    "    max=150,\n",
    "    description='$$N=$$'\n",
    ")\n",
    "\n",
    "car_fSlider = IntSlider(\n",
    "    value=5,\n",
    "    min=0,\n",
    "    max=car_NSlider.value,\n",
    "    description='$$f=$$'\n",
    ")\n",
    "\n",
    "car_bar_options = {\n",
    "    'title': 'Posterior distribution',\n",
    "    'ylabel': 'Chance in decimal for being the number of fish',\n",
    "    'aspect_ratio': 6.5\n",
    "}\n",
    "\n",
    "def car_calc_post(N, f):\n",
    "    if f > N:\n",
    "        f = N\n",
    "    fish_sp = Space(None, [10 * i for i in range(int(N/10), 31)])\n",
    "    prior = uniform_state(fish_sp)\n",
    "    chan = chan_fromklmap(lambda d: binomial(N)(N/d), fish_sp, range_sp(N+1))\n",
    "    posterior = prior / (chan << point_pred(f, range_sp(N+1)))\n",
    "    return posterior\n",
    "\n",
    "def car_disp_explanation(N, f):\n",
    "    if f > N:\n",
    "        f = N\n",
    "    fish_sp = Space(None, [10 * i for i in range(int(N/10), 31)])\n",
    "    prior = uniform_state(fish_sp)\n",
    "    chan = chan_fromklmap(lambda d: binomial(N)(N/d), fish_sp, range_sp(N+1))\n",
    "    posterior = prior / (chan << point_pred(f, range_sp(N+1)))\n",
    "    \n",
    "    d.display(d.Latex(r\"$e = c\\ll\\textbf{1}_{\" + str(f) + \"}$\"))\n",
    "    evidence_predicate = \"\"\n",
    "    e = chan << point_pred(f, range_sp(N+1))\n",
    "\n",
    "    for (i, x) in enumerate(e.array):\n",
    "        if i % 5 == 0 and i != 0:\n",
    "            evidence_predicate += r\"\\\\ \"\n",
    "        evidence_predicate += str(e.sp[0].list[i]) + r\":\\ \" + str(x)\n",
    "        if (i+1) % 5 != 0:\n",
    "            evidence_predicate += r\" & \"\n",
    "    d.display(d.Latex(r'''${\\scriptstyle e(x)=\\left\\{\n",
    "                \\begin{array}{lllll}''' +\n",
    "                evidence_predicate +  \n",
    "                r'''\\end{array}\n",
    "              \\right.}$'''))\n",
    "    d.display(d.Latex(r\"$v_F\\big|_{e} = \\sum_x \\frac{v_F(x)\\cdot e(x)}{v_F\\ \\models\\ e}|x\\rangle\" +\n",
    "                        r\" = \\sum_x \\frac{v_F(x)\\cdot e(x)}{\" + str(prior.expectation(e)) + r\"}|x\\rangle$\"))\n",
    "    \n",
    "def car_disp(N, f):\n",
    "    d.clear_output()\n",
    "    if f > N:\n",
    "        car_fSlider.value = N\n",
    "    car_fSlider.max = N\n",
    "    \n",
    "    posterior = car_calc_post(N,f)\n",
    "    car_disp_explanation(N, f)\n",
    "    d.display(d.Latex(r\"$mean\\left(v_F\\big|_{e}\\right) = \" + str(posterior.expectation()) +  \"$\"))\n",
    "    \n",
    "d.display(nbi.bar([10 * i for i in range(2, 31)], \n",
    "                  (lambda _, n, f: np.append([0 for i in range(2, int(n/10))], car_calc_post(n,f).array)),\n",
    "                  n=car_NSlider, f=car_fSlider, options=car_bar_options))\n",
    "d.display(interactive_output(car_disp, {'N': car_NSlider, 'f': car_fSlider}))\n"
   ]
  },
  {
   "cell_type": "markdown",
   "metadata": {},
   "source": [
    "The values of $v_F\\big|_e$ can be read from the graph or calculated manually if desired. We will show a couple calculations for some values of $x$ and $f$ and $N=20$. This calculation first uses the definition of conditioning (definition 2.3.1), to transform it to the sum. Then simply calculates the validity (as seen in definition 2.1.2), and reads the values from $v_F(x)$ and $e(x)$ from their definitions as given here.\n",
    "\n",
    "For $f = 5$:\n",
    "\n",
    "$$\\frac{v_F(110)\\cdot e(110)}{0.06673395224464566}|110\\rangle = \\frac{\\tfrac{1}{29}\\cdot 0.15183702170684343}{0.06673395224464566}|110\\rangle = 0.07845720496 \\ \\ \\text{for} \\ x = 110$$\n",
    "\n",
    "$$\\frac{v_F(80)\\cdot e(80)}{0.06673395224464566}|80\\rangle = \\frac{\\tfrac{1}{29}\\cdot 0.2023311518569244}{0.06673395224464566}|80\\rangle = 0.10454852494 \\ \\ \\text{for} \\ x = 80$$\n",
    "\n",
    "Which gives us an $\\approx20\\%$ chance that there are $80$ fish and an $\\approx15\\%$ chance for there to be $110$.\n",
    "\n",
    "For $f = 10$:\n",
    "\n",
    "$$\\frac{v_F(40)\\cdot e(40)}{0.015290665594405636}|80\\rangle = \\frac{\\tfrac{1}{29}\\cdot 0.17619705200195312}{0.015290665594405636}|40\\rangle = 0.39735094436 \\ \\ \\text{for} \\ x = 40$$\n",
    "\n",
    "$$\\frac{v_F(80)\\cdot e(80)}{0.015290665594405636}|80\\rangle = \\frac{\\tfrac{1}{29}\\cdot 0.009922275279677706}{0.015290665594405636}|80\\rangle = 0.02237622825 \\ \\ \\text{for} \\ x = 80$$\n",
    "\n",
    "Which gives us an $\\approx18\\%$ chance that there are $40$ fish and an $\\approx1\\%$ chance for there to be $80$."
   ]
  }
 ],
 "metadata": {
  "kernelspec": {
   "display_name": "Python 3",
   "language": "python",
   "name": "python3"
  },
  "language_info": {
   "codemirror_mode": {
    "name": "ipython",
    "version": 3
   },
   "file_extension": ".py",
   "mimetype": "text/x-python",
   "name": "python",
   "nbconvert_exporter": "python",
   "pygments_lexer": "ipython3",
   "version": "3.7.3"
  }
 },
 "nbformat": 4,
 "nbformat_minor": 2
}
