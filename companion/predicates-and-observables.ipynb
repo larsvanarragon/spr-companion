{
 "cells": [
  {
   "cell_type": "code",
   "execution_count": null,
   "metadata": {},
   "outputs": [],
   "source": []
  },
  {
   "cell_type": "markdown",
   "metadata": {},
   "source": [
    "## Simple biased coin game"
   ]
  },
  {
   "cell_type": "code",
   "execution_count": 9,
   "metadata": {},
   "outputs": [
    {
     "data": {
      "application/vnd.jupyter.widget-view+json": {
       "model_id": "5211a37eb9a74a3fb5a8b05d403f76c0",
       "version_major": 2,
       "version_minor": 0
      },
      "text/plain": [
       "Output()"
      ]
     },
     "metadata": {},
     "output_type": "display_data"
    },
    {
     "data": {
      "application/vnd.jupyter.widget-view+json": {
       "model_id": "a52609ceb0254331aae4c288d8b3eb9d",
       "version_major": 2,
       "version_minor": 0
      },
      "text/plain": [
       "FloatSlider(value=0.3, description='$$r=$$', max=1.01, step=0.01)"
      ]
     },
     "metadata": {},
     "output_type": "display_data"
    }
   ],
   "source": [
    "from ipywidgets import interactive_output, FloatSlider\n",
    "import IPython.display as d\n",
    "from efprob import *\n",
    "\n",
    "sbcga_rSlider = FloatSlider(\n",
    "    value=0.3,\n",
    "    min=0,\n",
    "    max=1.01,\n",
    "    step=0.01,\n",
    "    description='$$r=$$'\n",
    ")\n",
    "\n",
    "sbcga_wl = Predicate([100, -50], coin_sp)\n",
    "\n",
    "def sbcga_disp(r):\n",
    "    coin = flip(r, coin_sp)\n",
    "    d.display(d.Latex(\"$flip(\" + str(r) + \") \\models v = \" + str(coin.expectation(sbcga_wl)) + \"$\"))\n",
    "    \n",
    "\n",
    "d.display(interactive_output(sbcga_disp, {'r': sbcga_rSlider}), sbcga_rSlider)"
   ]
  },
  {
   "cell_type": "code",
   "execution_count": 15,
   "metadata": {},
   "outputs": [
    {
     "data": {
      "application/vnd.jupyter.widget-view+json": {
       "model_id": "81581c1577cb4dfd9f092f7ccc9c1df9",
       "version_major": 2,
       "version_minor": 0
      },
      "text/plain": [
       "Output()"
      ]
     },
     "metadata": {},
     "output_type": "display_data"
    },
    {
     "data": {
      "application/vnd.jupyter.widget-view+json": {
       "model_id": "0e79625b07144700b04a8552f3c01a53",
       "version_major": 2,
       "version_minor": 0
      },
      "text/plain": [
       "FloatSlider(value=0.3, description='$$r=$$', max=1.01, step=0.01)"
      ]
     },
     "metadata": {},
     "output_type": "display_data"
    },
    {
     "data": {
      "application/vnd.jupyter.widget-view+json": {
       "model_id": "19f1d408717b4f628aaa86873a348026",
       "version_major": 2,
       "version_minor": 0
      },
      "text/plain": [
       "IntSlider(value=100, description='$$v(H)=$$', max=300, min=50)"
      ]
     },
     "metadata": {},
     "output_type": "display_data"
    },
    {
     "data": {
      "application/vnd.jupyter.widget-view+json": {
       "model_id": "2eb106ae3279401184e82a362104f3aa",
       "version_major": 2,
       "version_minor": 0
      },
      "text/plain": [
       "IntSlider(value=50, description='$$-v(T)=$$', max=300, min=25)"
      ]
     },
     "metadata": {},
     "output_type": "display_data"
    }
   ],
   "source": [
    "from ipywidgets import interactive_output, FloatSlider, IntSlider\n",
    "import IPython.display as d\n",
    "from efprob import *\n",
    "\n",
    "sbcgb_rSlider = FloatSlider(\n",
    "    value=0.3,\n",
    "    min=0,\n",
    "    max=1.01,\n",
    "    step=0.01,\n",
    "    description='$$r=$$'\n",
    ")\n",
    "\n",
    "sbcgb_xSlider = IntSlider(\n",
    "    value=100,\n",
    "    min=50,\n",
    "    max=300,\n",
    "    description='$$v(H)=$$'\n",
    ")\n",
    "\n",
    "sbcgb_ySlider = IntSlider(\n",
    "    value=50,\n",
    "    min=25,\n",
    "    max=300,\n",
    "    description='$$-v(T)=$$'\n",
    ")\n",
    "\n",
    "def sbcgb_disp(r, x, y):\n",
    "    coin = flip(r, coin_sp)\n",
    "    wl = Predicate([x, -y], coin_sp)\n",
    "    d.display(d.Latex(\"$flip(\" + str(r) + \") \\models v = \" + str(coin.expectation(wl)) + \"$\"))\n",
    "    \n",
    "\n",
    "d.display(interactive_output(sbcgb_disp, {'r': sbcgb_rSlider, 'x': sbcgb_xSlider, 'y': sbcgb_ySlider}), sbcgb_rSlider, sbcgb_xSlider, sbcgb_ySlider)"
   ]
  },
  {
   "cell_type": "code",
   "execution_count": null,
   "metadata": {},
   "outputs": [],
   "source": []
  }
 ],
 "metadata": {
  "kernelspec": {
   "display_name": "Python 3",
   "language": "python",
   "name": "python3"
  },
  "language_info": {
   "codemirror_mode": {
    "name": "ipython",
    "version": 3
   },
   "file_extension": ".py",
   "mimetype": "text/x-python",
   "name": "python",
   "nbconvert_exporter": "python",
   "pygments_lexer": "ipython3",
   "version": "3.6.6"
  }
 },
 "nbformat": 4,
 "nbformat_minor": 2
}
